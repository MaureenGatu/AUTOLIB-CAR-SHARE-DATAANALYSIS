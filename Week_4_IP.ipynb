{
  "nbformat": 4,
  "nbformat_minor": 0,
  "metadata": {
    "colab": {
      "name": "Week 4 IP.ipynb",
      "provenance": [],
      "collapsed_sections": [],
      "include_colab_link": true
    },
    "kernelspec": {
      "name": "python3",
      "display_name": "Python 3"
    },
    "language_info": {
      "name": "python"
    }
  },
  "cells": [
    {
      "cell_type": "markdown",
      "metadata": {
        "id": "view-in-github",
        "colab_type": "text"
      },
      "source": [
        "<a href=\"https://colab.research.google.com/github/MaureenGatu/AUTOLIB-CAR-SHARE-DATAANALYSIS/blob/main/Week_4_IP.ipynb\" target=\"_parent\"><img src=\"https://colab.research.google.com/assets/colab-badge.svg\" alt=\"Open In Colab\"/></a>"
      ]
    },
    {
      "cell_type": "markdown",
      "metadata": {
        "id": "cz_BJfw-lTZm"
      },
      "source": [
        "## **Importing Python Libralies**"
      ]
    },
    {
      "cell_type": "code",
      "metadata": {
        "id": "tU0MvNVMlSdK"
      },
      "source": [
        "import pandas as pd\n",
        "import numpy as np"
      ],
      "execution_count": 2,
      "outputs": []
    },
    {
      "cell_type": "markdown",
      "metadata": {
        "id": "OhNomKR2lRii"
      },
      "source": [
        "# **Uploading the dataset**"
      ]
    },
    {
      "cell_type": "code",
      "metadata": {
        "id": "V5YPJIHQ0qsn"
      },
      "source": [
        "#Upload table\n",
        "df = pd.read_csv('/content/Autolib_dataset (2).csv')\n"
      ],
      "execution_count": 3,
      "outputs": []
    },
    {
      "cell_type": "code",
      "metadata": {
        "colab": {
          "base_uri": "https://localhost:8080/",
          "height": 443
        },
        "id": "xBbmd_yYlzsP",
        "outputId": "30d73fc3-2bf1-4b21-fe98-6d60801c9a35"
      },
      "source": [
        "#previewing the table\n",
        "df.head(5)"
      ],
      "execution_count": 4,
      "outputs": [
        {
          "output_type": "execute_result",
          "data": {
            "text/html": [
              "<div>\n",
              "<style scoped>\n",
              "    .dataframe tbody tr th:only-of-type {\n",
              "        vertical-align: middle;\n",
              "    }\n",
              "\n",
              "    .dataframe tbody tr th {\n",
              "        vertical-align: top;\n",
              "    }\n",
              "\n",
              "    .dataframe thead th {\n",
              "        text-align: right;\n",
              "    }\n",
              "</style>\n",
              "<table border=\"1\" class=\"dataframe\">\n",
              "  <thead>\n",
              "    <tr style=\"text-align: right;\">\n",
              "      <th></th>\n",
              "      <th>Address</th>\n",
              "      <th>Cars</th>\n",
              "      <th>Bluecar counter</th>\n",
              "      <th>Utilib counter</th>\n",
              "      <th>Utilib 1.4 counter</th>\n",
              "      <th>Charge Slots</th>\n",
              "      <th>Charging Status</th>\n",
              "      <th>City</th>\n",
              "      <th>Displayed comment</th>\n",
              "      <th>ID</th>\n",
              "      <th>Kind</th>\n",
              "      <th>Geo point</th>\n",
              "      <th>Postal code</th>\n",
              "      <th>Public name</th>\n",
              "      <th>Rental status</th>\n",
              "      <th>Scheduled at</th>\n",
              "      <th>Slots</th>\n",
              "      <th>Station type</th>\n",
              "      <th>Status</th>\n",
              "      <th>Subscription status</th>\n",
              "      <th>year</th>\n",
              "      <th>month</th>\n",
              "      <th>day</th>\n",
              "      <th>hour</th>\n",
              "      <th>minute</th>\n",
              "    </tr>\n",
              "  </thead>\n",
              "  <tbody>\n",
              "    <tr>\n",
              "      <th>0</th>\n",
              "      <td>2 Avenue de Suffren</td>\n",
              "      <td>0</td>\n",
              "      <td>0</td>\n",
              "      <td>0</td>\n",
              "      <td>0</td>\n",
              "      <td>0</td>\n",
              "      <td>nonexistent</td>\n",
              "      <td>Paris</td>\n",
              "      <td>NaN</td>\n",
              "      <td>paris-suffren-2</td>\n",
              "      <td>STATION</td>\n",
              "      <td>48.857, 2.2917</td>\n",
              "      <td>75015</td>\n",
              "      <td>Paris/Suffren/2</td>\n",
              "      <td>operational</td>\n",
              "      <td>NaN</td>\n",
              "      <td>2</td>\n",
              "      <td>station</td>\n",
              "      <td>ok</td>\n",
              "      <td>nonexistent</td>\n",
              "      <td>2018</td>\n",
              "      <td>4</td>\n",
              "      <td>8</td>\n",
              "      <td>11</td>\n",
              "      <td>43</td>\n",
              "    </tr>\n",
              "    <tr>\n",
              "      <th>1</th>\n",
              "      <td>145 Rue Raymond Losserand</td>\n",
              "      <td>6</td>\n",
              "      <td>6</td>\n",
              "      <td>0</td>\n",
              "      <td>0</td>\n",
              "      <td>0</td>\n",
              "      <td>operational</td>\n",
              "      <td>Paris</td>\n",
              "      <td>NaN</td>\n",
              "      <td>paris-raymondlosserand-145</td>\n",
              "      <td>STATION</td>\n",
              "      <td>48.83126, 2.313088</td>\n",
              "      <td>75014</td>\n",
              "      <td>Paris/Raymond Losserand/145</td>\n",
              "      <td>operational</td>\n",
              "      <td>NaN</td>\n",
              "      <td>0</td>\n",
              "      <td>station</td>\n",
              "      <td>ok</td>\n",
              "      <td>nonexistent</td>\n",
              "      <td>2018</td>\n",
              "      <td>4</td>\n",
              "      <td>6</td>\n",
              "      <td>7</td>\n",
              "      <td>24</td>\n",
              "    </tr>\n",
              "    <tr>\n",
              "      <th>2</th>\n",
              "      <td>2 Avenue John Fitzgerald Kennedy</td>\n",
              "      <td>3</td>\n",
              "      <td>3</td>\n",
              "      <td>0</td>\n",
              "      <td>2</td>\n",
              "      <td>0</td>\n",
              "      <td>operational</td>\n",
              "      <td>Le Bourget</td>\n",
              "      <td>NaN</td>\n",
              "      <td>lebourget-johnfitzgeraldkennedy-2</td>\n",
              "      <td>STATION</td>\n",
              "      <td>48.938103, 2.4286035</td>\n",
              "      <td>93350</td>\n",
              "      <td>Le Bourget/John Fitzgerald Kennedy/2</td>\n",
              "      <td>operational</td>\n",
              "      <td>NaN</td>\n",
              "      <td>1</td>\n",
              "      <td>station</td>\n",
              "      <td>ok</td>\n",
              "      <td>nonexistent</td>\n",
              "      <td>2018</td>\n",
              "      <td>4</td>\n",
              "      <td>3</td>\n",
              "      <td>20</td>\n",
              "      <td>14</td>\n",
              "    </tr>\n",
              "    <tr>\n",
              "      <th>3</th>\n",
              "      <td>51 Rue EugÃ¨ne OudinÃ©</td>\n",
              "      <td>3</td>\n",
              "      <td>3</td>\n",
              "      <td>1</td>\n",
              "      <td>0</td>\n",
              "      <td>1</td>\n",
              "      <td>operational</td>\n",
              "      <td>Paris</td>\n",
              "      <td>NaN</td>\n",
              "      <td>paris-eugeneoudine-51</td>\n",
              "      <td>STATION</td>\n",
              "      <td>48.8250327, 2.3725162</td>\n",
              "      <td>75013</td>\n",
              "      <td>Paris/EugÃ¨ne OudinÃ©/51</td>\n",
              "      <td>operational</td>\n",
              "      <td>NaN</td>\n",
              "      <td>2</td>\n",
              "      <td>station</td>\n",
              "      <td>ok</td>\n",
              "      <td>nonexistent</td>\n",
              "      <td>2018</td>\n",
              "      <td>4</td>\n",
              "      <td>4</td>\n",
              "      <td>4</td>\n",
              "      <td>37</td>\n",
              "    </tr>\n",
              "    <tr>\n",
              "      <th>4</th>\n",
              "      <td>6 avenue de la Porte de Champerret</td>\n",
              "      <td>3</td>\n",
              "      <td>3</td>\n",
              "      <td>0</td>\n",
              "      <td>0</td>\n",
              "      <td>0</td>\n",
              "      <td>nonexistent</td>\n",
              "      <td>Paris</td>\n",
              "      <td>NaN</td>\n",
              "      <td>paris-portedechamperret-6</td>\n",
              "      <td>PARKING</td>\n",
              "      <td>48.8862632, 2.2874511</td>\n",
              "      <td>75017</td>\n",
              "      <td>Paris/Porte de Champerret/6</td>\n",
              "      <td>operational</td>\n",
              "      <td>NaN</td>\n",
              "      <td>3</td>\n",
              "      <td>station</td>\n",
              "      <td>ok</td>\n",
              "      <td>nonexistent</td>\n",
              "      <td>2018</td>\n",
              "      <td>4</td>\n",
              "      <td>8</td>\n",
              "      <td>17</td>\n",
              "      <td>23</td>\n",
              "    </tr>\n",
              "  </tbody>\n",
              "</table>\n",
              "</div>"
            ],
            "text/plain": [
              "                              Address  Cars  Bluecar counter  ...  day  hour  minute\n",
              "0                 2 Avenue de Suffren     0                0  ...    8    11      43\n",
              "1           145 Rue Raymond Losserand     6                6  ...    6     7      24\n",
              "2    2 Avenue John Fitzgerald Kennedy     3                3  ...    3    20      14\n",
              "3              51 Rue EugÃ¨ne OudinÃ©     3                3  ...    4     4      37\n",
              "4  6 avenue de la Porte de Champerret     3                3  ...    8    17      23\n",
              "\n",
              "[5 rows x 25 columns]"
            ]
          },
          "metadata": {
            "tags": []
          },
          "execution_count": 4
        }
      ]
    },
    {
      "cell_type": "code",
      "metadata": {
        "colab": {
          "base_uri": "https://localhost:8080/"
        },
        "id": "TetGxmWNvZdU",
        "outputId": "ccfea55a-6bb4-4a12-b314-df7feef34b67"
      },
      "source": [
        "#shape of dataframe\n",
        "df.shape"
      ],
      "execution_count": 5,
      "outputs": [
        {
          "output_type": "execute_result",
          "data": {
            "text/plain": [
              "(5000, 25)"
            ]
          },
          "metadata": {
            "tags": []
          },
          "execution_count": 5
        }
      ]
    },
    {
      "cell_type": "code",
      "metadata": {
        "colab": {
          "base_uri": "https://localhost:8080/"
        },
        "id": "zw4eI-r5c_RW",
        "outputId": "9732dbde-7935-47f4-b986-739c7044fda4"
      },
      "source": [
        "# retrieving information about our dataset\n",
        "df.info()"
      ],
      "execution_count": 6,
      "outputs": [
        {
          "output_type": "stream",
          "text": [
            "<class 'pandas.core.frame.DataFrame'>\n",
            "RangeIndex: 5000 entries, 0 to 4999\n",
            "Data columns (total 25 columns):\n",
            " #   Column               Non-Null Count  Dtype \n",
            "---  ------               --------------  ----- \n",
            " 0   Address              5000 non-null   object\n",
            " 1   Cars                 5000 non-null   int64 \n",
            " 2   Bluecar counter      5000 non-null   int64 \n",
            " 3   Utilib counter       5000 non-null   int64 \n",
            " 4   Utilib 1.4 counter   5000 non-null   int64 \n",
            " 5   Charge Slots         5000 non-null   int64 \n",
            " 6   Charging Status      5000 non-null   object\n",
            " 7   City                 5000 non-null   object\n",
            " 8   Displayed comment    111 non-null    object\n",
            " 9   ID                   5000 non-null   object\n",
            " 10  Kind                 5000 non-null   object\n",
            " 11  Geo point            5000 non-null   object\n",
            " 12  Postal code          5000 non-null   int64 \n",
            " 13  Public name          5000 non-null   object\n",
            " 14  Rental status        5000 non-null   object\n",
            " 15  Scheduled at         47 non-null     object\n",
            " 16  Slots                5000 non-null   int64 \n",
            " 17  Station type         5000 non-null   object\n",
            " 18  Status               5000 non-null   object\n",
            " 19  Subscription status  5000 non-null   object\n",
            " 20  year                 5000 non-null   int64 \n",
            " 21  month                5000 non-null   int64 \n",
            " 22  day                  5000 non-null   int64 \n",
            " 23  hour                 5000 non-null   int64 \n",
            " 24  minute               5000 non-null   int64 \n",
            "dtypes: int64(12), object(13)\n",
            "memory usage: 976.7+ KB\n"
          ],
          "name": "stdout"
        }
      ]
    },
    {
      "cell_type": "markdown",
      "metadata": {
        "id": "qWKrnumEmEBK"
      },
      "source": [
        "# **Data Cleaning**"
      ]
    },
    {
      "cell_type": "markdown",
      "metadata": {
        "id": "B2XHwxDwrHaQ"
      },
      "source": [
        "Data Validation"
      ]
    },
    {
      "cell_type": "code",
      "metadata": {
        "id": "9_PwKxfk2atb"
      },
      "source": [
        "#Drop Geo point as it not used for the study\n",
        "#Drop Scheduled and Displayed comments as they ere not required for the study \n",
        "#also have a lot of missing information\n",
        "#Drop cars, the column is redundant since cars is always equal to Bluecar Counter\n",
        "to_drop = ['Geo point','Scheduled at','Displayed comment','Cars', 'Address','ID','minute']\n",
        "df.drop(to_drop, axis = 1,inplace = True)"
      ],
      "execution_count": 7,
      "outputs": []
    },
    {
      "cell_type": "code",
      "metadata": {
        "colab": {
          "base_uri": "https://localhost:8080/",
          "height": 356
        },
        "id": "calF0Tn23qxN",
        "outputId": "32925246-45f8-4f9e-b808-0bf5a6e33633"
      },
      "source": [
        "#preveiwing the table\n",
        "df.head(5)"
      ],
      "execution_count": 8,
      "outputs": [
        {
          "output_type": "execute_result",
          "data": {
            "text/html": [
              "<div>\n",
              "<style scoped>\n",
              "    .dataframe tbody tr th:only-of-type {\n",
              "        vertical-align: middle;\n",
              "    }\n",
              "\n",
              "    .dataframe tbody tr th {\n",
              "        vertical-align: top;\n",
              "    }\n",
              "\n",
              "    .dataframe thead th {\n",
              "        text-align: right;\n",
              "    }\n",
              "</style>\n",
              "<table border=\"1\" class=\"dataframe\">\n",
              "  <thead>\n",
              "    <tr style=\"text-align: right;\">\n",
              "      <th></th>\n",
              "      <th>Bluecar counter</th>\n",
              "      <th>Utilib counter</th>\n",
              "      <th>Utilib 1.4 counter</th>\n",
              "      <th>Charge Slots</th>\n",
              "      <th>Charging Status</th>\n",
              "      <th>City</th>\n",
              "      <th>Kind</th>\n",
              "      <th>Postal code</th>\n",
              "      <th>Public name</th>\n",
              "      <th>Rental status</th>\n",
              "      <th>Slots</th>\n",
              "      <th>Station type</th>\n",
              "      <th>Status</th>\n",
              "      <th>Subscription status</th>\n",
              "      <th>year</th>\n",
              "      <th>month</th>\n",
              "      <th>day</th>\n",
              "      <th>hour</th>\n",
              "    </tr>\n",
              "  </thead>\n",
              "  <tbody>\n",
              "    <tr>\n",
              "      <th>0</th>\n",
              "      <td>0</td>\n",
              "      <td>0</td>\n",
              "      <td>0</td>\n",
              "      <td>0</td>\n",
              "      <td>nonexistent</td>\n",
              "      <td>Paris</td>\n",
              "      <td>STATION</td>\n",
              "      <td>75015</td>\n",
              "      <td>Paris/Suffren/2</td>\n",
              "      <td>operational</td>\n",
              "      <td>2</td>\n",
              "      <td>station</td>\n",
              "      <td>ok</td>\n",
              "      <td>nonexistent</td>\n",
              "      <td>2018</td>\n",
              "      <td>4</td>\n",
              "      <td>8</td>\n",
              "      <td>11</td>\n",
              "    </tr>\n",
              "    <tr>\n",
              "      <th>1</th>\n",
              "      <td>6</td>\n",
              "      <td>0</td>\n",
              "      <td>0</td>\n",
              "      <td>0</td>\n",
              "      <td>operational</td>\n",
              "      <td>Paris</td>\n",
              "      <td>STATION</td>\n",
              "      <td>75014</td>\n",
              "      <td>Paris/Raymond Losserand/145</td>\n",
              "      <td>operational</td>\n",
              "      <td>0</td>\n",
              "      <td>station</td>\n",
              "      <td>ok</td>\n",
              "      <td>nonexistent</td>\n",
              "      <td>2018</td>\n",
              "      <td>4</td>\n",
              "      <td>6</td>\n",
              "      <td>7</td>\n",
              "    </tr>\n",
              "    <tr>\n",
              "      <th>2</th>\n",
              "      <td>3</td>\n",
              "      <td>0</td>\n",
              "      <td>2</td>\n",
              "      <td>0</td>\n",
              "      <td>operational</td>\n",
              "      <td>Le Bourget</td>\n",
              "      <td>STATION</td>\n",
              "      <td>93350</td>\n",
              "      <td>Le Bourget/John Fitzgerald Kennedy/2</td>\n",
              "      <td>operational</td>\n",
              "      <td>1</td>\n",
              "      <td>station</td>\n",
              "      <td>ok</td>\n",
              "      <td>nonexistent</td>\n",
              "      <td>2018</td>\n",
              "      <td>4</td>\n",
              "      <td>3</td>\n",
              "      <td>20</td>\n",
              "    </tr>\n",
              "    <tr>\n",
              "      <th>3</th>\n",
              "      <td>3</td>\n",
              "      <td>1</td>\n",
              "      <td>0</td>\n",
              "      <td>1</td>\n",
              "      <td>operational</td>\n",
              "      <td>Paris</td>\n",
              "      <td>STATION</td>\n",
              "      <td>75013</td>\n",
              "      <td>Paris/EugÃ¨ne OudinÃ©/51</td>\n",
              "      <td>operational</td>\n",
              "      <td>2</td>\n",
              "      <td>station</td>\n",
              "      <td>ok</td>\n",
              "      <td>nonexistent</td>\n",
              "      <td>2018</td>\n",
              "      <td>4</td>\n",
              "      <td>4</td>\n",
              "      <td>4</td>\n",
              "    </tr>\n",
              "    <tr>\n",
              "      <th>4</th>\n",
              "      <td>3</td>\n",
              "      <td>0</td>\n",
              "      <td>0</td>\n",
              "      <td>0</td>\n",
              "      <td>nonexistent</td>\n",
              "      <td>Paris</td>\n",
              "      <td>PARKING</td>\n",
              "      <td>75017</td>\n",
              "      <td>Paris/Porte de Champerret/6</td>\n",
              "      <td>operational</td>\n",
              "      <td>3</td>\n",
              "      <td>station</td>\n",
              "      <td>ok</td>\n",
              "      <td>nonexistent</td>\n",
              "      <td>2018</td>\n",
              "      <td>4</td>\n",
              "      <td>8</td>\n",
              "      <td>17</td>\n",
              "    </tr>\n",
              "  </tbody>\n",
              "</table>\n",
              "</div>"
            ],
            "text/plain": [
              "   Bluecar counter  Utilib counter  Utilib 1.4 counter  ...  month day hour\n",
              "0                0               0                   0  ...      4   8   11\n",
              "1                6               0                   0  ...      4   6    7\n",
              "2                3               0                   2  ...      4   3   20\n",
              "3                3               1                   0  ...      4   4    4\n",
              "4                3               0                   0  ...      4   8   17\n",
              "\n",
              "[5 rows x 18 columns]"
            ]
          },
          "metadata": {
            "tags": []
          },
          "execution_count": 8
        }
      ]
    },
    {
      "cell_type": "code",
      "metadata": {
        "colab": {
          "base_uri": "https://localhost:8080/"
        },
        "id": "icQa68p0vjjk",
        "outputId": "1b9089b4-36db-4342-c549-de9871d29c23"
      },
      "source": [
        "#shape of dataframe\n",
        "df.shape"
      ],
      "execution_count": 9,
      "outputs": [
        {
          "output_type": "execute_result",
          "data": {
            "text/plain": [
              "(5000, 18)"
            ]
          },
          "metadata": {
            "tags": []
          },
          "execution_count": 9
        }
      ]
    },
    {
      "cell_type": "code",
      "metadata": {
        "id": "likVEhp5qsi_"
      },
      "source": [
        "#merge year month and date in to one date column\n",
        "cols=[\"year\",\"month\",\"day\"]\n",
        "df['date'] = df[cols].apply(lambda x: '-'.join(x.values.astype(str)), axis=\"columns\")\n",
        "#set the new date column to the right date and time pandas format\n",
        "df['date']=pd.to_datetime(df['date'])\n",
        "#we can now drop the year month and day columns from the table.\n",
        "to_drop = ['year','month', 'day']\n",
        "df.drop(to_drop, axis = 1,inplace = True)"
      ],
      "execution_count": 10,
      "outputs": []
    },
    {
      "cell_type": "code",
      "metadata": {
        "colab": {
          "base_uri": "https://localhost:8080/"
        },
        "id": "38Sp2uLWrBPJ",
        "outputId": "4a062b2a-ea6f-4205-815e-99d85da55183"
      },
      "source": [
        "#view table info to confirm changes\n",
        "df.info()"
      ],
      "execution_count": 11,
      "outputs": [
        {
          "output_type": "stream",
          "text": [
            "<class 'pandas.core.frame.DataFrame'>\n",
            "RangeIndex: 5000 entries, 0 to 4999\n",
            "Data columns (total 16 columns):\n",
            " #   Column               Non-Null Count  Dtype         \n",
            "---  ------               --------------  -----         \n",
            " 0   Bluecar counter      5000 non-null   int64         \n",
            " 1   Utilib counter       5000 non-null   int64         \n",
            " 2   Utilib 1.4 counter   5000 non-null   int64         \n",
            " 3   Charge Slots         5000 non-null   int64         \n",
            " 4   Charging Status      5000 non-null   object        \n",
            " 5   City                 5000 non-null   object        \n",
            " 6   Kind                 5000 non-null   object        \n",
            " 7   Postal code          5000 non-null   int64         \n",
            " 8   Public name          5000 non-null   object        \n",
            " 9   Rental status        5000 non-null   object        \n",
            " 10  Slots                5000 non-null   int64         \n",
            " 11  Station type         5000 non-null   object        \n",
            " 12  Status               5000 non-null   object        \n",
            " 13  Subscription status  5000 non-null   object        \n",
            " 14  hour                 5000 non-null   int64         \n",
            " 15  date                 5000 non-null   datetime64[ns]\n",
            "dtypes: datetime64[ns](1), int64(7), object(8)\n",
            "memory usage: 625.1+ KB\n"
          ],
          "name": "stdout"
        }
      ]
    },
    {
      "cell_type": "code",
      "metadata": {
        "colab": {
          "base_uri": "https://localhost:8080/"
        },
        "id": "R5wwtRNnt3aH",
        "outputId": "029a0fa8-8a54-41ba-a9e2-739c4a8ebbba"
      },
      "source": [
        "#shape of our data table\n",
        "df.shape"
      ],
      "execution_count": 12,
      "outputs": [
        {
          "output_type": "execute_result",
          "data": {
            "text/plain": [
              "(5000, 16)"
            ]
          },
          "metadata": {
            "tags": []
          },
          "execution_count": 12
        }
      ]
    },
    {
      "cell_type": "markdown",
      "metadata": {
        "id": "CqpwfqwTsZ4a"
      },
      "source": [
        "2.Consistency"
      ]
    },
    {
      "cell_type": "code",
      "metadata": {
        "colab": {
          "base_uri": "https://localhost:8080/"
        },
        "id": "7f6FpNOQ35Cq",
        "outputId": "590120fa-90ac-4a9d-aadf-612190d01b8e"
      },
      "source": [
        "#check for duplicates\n",
        "df.duplicated().unique()\n"
      ],
      "execution_count": 13,
      "outputs": [
        {
          "output_type": "execute_result",
          "data": {
            "text/plain": [
              "array([False,  True])"
            ]
          },
          "metadata": {
            "tags": []
          },
          "execution_count": 13
        }
      ]
    },
    {
      "cell_type": "code",
      "metadata": {
        "id": "A9p7r5vVtdHD"
      },
      "source": [
        "# we now drop the duplicates\n",
        "df = df.drop_duplicates()"
      ],
      "execution_count": 14,
      "outputs": []
    },
    {
      "cell_type": "code",
      "metadata": {
        "colab": {
          "base_uri": "https://localhost:8080/"
        },
        "id": "c_RvVdTjtqgv",
        "outputId": "5a20e3ba-041b-48b9-df20-0ce36a50e49c"
      },
      "source": [
        "#review shape after dropping duplicates\n",
        "df.shape"
      ],
      "execution_count": 15,
      "outputs": [
        {
          "output_type": "execute_result",
          "data": {
            "text/plain": [
              "(4974, 16)"
            ]
          },
          "metadata": {
            "tags": []
          },
          "execution_count": 15
        }
      ]
    },
    {
      "cell_type": "markdown",
      "metadata": {
        "id": "8UOav8yZukTL"
      },
      "source": [
        "Completeness of data"
      ]
    },
    {
      "cell_type": "code",
      "metadata": {
        "colab": {
          "base_uri": "https://localhost:8080/"
        },
        "id": "79zrXUrK4LOT",
        "outputId": "2a9f0d5c-9822-45ca-a7a9-f7f855651219"
      },
      "source": [
        "#Check for missing values\n",
        "\n",
        "df.isna().any(axis=1).unique()\n",
        "\n",
        "#there are missing values"
      ],
      "execution_count": 16,
      "outputs": [
        {
          "output_type": "execute_result",
          "data": {
            "text/plain": [
              "array([False])"
            ]
          },
          "metadata": {
            "tags": []
          },
          "execution_count": 16
        }
      ]
    },
    {
      "cell_type": "code",
      "metadata": {
        "colab": {
          "base_uri": "https://localhost:8080/"
        },
        "id": "nIw_hLvS4Xej",
        "outputId": "47b7486f-6a41-4476-a856-3c4db34dc935"
      },
      "source": [
        "df.shape"
      ],
      "execution_count": 17,
      "outputs": [
        {
          "output_type": "execute_result",
          "data": {
            "text/plain": [
              "(4974, 16)"
            ]
          },
          "metadata": {
            "tags": []
          },
          "execution_count": 17
        }
      ]
    },
    {
      "cell_type": "markdown",
      "metadata": {
        "id": "i4AP9jH_v9OT"
      },
      "source": [
        "Uniformity{column names)"
      ]
    },
    {
      "cell_type": "code",
      "metadata": {
        "colab": {
          "base_uri": "https://localhost:8080/",
          "height": 374
        },
        "id": "NWNkd7E6wCS5",
        "outputId": "f16941ce-ce68-4409-935f-b324be702e4d"
      },
      "source": [
        "#change the column names to conform to pascal naming convection\n",
        "df=df.rename(columns={'Bluecar counter':'Bluecar Counter','Utilib counter':'Utilib Counter','Utilib 1.4 counter':'Utilib 1.4 Counter','Postal code':'Postal Code','Public name':'Public Name','Station type':'Station Type','Subscription status':'Subscription Status','hour':'Hour','date':'Date'})\n",
        "df.head()"
      ],
      "execution_count": 18,
      "outputs": [
        {
          "output_type": "execute_result",
          "data": {
            "text/html": [
              "<div>\n",
              "<style scoped>\n",
              "    .dataframe tbody tr th:only-of-type {\n",
              "        vertical-align: middle;\n",
              "    }\n",
              "\n",
              "    .dataframe tbody tr th {\n",
              "        vertical-align: top;\n",
              "    }\n",
              "\n",
              "    .dataframe thead th {\n",
              "        text-align: right;\n",
              "    }\n",
              "</style>\n",
              "<table border=\"1\" class=\"dataframe\">\n",
              "  <thead>\n",
              "    <tr style=\"text-align: right;\">\n",
              "      <th></th>\n",
              "      <th>Bluecar Counter</th>\n",
              "      <th>Utilib Counter</th>\n",
              "      <th>Utilib 1.4 Counter</th>\n",
              "      <th>Charge Slots</th>\n",
              "      <th>Charging Status</th>\n",
              "      <th>City</th>\n",
              "      <th>Kind</th>\n",
              "      <th>Postal Code</th>\n",
              "      <th>Public Name</th>\n",
              "      <th>Rental status</th>\n",
              "      <th>Slots</th>\n",
              "      <th>Station Type</th>\n",
              "      <th>Status</th>\n",
              "      <th>Subscription Status</th>\n",
              "      <th>Hour</th>\n",
              "      <th>Date</th>\n",
              "    </tr>\n",
              "  </thead>\n",
              "  <tbody>\n",
              "    <tr>\n",
              "      <th>0</th>\n",
              "      <td>0</td>\n",
              "      <td>0</td>\n",
              "      <td>0</td>\n",
              "      <td>0</td>\n",
              "      <td>nonexistent</td>\n",
              "      <td>Paris</td>\n",
              "      <td>STATION</td>\n",
              "      <td>75015</td>\n",
              "      <td>Paris/Suffren/2</td>\n",
              "      <td>operational</td>\n",
              "      <td>2</td>\n",
              "      <td>station</td>\n",
              "      <td>ok</td>\n",
              "      <td>nonexistent</td>\n",
              "      <td>11</td>\n",
              "      <td>2018-04-08</td>\n",
              "    </tr>\n",
              "    <tr>\n",
              "      <th>1</th>\n",
              "      <td>6</td>\n",
              "      <td>0</td>\n",
              "      <td>0</td>\n",
              "      <td>0</td>\n",
              "      <td>operational</td>\n",
              "      <td>Paris</td>\n",
              "      <td>STATION</td>\n",
              "      <td>75014</td>\n",
              "      <td>Paris/Raymond Losserand/145</td>\n",
              "      <td>operational</td>\n",
              "      <td>0</td>\n",
              "      <td>station</td>\n",
              "      <td>ok</td>\n",
              "      <td>nonexistent</td>\n",
              "      <td>7</td>\n",
              "      <td>2018-04-06</td>\n",
              "    </tr>\n",
              "    <tr>\n",
              "      <th>2</th>\n",
              "      <td>3</td>\n",
              "      <td>0</td>\n",
              "      <td>2</td>\n",
              "      <td>0</td>\n",
              "      <td>operational</td>\n",
              "      <td>Le Bourget</td>\n",
              "      <td>STATION</td>\n",
              "      <td>93350</td>\n",
              "      <td>Le Bourget/John Fitzgerald Kennedy/2</td>\n",
              "      <td>operational</td>\n",
              "      <td>1</td>\n",
              "      <td>station</td>\n",
              "      <td>ok</td>\n",
              "      <td>nonexistent</td>\n",
              "      <td>20</td>\n",
              "      <td>2018-04-03</td>\n",
              "    </tr>\n",
              "    <tr>\n",
              "      <th>3</th>\n",
              "      <td>3</td>\n",
              "      <td>1</td>\n",
              "      <td>0</td>\n",
              "      <td>1</td>\n",
              "      <td>operational</td>\n",
              "      <td>Paris</td>\n",
              "      <td>STATION</td>\n",
              "      <td>75013</td>\n",
              "      <td>Paris/EugÃ¨ne OudinÃ©/51</td>\n",
              "      <td>operational</td>\n",
              "      <td>2</td>\n",
              "      <td>station</td>\n",
              "      <td>ok</td>\n",
              "      <td>nonexistent</td>\n",
              "      <td>4</td>\n",
              "      <td>2018-04-04</td>\n",
              "    </tr>\n",
              "    <tr>\n",
              "      <th>4</th>\n",
              "      <td>3</td>\n",
              "      <td>0</td>\n",
              "      <td>0</td>\n",
              "      <td>0</td>\n",
              "      <td>nonexistent</td>\n",
              "      <td>Paris</td>\n",
              "      <td>PARKING</td>\n",
              "      <td>75017</td>\n",
              "      <td>Paris/Porte de Champerret/6</td>\n",
              "      <td>operational</td>\n",
              "      <td>3</td>\n",
              "      <td>station</td>\n",
              "      <td>ok</td>\n",
              "      <td>nonexistent</td>\n",
              "      <td>17</td>\n",
              "      <td>2018-04-08</td>\n",
              "    </tr>\n",
              "  </tbody>\n",
              "</table>\n",
              "</div>"
            ],
            "text/plain": [
              "   Bluecar Counter  Utilib Counter  ...  Hour       Date\n",
              "0                0               0  ...    11 2018-04-08\n",
              "1                6               0  ...     7 2018-04-06\n",
              "2                3               0  ...    20 2018-04-03\n",
              "3                3               1  ...     4 2018-04-04\n",
              "4                3               0  ...    17 2018-04-08\n",
              "\n",
              "[5 rows x 16 columns]"
            ]
          },
          "metadata": {
            "tags": []
          },
          "execution_count": 18
        }
      ]
    },
    {
      "cell_type": "markdown",
      "metadata": {
        "id": "dw4e9_gDoZYA"
      },
      "source": [
        "#**Test for Accuracy**"
      ]
    },
    {
      "cell_type": "markdown",
      "metadata": {
        "id": "0LCXEtHLUYgH"
      },
      "source": [
        "EXPECTATION\n",
        "\n",
        "1.charge slots can only be greater than 0 when charging status    is operational"
      ]
    },
    {
      "cell_type": "code",
      "metadata": {
        "colab": {
          "base_uri": "https://localhost:8080/"
        },
        "id": "H93VweZF7qyp",
        "outputId": "041ee824-88e5-4b76-e34d-e460018db40a"
      },
      "source": [
        "df['Charging Status'].unique()"
      ],
      "execution_count": 19,
      "outputs": [
        {
          "output_type": "execute_result",
          "data": {
            "text/plain": [
              "array(['nonexistent', 'operational', 'broken'], dtype=object)"
            ]
          },
          "metadata": {
            "tags": []
          },
          "execution_count": 19
        }
      ]
    },
    {
      "cell_type": "code",
      "metadata": {
        "colab": {
          "base_uri": "https://localhost:8080/"
        },
        "id": "05EStz4_zdLS",
        "outputId": "6d4f96af-d200-49de-f7fb-f6743ffec837"
      },
      "source": [
        "# EXPECTATION\n",
        "#charge slots can only be greater than 0 when charging status is operational\n",
        "\n",
        "#To test this expection, set the following condition.\n",
        "#these conditions checks whether there is any row where charge slot is greater than zero\n",
        "#   when the charging status is in any other status other than operational\n",
        "if (df['Charge Slots'] > 0).all() and (df['Charging Status'] != 'operational').all():\n",
        "  print('expectation not met')\n",
        "#if there's any row where charge slot is greater than zero and charging status is anything but operational\n",
        "#it should return 'true' meaning that the data does not meet the expctation\n",
        "else:\n",
        "  print('expectation was met')\n"
      ],
      "execution_count": 20,
      "outputs": [
        {
          "output_type": "stream",
          "text": [
            "expectation was met\n"
          ],
          "name": "stdout"
        }
      ]
    },
    {
      "cell_type": "markdown",
      "metadata": {
        "id": "sophOVbpTxlO"
      },
      "source": [
        "2.slots and vehicles can be available in all situations (except future stations that have 0 resources)"
      ]
    },
    {
      "cell_type": "code",
      "metadata": {
        "colab": {
          "base_uri": "https://localhost:8080/"
        },
        "id": "rKpp-evh_Lwb",
        "outputId": "48d677c2-8b2b-4015-a442-9604b8d4f00f"
      },
      "source": [
        "#if there is any row where charging status is 'future' and it has the bluecar resorce then our \n",
        "#data is not accurate.\n",
        "\n",
        "if (df['Charging Status'] == 'future').all() and (df['Bluecar Counter'] > 0).all():\n",
        "  print('expectation not met')\n",
        "\n",
        "#if no such row exixst, then the condition is satisfied and the data is accurate in this regard.\n",
        "else:\n",
        "  print('Expectation was met')\n"
      ],
      "execution_count": 21,
      "outputs": [
        {
          "output_type": "stream",
          "text": [
            "Expectation was met\n"
          ],
          "name": "stdout"
        }
      ]
    },
    {
      "cell_type": "code",
      "metadata": {
        "colab": {
          "base_uri": "https://localhost:8080/"
        },
        "id": "pnnHPl-ABWQT",
        "outputId": "b694d64f-5066-488e-9cc2-e66830f4c219"
      },
      "source": [
        "#if there is any row where charging status is 'future' and it has the Utilib resorce then our \n",
        "#data is not accurate.\n",
        "\n",
        "if (df['Charging Status'] == 'future').all() and (df['Utilib Counter'] > 0).all():\n",
        "  print('expectation not met')\n",
        "#if no such row exixst, then the condition is satisfied and the data is accurate in this regard.\n",
        "else:\n",
        "  print('Expectation was met')\n"
      ],
      "execution_count": 22,
      "outputs": [
        {
          "output_type": "stream",
          "text": [
            "Expectation was met\n"
          ],
          "name": "stdout"
        }
      ]
    },
    {
      "cell_type": "code",
      "metadata": {
        "colab": {
          "base_uri": "https://localhost:8080/"
        },
        "id": "4yVjE_rNXh1q",
        "outputId": "e357a7d8-467e-48ca-bf24-f4a1a1d7ceb9"
      },
      "source": [
        "#if there is any row where charging status is 'future' and it has the Utilib 1.4 resorce then our \n",
        "#data is not accurate.\n",
        "\n",
        "if (df['Charging Status'] == 'future').all() and (df['Utilib 1.4 Counter'] > 0).all():\n",
        "  print('expectation not met')\n",
        "#if no such row exixst, then the condition is satisfied and the data is accurate in this regard.\n",
        "else:\n",
        "  print('Expectation was met')"
      ],
      "execution_count": 23,
      "outputs": [
        {
          "output_type": "stream",
          "text": [
            "Expectation was met\n"
          ],
          "name": "stdout"
        }
      ]
    },
    {
      "cell_type": "code",
      "metadata": {
        "colab": {
          "base_uri": "https://localhost:8080/"
        },
        "id": "_QDhQ8X1a3Xb",
        "outputId": "7c4d9a51-0cfd-4967-ff6c-a75eee518253"
      },
      "source": [
        "#if there is any row where charging status is 'future' and it has the parking slots resorce then our \n",
        "#data is not accurate.\n",
        "\n",
        "if (df['Charging Status'] == 'future').all() and (df['Slots'] > 0).all():\n",
        "  print('expectation not met')\n",
        "#if no such row exixst, then the condition is satisfied and the data is accurate in this regard.\n",
        "else:\n",
        "  print('Expectation was met')"
      ],
      "execution_count": 24,
      "outputs": [
        {
          "output_type": "stream",
          "text": [
            "Expectation was met\n"
          ],
          "name": "stdout"
        }
      ]
    },
    {
      "cell_type": "markdown",
      "metadata": {
        "id": "GOj6x9ARZ9bA"
      },
      "source": [
        "3.No resources available for subs_center which is just one location."
      ]
    },
    {
      "cell_type": "code",
      "metadata": {
        "colab": {
          "base_uri": "https://localhost:8080/"
        },
        "id": "I0cYEDXNFGhR",
        "outputId": "b131c1c0-48b3-4108-a0a7-49e7a9832dc5"
      },
      "source": [
        "#if there is any row where station type is 'sub-center' and it has the Utilib 1.4 resorce then our \n",
        "#data is not accurate.\n",
        "\n",
        "if (df['Station Type'] == 'sub_center').all() and (df['Utilib 1.4 Counter'] > 0).all():\n",
        "  print('expectation not met')\n",
        "#if no such row exixst, then the condition is satisfied and the data is accurate in this regard.\n",
        "else:\n",
        "  print('Expectation was met')"
      ],
      "execution_count": 25,
      "outputs": [
        {
          "output_type": "stream",
          "text": [
            "Expectation was met\n"
          ],
          "name": "stdout"
        }
      ]
    },
    {
      "cell_type": "code",
      "metadata": {
        "colab": {
          "base_uri": "https://localhost:8080/"
        },
        "id": "OypHrD3Yaacp",
        "outputId": "24321ec2-cd28-4fd2-d7a1-e03ca7cf72a5"
      },
      "source": [
        "#if there is any row where station type is 'sub-center' and it has the Utilib resorce then our \n",
        "#data is not accurate.\n",
        "\n",
        "if (df['Station Type'] == 'sub_center').all() and (df['Utilib Counter'] > 0).all():\n",
        "  print('expectation not met')\n",
        "#if no such row exixst, then the condition is satisfied and the data is accurate in this regard.\n",
        "else:\n",
        "  print('Expectation was met')"
      ],
      "execution_count": 26,
      "outputs": [
        {
          "output_type": "stream",
          "text": [
            "Expectation was met\n"
          ],
          "name": "stdout"
        }
      ]
    },
    {
      "cell_type": "code",
      "metadata": {
        "colab": {
          "base_uri": "https://localhost:8080/"
        },
        "id": "3UUl5NzbahHX",
        "outputId": "e1323280-709f-4714-cb16-fd350da1f0c9"
      },
      "source": [
        "#if there is any row where station type is 'sub-center' and it has the Bluecar resorce then our \n",
        "#data is not accurate.\n",
        "\n",
        "if (df['Station Type'] == 'sub_center').all() and (df['Bluecar Counter'] > 0).all():\n",
        "  print('expectation not met')\n",
        "#if no such row exixst, then the condition is satisfied and the data is accurate in this regard.\n",
        "else:\n",
        "  print('Expectation was met')"
      ],
      "execution_count": 27,
      "outputs": [
        {
          "output_type": "stream",
          "text": [
            "Expectation was met\n"
          ],
          "name": "stdout"
        }
      ]
    },
    {
      "cell_type": "code",
      "metadata": {
        "colab": {
          "base_uri": "https://localhost:8080/"
        },
        "id": "jyhCeLa_asGh",
        "outputId": "357eee29-4ae9-4f02-e2c6-63008e7ebab6"
      },
      "source": [
        "#if there is any row where station type is 'sub-center' and it has the Slots resorce then our \n",
        "#data is not accurate.\n",
        "\n",
        "if (df['Station Type'] == 'sub_center').all() and (df['Slots'] > 0).all():\n",
        "  print('expectation not met')\n",
        "#if no such row exixst, then the condition is satisfied and the data is accurate in this regard.\n",
        "else:\n",
        "  print('Expectation was met')"
      ],
      "execution_count": 28,
      "outputs": [
        {
          "output_type": "stream",
          "text": [
            "Expectation was met\n"
          ],
          "name": "stdout"
        }
      ]
    },
    {
      "cell_type": "markdown",
      "metadata": {
        "id": "6UcvuwHu3-7H"
      },
      "source": [
        "4. No resourcses availble if Status is Scheduled"
      ]
    },
    {
      "cell_type": "code",
      "metadata": {
        "colab": {
          "base_uri": "https://localhost:8080/"
        },
        "id": "qdLVFZaI4KXh",
        "outputId": "ac955aa5-b927-4612-afdf-698ab1a6d4c4"
      },
      "source": [
        "#status options\n",
        "df['Status'].unique()"
      ],
      "execution_count": 29,
      "outputs": [
        {
          "output_type": "execute_result",
          "data": {
            "text/plain": [
              "array(['ok', 'closed', 'scheduled'], dtype=object)"
            ]
          },
          "metadata": {
            "tags": []
          },
          "execution_count": 29
        }
      ]
    },
    {
      "cell_type": "code",
      "metadata": {
        "colab": {
          "base_uri": "https://localhost:8080/"
        },
        "id": "stE3HqDw249O",
        "outputId": "4f2ace7f-9c5c-4252-fec2-9a5df86d9063"
      },
      "source": [
        "#no resources available when status is scheduled\n",
        "#slots resource\n",
        "if (df['Status'] == 'scheduled').all() and (df['Slots'] > 0).all():\n",
        "  print('expectation not met')\n",
        "#if no such row exixst, then the condition is satisfied and the data is accurate in this regard.\n",
        "else:\n",
        "  print('Expectation was met')"
      ],
      "execution_count": 30,
      "outputs": [
        {
          "output_type": "stream",
          "text": [
            "Expectation was met\n"
          ],
          "name": "stdout"
        }
      ]
    },
    {
      "cell_type": "code",
      "metadata": {
        "colab": {
          "base_uri": "https://localhost:8080/"
        },
        "id": "l5WqWhSk3jbw",
        "outputId": "cb25d71e-4265-4de0-8530-b47c7e909737"
      },
      "source": [
        "#Bluecar resource\n",
        "if (df['Status'] == 'scheduled').all() and (df['Bluecar Counter'] > 0).all():\n",
        "  print('expectation not met')\n",
        "#if no such row exixst, then the condition is satisfied and the data is accurate in this regard.\n",
        "else:\n",
        "  print('Expectation was met')"
      ],
      "execution_count": 31,
      "outputs": [
        {
          "output_type": "stream",
          "text": [
            "Expectation was met\n"
          ],
          "name": "stdout"
        }
      ]
    },
    {
      "cell_type": "code",
      "metadata": {
        "colab": {
          "base_uri": "https://localhost:8080/"
        },
        "id": "aIpRZNc03u1a",
        "outputId": "c466e2ee-9ede-4da8-98f8-13580255f0ef"
      },
      "source": [
        "#Utilib resource\n",
        "if (df['Status'] == 'scheduled').all() and (df['Utilib Counter'] > 0).all():\n",
        "  print('expectation not met')\n",
        "#if no such row exixst, then the condition is satisfied and the data is accurate in this regard.\n",
        "else:\n",
        "  print('Expectation was met')"
      ],
      "execution_count": 32,
      "outputs": [
        {
          "output_type": "stream",
          "text": [
            "Expectation was met\n"
          ],
          "name": "stdout"
        }
      ]
    },
    {
      "cell_type": "code",
      "metadata": {
        "colab": {
          "base_uri": "https://localhost:8080/"
        },
        "id": "V2EDOsKd32Rs",
        "outputId": "a35d9e5b-f9fa-42e8-e6e3-057e8d923730"
      },
      "source": [
        "#Utilib 1.4 resource\n",
        "if (df['Status'] == 'scheduled').all() and (df['Utilib 1.4 Counter'] > 0).all():\n",
        "  print('expectation not met')\n",
        "#if no such row exixst, then the condition is satisfied and the data is accurate in this regard.\n",
        "else:\n",
        "  print('Expectation was met')"
      ],
      "execution_count": 33,
      "outputs": [
        {
          "output_type": "stream",
          "text": [
            "Expectation was met\n"
          ],
          "name": "stdout"
        }
      ]
    },
    {
      "cell_type": "markdown",
      "metadata": {
        "id": "_o1hvtiz4qA6"
      },
      "source": [
        "5. No vehicles availabe if kind is center"
      ]
    },
    {
      "cell_type": "code",
      "metadata": {
        "colab": {
          "base_uri": "https://localhost:8080/"
        },
        "id": "O-DuHfzD48Lt",
        "outputId": "ee12ea17-017a-4733-91b2-513dd2a8e11e"
      },
      "source": [
        "#values in kind column\n",
        "df['Kind'].unique()"
      ],
      "execution_count": 34,
      "outputs": [
        {
          "output_type": "execute_result",
          "data": {
            "text/plain": [
              "array(['STATION', 'PARKING', 'SPACE', 'CENTER'], dtype=object)"
            ]
          },
          "metadata": {
            "tags": []
          },
          "execution_count": 34
        }
      ]
    },
    {
      "cell_type": "code",
      "metadata": {
        "colab": {
          "base_uri": "https://localhost:8080/"
        },
        "id": "Ff8KozMN40Rm",
        "outputId": "809e346b-2b9d-44a8-f1e2-e4fbe010a88d"
      },
      "source": [
        "#Bluecar resource\n",
        "if (df['Kind'] == 'CENTER').all() and (df['Bluecar Counter'] > 0).all():\n",
        "  print('expectation not met')\n",
        "#if no such row exixst, then the condition is satisfied and the data is accurate in this regard.\n",
        "else:\n",
        "  print('Expectation was met')"
      ],
      "execution_count": 35,
      "outputs": [
        {
          "output_type": "stream",
          "text": [
            "Expectation was met\n"
          ],
          "name": "stdout"
        }
      ]
    },
    {
      "cell_type": "code",
      "metadata": {
        "colab": {
          "base_uri": "https://localhost:8080/"
        },
        "id": "eW8uTBgp5OCY",
        "outputId": "2aae75d7-219a-4115-bd11-74bb1b9d392b"
      },
      "source": [
        "#Utilib 1.4 resource\n",
        "if (df['Kind'] == 'CENTER').all() and (df['Utilib 1.4 Counter'] > 0).all():\n",
        "  print('expectation not met')\n",
        "#if no such row exixst, then the condition is satisfied and the data is accurate in this regard.\n",
        "else:\n",
        "  print('Expectation was met')"
      ],
      "execution_count": 36,
      "outputs": [
        {
          "output_type": "stream",
          "text": [
            "Expectation was met\n"
          ],
          "name": "stdout"
        }
      ]
    },
    {
      "cell_type": "code",
      "metadata": {
        "colab": {
          "base_uri": "https://localhost:8080/"
        },
        "id": "9QO0LNzp5UvD",
        "outputId": "d3056f6a-908d-4a49-b40f-58d266e2777f"
      },
      "source": [
        "#Utilib  resource\n",
        "if (df['Kind'] == 'CENTER').all() and (df['Utilib Counter'] > 0).all():\n",
        "  print('expectation not met')\n",
        "#if no such row exixst, then the condition is satisfied and the data is accurate in this regard.\n",
        "else:\n",
        "  print('Expectation was met')"
      ],
      "execution_count": 37,
      "outputs": [
        {
          "output_type": "stream",
          "text": [
            "Expectation was met\n"
          ],
          "name": "stdout"
        }
      ]
    },
    {
      "cell_type": "markdown",
      "metadata": {
        "id": "TZjy_VQn5rCA"
      },
      "source": [
        "6. No charging slots and Utilib 1.4 when kind is parking"
      ]
    },
    {
      "cell_type": "code",
      "metadata": {
        "colab": {
          "base_uri": "https://localhost:8080/"
        },
        "id": "-dn65FnF50K0",
        "outputId": "66b183e5-ba31-495b-f130-c93f779d7c02"
      },
      "source": [
        "#Utilib 1.4 resource\n",
        "if (df['Kind'] == 'STATION').all() and (df['Utilib 1.4 Counter'] > 2).all():\n",
        "  print('expectation not met')\n",
        "#if no such row exixst, then the condition is satisfied and the data is accurate in this regard.\n",
        "else:\n",
        "  print('Expectation was met')"
      ],
      "execution_count": 38,
      "outputs": [
        {
          "output_type": "stream",
          "text": [
            "Expectation was met\n"
          ],
          "name": "stdout"
        }
      ]
    },
    {
      "cell_type": "code",
      "metadata": {
        "colab": {
          "base_uri": "https://localhost:8080/"
        },
        "id": "zpKs_voH58Vm",
        "outputId": "a395dd77-002b-4a44-a3f8-77007bc04bba"
      },
      "source": [
        "#Utilib 1.4 resource\n",
        "if (df['Kind'] == 'PARKING').all() and (df['Charge Slots'] > 0).all():\n",
        "  print('expectation not met')\n",
        "#if no such row exixst, then the condition is satisfied and the data is accurate in this regard.\n",
        "else:\n",
        "  print('Expectation was met')"
      ],
      "execution_count": 39,
      "outputs": [
        {
          "output_type": "stream",
          "text": [
            "Expectation was met\n"
          ],
          "name": "stdout"
        }
      ]
    },
    {
      "cell_type": "markdown",
      "metadata": {
        "id": "tbAB6w_rJG_E"
      },
      "source": [
        "# ANALYSIS"
      ]
    },
    {
      "cell_type": "markdown",
      "metadata": {
        "id": "urYC7AY1boCa"
      },
      "source": [
        "##Popular Hour to pick up Electric Vehicles"
      ]
    },
    {
      "cell_type": "code",
      "metadata": {
        "colab": {
          "base_uri": "https://localhost:8080/",
          "height": 798
        },
        "id": "119HPj3SyCeW",
        "outputId": "589162f3-3cba-423f-ff80-3c343c42ba97"
      },
      "source": [
        "#First, we create a table index by hour that has the aggregate sum of each car type per hour for the month of april.\n",
        "# the table is conditional oon when cars are available at the staions\n",
        "df['cars']=df['Bluecar Counter'] + df['Utilib 1.4 Counter'] + df['Utilib Counter']\n",
        "hour =df[(df['City']== 'Paris') & (df['Date']>='2018-04-01') & (df['Date']<='2018-04-30') & (df['Rental status']=='operational')& (df['Station Type'] != 'sub_center')& (df['Kind'] != 'center')]\n",
        "hour_table =pd.pivot_table(hour,values=['Bluecar Counter','Utilib Counter','Utilib 1.4 Counter','cars'],index=['Hour'],aggfunc=np.sum)\n",
        "hour_table"
      ],
      "execution_count": 40,
      "outputs": [
        {
          "output_type": "execute_result",
          "data": {
            "text/html": [
              "<div>\n",
              "<style scoped>\n",
              "    .dataframe tbody tr th:only-of-type {\n",
              "        vertical-align: middle;\n",
              "    }\n",
              "\n",
              "    .dataframe tbody tr th {\n",
              "        vertical-align: top;\n",
              "    }\n",
              "\n",
              "    .dataframe thead th {\n",
              "        text-align: right;\n",
              "    }\n",
              "</style>\n",
              "<table border=\"1\" class=\"dataframe\">\n",
              "  <thead>\n",
              "    <tr style=\"text-align: right;\">\n",
              "      <th></th>\n",
              "      <th>Bluecar Counter</th>\n",
              "      <th>Utilib 1.4 Counter</th>\n",
              "      <th>Utilib Counter</th>\n",
              "      <th>cars</th>\n",
              "    </tr>\n",
              "    <tr>\n",
              "      <th>Hour</th>\n",
              "      <th></th>\n",
              "      <th></th>\n",
              "      <th></th>\n",
              "      <th></th>\n",
              "    </tr>\n",
              "  </thead>\n",
              "  <tbody>\n",
              "    <tr>\n",
              "      <th>0</th>\n",
              "      <td>201</td>\n",
              "      <td>10</td>\n",
              "      <td>5</td>\n",
              "      <td>216</td>\n",
              "    </tr>\n",
              "    <tr>\n",
              "      <th>1</th>\n",
              "      <td>205</td>\n",
              "      <td>10</td>\n",
              "      <td>3</td>\n",
              "      <td>218</td>\n",
              "    </tr>\n",
              "    <tr>\n",
              "      <th>2</th>\n",
              "      <td>221</td>\n",
              "      <td>9</td>\n",
              "      <td>7</td>\n",
              "      <td>237</td>\n",
              "    </tr>\n",
              "    <tr>\n",
              "      <th>3</th>\n",
              "      <td>242</td>\n",
              "      <td>14</td>\n",
              "      <td>5</td>\n",
              "      <td>261</td>\n",
              "    </tr>\n",
              "    <tr>\n",
              "      <th>4</th>\n",
              "      <td>209</td>\n",
              "      <td>10</td>\n",
              "      <td>3</td>\n",
              "      <td>222</td>\n",
              "    </tr>\n",
              "    <tr>\n",
              "      <th>5</th>\n",
              "      <td>228</td>\n",
              "      <td>18</td>\n",
              "      <td>5</td>\n",
              "      <td>251</td>\n",
              "    </tr>\n",
              "    <tr>\n",
              "      <th>6</th>\n",
              "      <td>260</td>\n",
              "      <td>15</td>\n",
              "      <td>13</td>\n",
              "      <td>288</td>\n",
              "    </tr>\n",
              "    <tr>\n",
              "      <th>7</th>\n",
              "      <td>223</td>\n",
              "      <td>11</td>\n",
              "      <td>8</td>\n",
              "      <td>242</td>\n",
              "    </tr>\n",
              "    <tr>\n",
              "      <th>8</th>\n",
              "      <td>234</td>\n",
              "      <td>11</td>\n",
              "      <td>12</td>\n",
              "      <td>257</td>\n",
              "    </tr>\n",
              "    <tr>\n",
              "      <th>9</th>\n",
              "      <td>246</td>\n",
              "      <td>18</td>\n",
              "      <td>5</td>\n",
              "      <td>269</td>\n",
              "    </tr>\n",
              "    <tr>\n",
              "      <th>10</th>\n",
              "      <td>232</td>\n",
              "      <td>18</td>\n",
              "      <td>7</td>\n",
              "      <td>257</td>\n",
              "    </tr>\n",
              "    <tr>\n",
              "      <th>11</th>\n",
              "      <td>201</td>\n",
              "      <td>10</td>\n",
              "      <td>10</td>\n",
              "      <td>221</td>\n",
              "    </tr>\n",
              "    <tr>\n",
              "      <th>12</th>\n",
              "      <td>250</td>\n",
              "      <td>12</td>\n",
              "      <td>5</td>\n",
              "      <td>267</td>\n",
              "    </tr>\n",
              "    <tr>\n",
              "      <th>13</th>\n",
              "      <td>205</td>\n",
              "      <td>14</td>\n",
              "      <td>6</td>\n",
              "      <td>225</td>\n",
              "    </tr>\n",
              "    <tr>\n",
              "      <th>14</th>\n",
              "      <td>163</td>\n",
              "      <td>13</td>\n",
              "      <td>8</td>\n",
              "      <td>184</td>\n",
              "    </tr>\n",
              "    <tr>\n",
              "      <th>15</th>\n",
              "      <td>215</td>\n",
              "      <td>13</td>\n",
              "      <td>6</td>\n",
              "      <td>234</td>\n",
              "    </tr>\n",
              "    <tr>\n",
              "      <th>16</th>\n",
              "      <td>208</td>\n",
              "      <td>13</td>\n",
              "      <td>4</td>\n",
              "      <td>225</td>\n",
              "    </tr>\n",
              "    <tr>\n",
              "      <th>17</th>\n",
              "      <td>187</td>\n",
              "      <td>18</td>\n",
              "      <td>9</td>\n",
              "      <td>214</td>\n",
              "    </tr>\n",
              "    <tr>\n",
              "      <th>18</th>\n",
              "      <td>192</td>\n",
              "      <td>10</td>\n",
              "      <td>8</td>\n",
              "      <td>210</td>\n",
              "    </tr>\n",
              "    <tr>\n",
              "      <th>19</th>\n",
              "      <td>193</td>\n",
              "      <td>16</td>\n",
              "      <td>3</td>\n",
              "      <td>212</td>\n",
              "    </tr>\n",
              "    <tr>\n",
              "      <th>20</th>\n",
              "      <td>149</td>\n",
              "      <td>11</td>\n",
              "      <td>4</td>\n",
              "      <td>164</td>\n",
              "    </tr>\n",
              "    <tr>\n",
              "      <th>21</th>\n",
              "      <td>268</td>\n",
              "      <td>20</td>\n",
              "      <td>8</td>\n",
              "      <td>296</td>\n",
              "    </tr>\n",
              "    <tr>\n",
              "      <th>22</th>\n",
              "      <td>197</td>\n",
              "      <td>15</td>\n",
              "      <td>3</td>\n",
              "      <td>215</td>\n",
              "    </tr>\n",
              "    <tr>\n",
              "      <th>23</th>\n",
              "      <td>191</td>\n",
              "      <td>11</td>\n",
              "      <td>1</td>\n",
              "      <td>203</td>\n",
              "    </tr>\n",
              "  </tbody>\n",
              "</table>\n",
              "</div>"
            ],
            "text/plain": [
              "      Bluecar Counter  Utilib 1.4 Counter  Utilib Counter  cars\n",
              "Hour                                                           \n",
              "0                 201                  10               5   216\n",
              "1                 205                  10               3   218\n",
              "2                 221                   9               7   237\n",
              "3                 242                  14               5   261\n",
              "4                 209                  10               3   222\n",
              "5                 228                  18               5   251\n",
              "6                 260                  15              13   288\n",
              "7                 223                  11               8   242\n",
              "8                 234                  11              12   257\n",
              "9                 246                  18               5   269\n",
              "10                232                  18               7   257\n",
              "11                201                  10              10   221\n",
              "12                250                  12               5   267\n",
              "13                205                  14               6   225\n",
              "14                163                  13               8   184\n",
              "15                215                  13               6   234\n",
              "16                208                  13               4   225\n",
              "17                187                  18               9   214\n",
              "18                192                  10               8   210\n",
              "19                193                  16               3   212\n",
              "20                149                  11               4   164\n",
              "21                268                  20               8   296\n",
              "22                197                  15               3   215\n",
              "23                191                  11               1   203"
            ]
          },
          "metadata": {
            "tags": []
          },
          "execution_count": 40
        }
      ]
    },
    {
      "cell_type": "code",
      "metadata": {
        "colab": {
          "base_uri": "https://localhost:8080/"
        },
        "id": "2HcYHDcflANN",
        "outputId": "e4e6610c-b600-4bd1-d68c-6a924675bd5c"
      },
      "source": [
        "#to get the most popular hour to get a bluecar, sort the hour_table by bluecar counter\n",
        "#in ascending order and display the fisrt hour.\n",
        "\n",
        "hour_table['Bluecar Counter'].sort_values().head(1)\n"
      ],
      "execution_count": 41,
      "outputs": [
        {
          "output_type": "execute_result",
          "data": {
            "text/plain": [
              "Hour\n",
              "20    149\n",
              "Name: Bluecar Counter, dtype: int64"
            ]
          },
          "metadata": {
            "tags": []
          },
          "execution_count": 41
        }
      ]
    },
    {
      "cell_type": "code",
      "metadata": {
        "colab": {
          "base_uri": "https://localhost:8080/"
        },
        "id": "sMVE2dtFQ9az",
        "outputId": "67becea7-ae79-4db2-b94b-b0da9c9f9687"
      },
      "source": [
        "#to get the most popular hour to get a Utilib  Counter, sort the hour_table by Utilib Counter'\n",
        "#in ascending order and display the fisrt hour.\n",
        "\n",
        "hour_table['Utilib Counter'].sort_values().head(1)\n"
      ],
      "execution_count": 42,
      "outputs": [
        {
          "output_type": "execute_result",
          "data": {
            "text/plain": [
              "Hour\n",
              "23    1\n",
              "Name: Utilib Counter, dtype: int64"
            ]
          },
          "metadata": {
            "tags": []
          },
          "execution_count": 42
        }
      ]
    },
    {
      "cell_type": "code",
      "metadata": {
        "colab": {
          "base_uri": "https://localhost:8080/"
        },
        "id": "AhEH6DIMRHCr",
        "outputId": "d3c6c8bd-0f81-48a1-921a-00afad06ed97"
      },
      "source": [
        "#to get the most popular hour to get a Utilib 1.4 Counter, sort the hour_table by bUtilib 1.4 Counter'\n",
        "#in ascending order and display the fisrt hour.\n",
        "\n",
        "hour_table['Utilib 1.4 Counter'].sort_values().head(1)"
      ],
      "execution_count": 43,
      "outputs": [
        {
          "output_type": "execute_result",
          "data": {
            "text/plain": [
              "Hour\n",
              "2    9\n",
              "Name: Utilib 1.4 Counter, dtype: int64"
            ]
          },
          "metadata": {
            "tags": []
          },
          "execution_count": 43
        }
      ]
    },
    {
      "cell_type": "code",
      "metadata": {
        "colab": {
          "base_uri": "https://localhost:8080/"
        },
        "id": "DamgSw6KqBME",
        "outputId": "9d58640d-03f1-47e7-dcb5-9df992829bfc"
      },
      "source": [
        "#overall pick hour\n",
        "hour_table['cars'].sort_values().head(1)"
      ],
      "execution_count": 44,
      "outputs": [
        {
          "output_type": "execute_result",
          "data": {
            "text/plain": [
              "Hour\n",
              "20    164\n",
              "Name: cars, dtype: int64"
            ]
          },
          "metadata": {
            "tags": []
          },
          "execution_count": 44
        }
      ]
    },
    {
      "cell_type": "markdown",
      "metadata": {
        "id": "DJcksmW7PkNt"
      },
      "source": [
        "1.Hour 2O(8:00pm) has the least number of cars at the stations, meaning most of the cars have already been picked. this shows that this is the overall most popular picking hour.\n",
        "2. In the same analysis, the most popular hour for picking Utilibs is at 11:00pm which is when the Utilibs are least in the station.\n",
        "3. Most popular hour for Utilib 1.4 2:00am"
      ]
    },
    {
      "cell_type": "markdown",
      "metadata": {
        "id": "vp6ri3rgUB1A"
      },
      "source": [
        "##Popular hour to return Electric vehivles"
      ]
    },
    {
      "cell_type": "code",
      "metadata": {
        "colab": {
          "base_uri": "https://localhost:8080/",
          "height": 168
        },
        "id": "6309lsq8VjpL",
        "outputId": "1a441cb8-9c59-44f2-8846-fd30c9c1d305"
      },
      "source": [
        "# What is the most popular hour for returning cars?\n",
        "#the most popular hour for returning cars is when the parking slots availabe are least\n",
        "car_retur = pd.pivot_table(df,values=['Slots'],index=['Hour'],aggfunc=np.sum)\n",
        "car_retur.sort_values(by='Slots',ascending= True).head(3)"
      ],
      "execution_count": 45,
      "outputs": [
        {
          "output_type": "execute_result",
          "data": {
            "text/html": [
              "<div>\n",
              "<style scoped>\n",
              "    .dataframe tbody tr th:only-of-type {\n",
              "        vertical-align: middle;\n",
              "    }\n",
              "\n",
              "    .dataframe tbody tr th {\n",
              "        vertical-align: top;\n",
              "    }\n",
              "\n",
              "    .dataframe thead th {\n",
              "        text-align: right;\n",
              "    }\n",
              "</style>\n",
              "<table border=\"1\" class=\"dataframe\">\n",
              "  <thead>\n",
              "    <tr style=\"text-align: right;\">\n",
              "      <th></th>\n",
              "      <th>Slots</th>\n",
              "    </tr>\n",
              "    <tr>\n",
              "      <th>Hour</th>\n",
              "      <th></th>\n",
              "    </tr>\n",
              "  </thead>\n",
              "  <tbody>\n",
              "    <tr>\n",
              "      <th>0</th>\n",
              "      <td>348</td>\n",
              "    </tr>\n",
              "    <tr>\n",
              "      <th>17</th>\n",
              "      <td>349</td>\n",
              "    </tr>\n",
              "    <tr>\n",
              "      <th>12</th>\n",
              "      <td>368</td>\n",
              "    </tr>\n",
              "  </tbody>\n",
              "</table>\n",
              "</div>"
            ],
            "text/plain": [
              "      Slots\n",
              "Hour       \n",
              "0       348\n",
              "17      349\n",
              "12      368"
            ]
          },
          "metadata": {
            "tags": []
          },
          "execution_count": 45
        }
      ]
    },
    {
      "cell_type": "markdown",
      "metadata": {
        "id": "UjjY_NmUaRfH"
      },
      "source": [
        "the most popular hour to return cars was at midnight which is when there were least available number of parking slots, showing that most of the cars were already parked. 5:00pm was the second most popular hour for returning vehicles followed by noon"
      ]
    },
    {
      "cell_type": "markdown",
      "metadata": {
        "id": "1ezl73YqUY4T"
      },
      "source": [
        "##Popular Station & postal code"
      ]
    },
    {
      "cell_type": "code",
      "metadata": {
        "colab": {
          "base_uri": "https://localhost:8080/"
        },
        "id": "GzEq86ed15os",
        "outputId": "eef4574c-1786-4d9c-83e8-0bc68de41834"
      },
      "source": [
        "#most popular station overall\n",
        "df.groupby('Public Name').count().sort_values(by = 'Bluecar Counter',ascending = False)['Bluecar Counter'].head(1)"
      ],
      "execution_count": 46,
      "outputs": [
        {
          "output_type": "execute_result",
          "data": {
            "text/plain": [
              "Public Name\n",
              "Paris/Porte de Montrouge/8    13\n",
              "Name: Bluecar Counter, dtype: int64"
            ]
          },
          "metadata": {
            "tags": []
          },
          "execution_count": 46
        }
      ]
    },
    {
      "cell_type": "code",
      "metadata": {
        "colab": {
          "base_uri": "https://localhost:8080/",
          "height": 35
        },
        "id": "hqG9HkE3DUqa",
        "outputId": "016493a2-8949-4b68-ce3b-1c19b857bd68"
      },
      "source": [
        "#most popular station at the popular picking hour\n",
        "s = df.loc[df['Hour'] == 21]['Public Name'].value_counts().max()\n",
        "df.loc[s]['Public Name']"
      ],
      "execution_count": 47,
      "outputs": [
        {
          "output_type": "execute_result",
          "data": {
            "application/vnd.google.colaboratory.intrinsic+json": {
              "type": "string"
            },
            "text/plain": [
              "'Paris/EugÃ¨ne OudinÃ©/51'"
            ]
          },
          "metadata": {
            "tags": []
          },
          "execution_count": 47
        }
      ]
    },
    {
      "cell_type": "code",
      "metadata": {
        "colab": {
          "base_uri": "https://localhost:8080/",
          "height": 108
        },
        "id": "s0wt80oSaA6K",
        "outputId": "77ffd543-2eb2-457f-ead3-b38d3c8501ec"
      },
      "source": [
        "#What postal code is the most popular for picking up Blue cars? \n",
        "#create a table of the Bluecar counter indexed by postal code and name of stations and order with the one\n",
        "#with most bluecars to se the most popular station.\n",
        "df.pivot_table(values='Bluecar Counter',index=['Postal Code','Public Name'],aggfunc=np.sum).sort_values(by='Bluecar Counter',ascending=False).head(1)"
      ],
      "execution_count": 48,
      "outputs": [
        {
          "output_type": "execute_result",
          "data": {
            "text/html": [
              "<div>\n",
              "<style scoped>\n",
              "    .dataframe tbody tr th:only-of-type {\n",
              "        vertical-align: middle;\n",
              "    }\n",
              "\n",
              "    .dataframe tbody tr th {\n",
              "        vertical-align: top;\n",
              "    }\n",
              "\n",
              "    .dataframe thead th {\n",
              "        text-align: right;\n",
              "    }\n",
              "</style>\n",
              "<table border=\"1\" class=\"dataframe\">\n",
              "  <thead>\n",
              "    <tr style=\"text-align: right;\">\n",
              "      <th></th>\n",
              "      <th></th>\n",
              "      <th>Bluecar Counter</th>\n",
              "    </tr>\n",
              "    <tr>\n",
              "      <th>Postal Code</th>\n",
              "      <th>Public Name</th>\n",
              "      <th></th>\n",
              "    </tr>\n",
              "  </thead>\n",
              "  <tbody>\n",
              "    <tr>\n",
              "      <th>92260</th>\n",
              "      <th>Fontenay-aux-Roses/Robert Marchand/32</th>\n",
              "      <td>50</td>\n",
              "    </tr>\n",
              "  </tbody>\n",
              "</table>\n",
              "</div>"
            ],
            "text/plain": [
              "                                                   Bluecar Counter\n",
              "Postal Code Public Name                                           \n",
              "92260       Fontenay-aux-Roses/Robert Marchand/32               50"
            ]
          },
          "metadata": {
            "tags": []
          },
          "execution_count": 48
        }
      ]
    },
    {
      "cell_type": "code",
      "metadata": {
        "colab": {
          "base_uri": "https://localhost:8080/",
          "height": 108
        },
        "id": "vukvzG7NgSIQ",
        "outputId": "03178c75-1a18-4c0a-9e5e-5f5000903cc4"
      },
      "source": [
        "#most popular sation for picking Utilibs\n",
        "df.pivot_table(values='Utilib Counter',index=['Postal Code','Public Name'],aggfunc=np.sum).sort_values(by='Utilib Counter',ascending=False).head(1)"
      ],
      "execution_count": 49,
      "outputs": [
        {
          "output_type": "execute_result",
          "data": {
            "text/html": [
              "<div>\n",
              "<style scoped>\n",
              "    .dataframe tbody tr th:only-of-type {\n",
              "        vertical-align: middle;\n",
              "    }\n",
              "\n",
              "    .dataframe tbody tr th {\n",
              "        vertical-align: top;\n",
              "    }\n",
              "\n",
              "    .dataframe thead th {\n",
              "        text-align: right;\n",
              "    }\n",
              "</style>\n",
              "<table border=\"1\" class=\"dataframe\">\n",
              "  <thead>\n",
              "    <tr style=\"text-align: right;\">\n",
              "      <th></th>\n",
              "      <th></th>\n",
              "      <th>Utilib Counter</th>\n",
              "    </tr>\n",
              "    <tr>\n",
              "      <th>Postal Code</th>\n",
              "      <th>Public Name</th>\n",
              "      <th></th>\n",
              "    </tr>\n",
              "  </thead>\n",
              "  <tbody>\n",
              "    <tr>\n",
              "      <th>92360</th>\n",
              "      <th>Meudon/MarÃ©chal Juin/18</th>\n",
              "      <td>4</td>\n",
              "    </tr>\n",
              "  </tbody>\n",
              "</table>\n",
              "</div>"
            ],
            "text/plain": [
              "                                      Utilib Counter\n",
              "Postal Code Public Name                             \n",
              "92360       Meudon/MarÃ©chal Juin/18               4"
            ]
          },
          "metadata": {
            "tags": []
          },
          "execution_count": 49
        }
      ]
    },
    {
      "cell_type": "code",
      "metadata": {
        "colab": {
          "base_uri": "https://localhost:8080/",
          "height": 108
        },
        "id": "z0QTAagbgnmn",
        "outputId": "e7b8528b-6638-4bb7-db18-8e31317c03ab"
      },
      "source": [
        "#most popular sation for picking Utilib 1.4\n",
        "df.pivot_table(values='Utilib 1.4 Counter',index=['Postal Code','Public Name'],aggfunc=np.sum).sort_values(by='Utilib 1.4 Counter',ascending=False).head(1)"
      ],
      "execution_count": 50,
      "outputs": [
        {
          "output_type": "execute_result",
          "data": {
            "text/html": [
              "<div>\n",
              "<style scoped>\n",
              "    .dataframe tbody tr th:only-of-type {\n",
              "        vertical-align: middle;\n",
              "    }\n",
              "\n",
              "    .dataframe tbody tr th {\n",
              "        vertical-align: top;\n",
              "    }\n",
              "\n",
              "    .dataframe thead th {\n",
              "        text-align: right;\n",
              "    }\n",
              "</style>\n",
              "<table border=\"1\" class=\"dataframe\">\n",
              "  <thead>\n",
              "    <tr style=\"text-align: right;\">\n",
              "      <th></th>\n",
              "      <th></th>\n",
              "      <th>Utilib 1.4 Counter</th>\n",
              "    </tr>\n",
              "    <tr>\n",
              "      <th>Postal Code</th>\n",
              "      <th>Public Name</th>\n",
              "      <th></th>\n",
              "    </tr>\n",
              "  </thead>\n",
              "  <tbody>\n",
              "    <tr>\n",
              "      <th>92310</th>\n",
              "      <th>SÃ¨vres/Grande Rue/123</th>\n",
              "      <td>9</td>\n",
              "    </tr>\n",
              "  </tbody>\n",
              "</table>\n",
              "</div>"
            ],
            "text/plain": [
              "                                    Utilib 1.4 Counter\n",
              "Postal Code Public Name                               \n",
              "92310       SÃ¨vres/Grande Rue/123                   9"
            ]
          },
          "metadata": {
            "tags": []
          },
          "execution_count": 50
        }
      ]
    },
    {
      "cell_type": "code",
      "metadata": {
        "colab": {
          "base_uri": "https://localhost:8080/",
          "height": 228
        },
        "id": "aRIBqIufbJYp",
        "outputId": "6d13878c-36fa-4dbc-a847-7cb22e699276"
      },
      "source": [
        "#Does the most popular station belong to the most popular  postal code?\n",
        "df['cars']=df['Bluecar Counter'] + df['Utilib 1.4 Counter'] + df['Utilib Counter']\n",
        "df.pivot_table(values=['cars'],index=['Public Name','Postal Code'],aggfunc=np.sum).sort_values(by='cars',ascending=0).head()"
      ],
      "execution_count": 51,
      "outputs": [
        {
          "output_type": "execute_result",
          "data": {
            "text/html": [
              "<div>\n",
              "<style scoped>\n",
              "    .dataframe tbody tr th:only-of-type {\n",
              "        vertical-align: middle;\n",
              "    }\n",
              "\n",
              "    .dataframe tbody tr th {\n",
              "        vertical-align: top;\n",
              "    }\n",
              "\n",
              "    .dataframe thead th {\n",
              "        text-align: right;\n",
              "    }\n",
              "</style>\n",
              "<table border=\"1\" class=\"dataframe\">\n",
              "  <thead>\n",
              "    <tr style=\"text-align: right;\">\n",
              "      <th></th>\n",
              "      <th></th>\n",
              "      <th>cars</th>\n",
              "    </tr>\n",
              "    <tr>\n",
              "      <th>Public Name</th>\n",
              "      <th>Postal Code</th>\n",
              "      <th></th>\n",
              "    </tr>\n",
              "  </thead>\n",
              "  <tbody>\n",
              "    <tr>\n",
              "      <th>Paris/Porte de Montrouge/8</th>\n",
              "      <th>75014</th>\n",
              "      <td>50</td>\n",
              "    </tr>\n",
              "    <tr>\n",
              "      <th>Fontenay-aux-Roses/Robert Marchand/32</th>\n",
              "      <th>92260</th>\n",
              "      <td>50</td>\n",
              "    </tr>\n",
              "    <tr>\n",
              "      <th>Le Plessis-Robinson/GalilÃ©e/16</th>\n",
              "      <th>92350</th>\n",
              "      <td>49</td>\n",
              "    </tr>\n",
              "    <tr>\n",
              "      <th>Fontenay-aux-Roses/Lombard/20</th>\n",
              "      <th>92260</th>\n",
              "      <td>48</td>\n",
              "    </tr>\n",
              "    <tr>\n",
              "      <th>Fontenay-aux-Roses/Division Leclerc/31</th>\n",
              "      <th>92260</th>\n",
              "      <td>46</td>\n",
              "    </tr>\n",
              "  </tbody>\n",
              "</table>\n",
              "</div>"
            ],
            "text/plain": [
              "                                                    cars\n",
              "Public Name                            Postal Code      \n",
              "Paris/Porte de Montrouge/8             75014          50\n",
              "Fontenay-aux-Roses/Robert Marchand/32  92260          50\n",
              "Le Plessis-Robinson/GalilÃ©e/16        92350          49\n",
              "Fontenay-aux-Roses/Lombard/20          92260          48\n",
              "Fontenay-aux-Roses/Division Leclerc/31 92260          46"
            ]
          },
          "metadata": {
            "tags": []
          },
          "execution_count": 51
        }
      ]
    },
    {
      "cell_type": "code",
      "metadata": {
        "colab": {
          "base_uri": "https://localhost:8080/",
          "height": 357
        },
        "id": "Sxa3bmfOoOnc",
        "outputId": "f56e57e4-74a5-4156-c791-e68dff881c42"
      },
      "source": [
        "#popular station at the most popular picking hour?\n",
        "df2 = df[df['Hour'] == 20]\n",
        "df2['cars']=df2['Bluecar Counter'] + df2['Utilib 1.4 Counter'] + df2['Utilib Counter']\n",
        "df2.pivot_table(values=['cars'],index=['Hour','Public Name'],aggfunc=np.sum).sort_values(by='cars',ascending=0).head()"
      ],
      "execution_count": 52,
      "outputs": [
        {
          "output_type": "stream",
          "text": [
            "/usr/local/lib/python3.7/dist-packages/ipykernel_launcher.py:3: SettingWithCopyWarning: \n",
            "A value is trying to be set on a copy of a slice from a DataFrame.\n",
            "Try using .loc[row_indexer,col_indexer] = value instead\n",
            "\n",
            "See the caveats in the documentation: https://pandas.pydata.org/pandas-docs/stable/user_guide/indexing.html#returning-a-view-versus-a-copy\n",
            "  This is separate from the ipykernel package so we can avoid doing imports until\n"
          ],
          "name": "stderr"
        },
        {
          "output_type": "execute_result",
          "data": {
            "text/html": [
              "<div>\n",
              "<style scoped>\n",
              "    .dataframe tbody tr th:only-of-type {\n",
              "        vertical-align: middle;\n",
              "    }\n",
              "\n",
              "    .dataframe tbody tr th {\n",
              "        vertical-align: top;\n",
              "    }\n",
              "\n",
              "    .dataframe thead th {\n",
              "        text-align: right;\n",
              "    }\n",
              "</style>\n",
              "<table border=\"1\" class=\"dataframe\">\n",
              "  <thead>\n",
              "    <tr style=\"text-align: right;\">\n",
              "      <th></th>\n",
              "      <th></th>\n",
              "      <th>cars</th>\n",
              "    </tr>\n",
              "    <tr>\n",
              "      <th>Hour</th>\n",
              "      <th>Public Name</th>\n",
              "      <th></th>\n",
              "    </tr>\n",
              "  </thead>\n",
              "  <tbody>\n",
              "    <tr>\n",
              "      <th rowspan=\"5\" valign=\"top\">20</th>\n",
              "      <th>Le Blanc-Mesnil/Claude Terrasse/1</th>\n",
              "      <td>11</td>\n",
              "    </tr>\n",
              "    <tr>\n",
              "      <th>Paris/Cambronne/Parking</th>\n",
              "      <td>11</td>\n",
              "    </tr>\n",
              "    <tr>\n",
              "      <th>CrÃ©teil/Gabriel FaurÃ©/18</th>\n",
              "      <td>10</td>\n",
              "    </tr>\n",
              "    <tr>\n",
              "      <th>Nanterre/Hoche/1</th>\n",
              "      <td>7</td>\n",
              "    </tr>\n",
              "    <tr>\n",
              "      <th>VerriÃ¨res-le-Buisson/MarÃ©chal Foch/56</th>\n",
              "      <td>7</td>\n",
              "    </tr>\n",
              "  </tbody>\n",
              "</table>\n",
              "</div>"
            ],
            "text/plain": [
              "                                              cars\n",
              "Hour Public Name                                  \n",
              "20   Le Blanc-Mesnil/Claude Terrasse/1          11\n",
              "     Paris/Cambronne/Parking                    11\n",
              "     CrÃ©teil/Gabriel FaurÃ©/18                 10\n",
              "     Nanterre/Hoche/1                            7\n",
              "     VerriÃ¨res-le-Buisson/MarÃ©chal Foch/56     7"
            ]
          },
          "metadata": {
            "tags": []
          },
          "execution_count": 52
        }
      ]
    },
    {
      "cell_type": "markdown",
      "metadata": {
        "id": "YZQAbJh1fls3"
      },
      "source": [
        "1.the most popular stations are Paris/Porte de Montrouge/8 and Fontenay-aux-Roses/Robert Marchand/32 which both had the most number of cars for the month of april\n",
        "\n",
        "2.the most popular stations at the overall popular picking hour are Le Blanc-Mesnil/Claude Terrasse/1\tand Paris/Cambronne/Parking\n",
        "\n",
        "3.the most popular station does belong to the most popular postal code"
      ]
    },
    {
      "cell_type": "code",
      "metadata": {
        "colab": {
          "base_uri": "https://localhost:8080/"
        },
        "id": "XY_JsFl-wXlP",
        "outputId": "52b980f7-fddc-47c6-aa8d-2575950e3cc1"
      },
      "source": [
        "#Most popular city, top 3\n",
        "df.groupby('City').count().sort_values(by = 'Bluecar Counter',ascending = False)['Bluecar Counter'].head(3)"
      ],
      "execution_count": 53,
      "outputs": [
        {
          "output_type": "execute_result",
          "data": {
            "text/plain": [
              "City\n",
              "Paris                  2801\n",
              "Nanterre                125\n",
              "Issy-les-Moulineaux     101\n",
              "Name: Bluecar Counter, dtype: int64"
            ]
          },
          "metadata": {
            "tags": []
          },
          "execution_count": 53
        }
      ]
    }
  ]
}