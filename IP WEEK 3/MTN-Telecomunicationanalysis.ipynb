{
 "cells": [
  {
   "cell_type": "markdown",
   "metadata": {},
   "source": [
    "                                        PYTHON PROGRAMMING"
   ]
  },
  {
   "cell_type": "markdown",
   "metadata": {},
   "source": [
    "                                    MTN COTE D'IVOIRE DATA ANALYSIS"
   ]
  },
  {
   "cell_type": "markdown",
   "metadata": {},
   "source": [
    "**RESEARCH OBJECTIVE**\r\n",
    "\r\n",
    "Currently MTN Cote d'Ivoire would like to upgrade its technology infrastructure for its mobile users in Ivory Coast. Studying the given dataset, how does MTN Cote d'Ivoire go about the upgrade of its infrastructure strategy within the given cities?"
   ]
  },
  {
   "cell_type": "code",
   "execution_count": 44,
   "metadata": {},
   "outputs": [],
   "source": [
    "#we begin by first importing pandas and numpy\r\n",
    "import pandas as pd\r\n",
    "import numpy as np\r\n"
   ]
  },
  {
   "cell_type": "markdown",
   "metadata": {},
   "source": [
    "IMPORTING THE DATA TABLES"
   ]
  },
  {
   "cell_type": "code",
   "execution_count": 45,
   "metadata": {},
   "outputs": [
    {
     "data": {
      "text/html": "<div>\n<style scoped>\n    .dataframe tbody tr th:only-of-type {\n        vertical-align: middle;\n    }\n\n    .dataframe tbody tr th {\n        vertical-align: top;\n    }\n\n    .dataframe thead th {\n        text-align: right;\n    }\n</style>\n<table border=\"1\" class=\"dataframe\">\n  <thead>\n    <tr style=\"text-align: right;\">\n      <th></th>\n      <th>Column name</th>\n      <th>Description</th>\n      <th>Format</th>\n    </tr>\n  </thead>\n  <tbody>\n    <tr>\n      <th>0</th>\n      <td>PRODUCT</td>\n      <td>Voice or SMS</td>\n      <td>String</td>\n    </tr>\n    <tr>\n      <th>1</th>\n      <td>VALUE</td>\n      <td>Billing price</td>\n      <td>Integer</td>\n    </tr>\n    <tr>\n      <th>2</th>\n      <td>DATE_TIME</td>\n      <td>Time in format yyyy-MM-dd hh:mm:ss.0</td>\n      <td>String</td>\n    </tr>\n    <tr>\n      <th>3</th>\n      <td>CELL_ON_SITE</td>\n      <td>Which cell in the site was used (not needed here)</td>\n      <td>Integer</td>\n    </tr>\n    <tr>\n      <th>4</th>\n      <td>DW_A_NUMBER_INT</td>\n      <td>Anonymized phone number of the person for whic...</td>\n      <td>String</td>\n    </tr>\n    <tr>\n      <th>5</th>\n      <td>DW_B_NUMBER_INT</td>\n      <td>Anonymized phone number of the counterparty</td>\n      <td>String</td>\n    </tr>\n    <tr>\n      <th>6</th>\n      <td>COUNTRY_A</td>\n      <td>Country of party A (useless here)</td>\n      <td>String</td>\n    </tr>\n    <tr>\n      <th>7</th>\n      <td>COUNTRY_B</td>\n      <td>Country of party B (useless here)</td>\n      <td>String</td>\n    </tr>\n    <tr>\n      <th>8</th>\n      <td>CELL_ID</td>\n      <td>ID of the cell</td>\n      <td>String</td>\n    </tr>\n    <tr>\n      <th>9</th>\n      <td>SITE_ID</td>\n      <td>ID of the SITE</td>\n      <td>String</td>\n    </tr>\n  </tbody>\n</table>\n</div>",
      "text/plain": "       Column name                                        Description   Format\n0          PRODUCT                                       Voice or SMS   String\n1            VALUE                                      Billing price  Integer\n2        DATE_TIME               Time in format yyyy-MM-dd hh:mm:ss.0   String\n3     CELL_ON_SITE  Which cell in the site was used (not needed here)  Integer\n4  DW_A_NUMBER_INT  Anonymized phone number of the person for whic...   String\n5  DW_B_NUMBER_INT        Anonymized phone number of the counterparty   String\n6        COUNTRY_A                  Country of party A (useless here)   String\n7        COUNTRY_B                  Country of party B (useless here)   String\n8          CELL_ID                                     ID of the cell   String\n9          SITE_ID                                     ID of the SITE   String"
     },
     "execution_count": 45,
     "metadata": {},
     "output_type": "execute_result"
    }
   ],
   "source": [
    "#loadinng our data tables\r\n",
    "# CRD Decription table\r\n",
    "cdr = pd.read_excel('CDR_description.xlsx')\r\n",
    "cdr = pd.DataFrame(cdr)\r\n",
    "cdr"
   ]
  },
  {
   "cell_type": "code",
   "execution_count": 46,
   "metadata": {},
   "outputs": [
    {
     "data": {
      "text/html": "<div>\n<style scoped>\n    .dataframe tbody tr th:only-of-type {\n        vertical-align: middle;\n    }\n\n    .dataframe tbody tr th {\n        vertical-align: top;\n    }\n\n    .dataframe thead th {\n        text-align: right;\n    }\n</style>\n<table border=\"1\" class=\"dataframe\">\n  <thead>\n    <tr style=\"text-align: right;\">\n      <th></th>\n      <th>Column name</th>\n      <th>Description</th>\n      <th>Format</th>\n    </tr>\n  </thead>\n  <tbody>\n    <tr>\n      <th>0</th>\n      <td>VILLES</td>\n      <td>City</td>\n      <td>String</td>\n    </tr>\n    <tr>\n      <th>1</th>\n      <td>STATUS</td>\n      <td>In Service or not</td>\n      <td>String</td>\n    </tr>\n    <tr>\n      <th>2</th>\n      <td>LOCALISATION</td>\n      <td>in ABIDJAN or not</td>\n      <td>String</td>\n    </tr>\n    <tr>\n      <th>3</th>\n      <td>DECOUPZONE</td>\n      <td>Geographical Zone</td>\n      <td>String</td>\n    </tr>\n    <tr>\n      <th>4</th>\n      <td>ZONENAME</td>\n      <td>Name of Zone</td>\n      <td>String</td>\n    </tr>\n    <tr>\n      <th>5</th>\n      <td>LONGITUDE</td>\n      <td>Longitude</td>\n      <td>Float</td>\n    </tr>\n    <tr>\n      <th>6</th>\n      <td>LATITUDE</td>\n      <td>Latitude</td>\n      <td>Float</td>\n    </tr>\n    <tr>\n      <th>7</th>\n      <td>REGION</td>\n      <td>Region</td>\n      <td>String</td>\n    </tr>\n    <tr>\n      <th>8</th>\n      <td>AREA</td>\n      <td>Area</td>\n      <td>String</td>\n    </tr>\n    <tr>\n      <th>9</th>\n      <td>CELL_ID</td>\n      <td>ID of the cell</td>\n      <td>String</td>\n    </tr>\n    <tr>\n      <th>10</th>\n      <td>SITE_CODE</td>\n      <td>Site (there are several cells per site, severa...</td>\n      <td>String</td>\n    </tr>\n  </tbody>\n</table>\n</div>",
      "text/plain": "     Column name                                        Description  Format\n0         VILLES                                               City  String\n1         STATUS                                  In Service or not  String\n2   LOCALISATION                                  in ABIDJAN or not  String\n3     DECOUPZONE                                  Geographical Zone  String\n4       ZONENAME                                       Name of Zone  String\n5      LONGITUDE                                          Longitude   Float\n6       LATITUDE                                           Latitude   Float\n7         REGION                                             Region  String\n8           AREA                                               Area  String\n9        CELL_ID                                     ID of the cell  String\n10     SITE_CODE  Site (there are several cells per site, severa...  String"
     },
     "execution_count": 46,
     "metadata": {},
     "output_type": "execute_result"
    }
   ],
   "source": [
    "#cells geo description table\r\n",
    "cellgeodesc = pd.read_excel('cells_geo_description.xlsx')\r\n",
    "cellgeodesc = pd.DataFrame(cellgeodesc)\r\n",
    "cellgeodesc"
   ]
  },
  {
   "cell_type": "code",
   "execution_count": 47,
   "metadata": {},
   "outputs": [
    {
     "data": {
      "text/html": "<div>\n<style scoped>\n    .dataframe tbody tr th:only-of-type {\n        vertical-align: middle;\n    }\n\n    .dataframe tbody tr th {\n        vertical-align: top;\n    }\n\n    .dataframe thead th {\n        text-align: right;\n    }\n</style>\n<table border=\"1\" class=\"dataframe\">\n  <thead>\n    <tr style=\"text-align: right;\">\n      <th></th>\n      <th>Unnamed: 0</th>\n      <th>VILLES</th>\n      <th>STATUS</th>\n      <th>LOCALISATION</th>\n      <th>DECOUPZONE</th>\n      <th>ZONENAME</th>\n      <th>LONGITUDE</th>\n      <th>LATITUDE</th>\n      <th>REGION</th>\n      <th>AREA</th>\n      <th>CELL_ID</th>\n      <th>SITE_CODE</th>\n    </tr>\n  </thead>\n  <tbody>\n    <tr>\n      <th>0</th>\n      <td>0</td>\n      <td>ADJAME</td>\n      <td>In Service</td>\n      <td>ABIDJAN</td>\n      <td>\"Abidjan_EST</td>\n      <td>AGBANNEW</td>\n      <td>-4.000667</td>\n      <td>5.368194</td>\n      <td>LAGUNE</td>\n      <td>NaN</td>\n      <td>fbb2e75af3</td>\n      <td>0bb492ef17</td>\n    </tr>\n    <tr>\n      <th>1</th>\n      <td>1</td>\n      <td>ADJAME</td>\n      <td>In Service</td>\n      <td>ABIDJAN</td>\n      <td>\"Abidjan_EST</td>\n      <td>AGBANNEW</td>\n      <td>-4.000667</td>\n      <td>5.368194</td>\n      <td>LAGUNE</td>\n      <td>NaN</td>\n      <td>1502501d78</td>\n      <td>0bb492ef17</td>\n    </tr>\n    <tr>\n      <th>2</th>\n      <td>2</td>\n      <td>ADJAME</td>\n      <td>In Service</td>\n      <td>ABIDJAN</td>\n      <td>\"Abidjan_EST</td>\n      <td>AGBANNEW</td>\n      <td>-4.000667</td>\n      <td>5.368194</td>\n      <td>LAGUNE</td>\n      <td>NaN</td>\n      <td>0c2e182a0c</td>\n      <td>0bb492ef17</td>\n    </tr>\n    <tr>\n      <th>3</th>\n      <td>3</td>\n      <td>ASSINIE</td>\n      <td>In Service</td>\n      <td>INTERIEUR</td>\n      <td>Grand-EST</td>\n      <td>ASSINIE\"</td>\n      <td>-3.488467</td>\n      <td>5.158761</td>\n      <td>SUD COMOE</td>\n      <td>NaN</td>\n      <td>69bdfc69fd</td>\n      <td>8a1e6ce31f</td>\n    </tr>\n    <tr>\n      <th>4</th>\n      <td>4</td>\n      <td>ASSINIE</td>\n      <td>In Service</td>\n      <td>INTERIEUR</td>\n      <td>Grand-EST</td>\n      <td>ASSINIE\"</td>\n      <td>-3.488467</td>\n      <td>5.158761</td>\n      <td>SUD COMOE</td>\n      <td>NaN</td>\n      <td>7a1029d2ab</td>\n      <td>8a1e6ce31f</td>\n    </tr>\n    <tr>\n      <th>...</th>\n      <td>...</td>\n      <td>...</td>\n      <td>...</td>\n      <td>...</td>\n      <td>...</td>\n      <td>...</td>\n      <td>...</td>\n      <td>...</td>\n      <td>...</td>\n      <td>...</td>\n      <td>...</td>\n      <td>...</td>\n    </tr>\n    <tr>\n      <th>3969</th>\n      <td>3969</td>\n      <td>ZUENOULA</td>\n      <td>In Service</td>\n      <td>INTERIEUR</td>\n      <td>Grand-NORD</td>\n      <td>ZONE A - Grand-NORD</td>\n      <td>-6.039694</td>\n      <td>7.428611</td>\n      <td>MARAHOUE</td>\n      <td>CENTRE NORTH</td>\n      <td>1cfc2d7ab1</td>\n      <td>f91ed8d2e9</td>\n    </tr>\n    <tr>\n      <th>3970</th>\n      <td>3970</td>\n      <td>ZUENOULA</td>\n      <td>In Service</td>\n      <td>INTERIEUR</td>\n      <td>Grand-NORD</td>\n      <td>ZONE A - Grand-NORD</td>\n      <td>-6.039694</td>\n      <td>7.428611</td>\n      <td>MARAHOUE</td>\n      <td>CENTRE NORTH</td>\n      <td>3ae1708153</td>\n      <td>f91ed8d2e9</td>\n    </tr>\n    <tr>\n      <th>3971</th>\n      <td>3971</td>\n      <td>ZUENOULA</td>\n      <td>In Service</td>\n      <td>INTERIEUR</td>\n      <td>Grand-NORD</td>\n      <td>ZONE A - Grand-NORD</td>\n      <td>-6.065450</td>\n      <td>7.444592</td>\n      <td>MARAHOUE</td>\n      <td>CENTRE NORTH</td>\n      <td>cb71f8a29c</td>\n      <td>61bee9c70c</td>\n    </tr>\n    <tr>\n      <th>3972</th>\n      <td>3972</td>\n      <td>ZUENOULA</td>\n      <td>In Service</td>\n      <td>INTERIEUR</td>\n      <td>Grand-NORD</td>\n      <td>ZONE A - Grand-NORD</td>\n      <td>-6.065450</td>\n      <td>7.444592</td>\n      <td>MARAHOUE</td>\n      <td>CENTRE NORTH</td>\n      <td>d4a6a0b645</td>\n      <td>61bee9c70c</td>\n    </tr>\n    <tr>\n      <th>3973</th>\n      <td>3973</td>\n      <td>ZUENOULA</td>\n      <td>In Service</td>\n      <td>INTERIEUR</td>\n      <td>Grand-NORD</td>\n      <td>ZONE A - Grand-NORD</td>\n      <td>-6.065450</td>\n      <td>7.444592</td>\n      <td>MARAHOUE</td>\n      <td>CENTRE NORTH</td>\n      <td>f9f3e42589</td>\n      <td>61bee9c70c</td>\n    </tr>\n  </tbody>\n</table>\n<p>3974 rows × 12 columns</p>\n</div>",
      "text/plain": "      Unnamed: 0    VILLES      STATUS LOCALISATION    DECOUPZONE  \\\n0              0    ADJAME  In Service      ABIDJAN  \"Abidjan_EST   \n1              1    ADJAME  In Service      ABIDJAN  \"Abidjan_EST   \n2              2    ADJAME  In Service      ABIDJAN  \"Abidjan_EST   \n3              3   ASSINIE  In Service    INTERIEUR     Grand-EST   \n4              4   ASSINIE  In Service    INTERIEUR     Grand-EST   \n...          ...       ...         ...          ...           ...   \n3969        3969  ZUENOULA  In Service    INTERIEUR    Grand-NORD   \n3970        3970  ZUENOULA  In Service    INTERIEUR    Grand-NORD   \n3971        3971  ZUENOULA  In Service    INTERIEUR    Grand-NORD   \n3972        3972  ZUENOULA  In Service    INTERIEUR    Grand-NORD   \n3973        3973  ZUENOULA  In Service    INTERIEUR    Grand-NORD   \n\n                 ZONENAME  LONGITUDE  LATITUDE     REGION          AREA  \\\n0                AGBANNEW  -4.000667  5.368194     LAGUNE           NaN   \n1                AGBANNEW  -4.000667  5.368194     LAGUNE           NaN   \n2                AGBANNEW  -4.000667  5.368194     LAGUNE           NaN   \n3                ASSINIE\"  -3.488467  5.158761  SUD COMOE           NaN   \n4                ASSINIE\"  -3.488467  5.158761  SUD COMOE           NaN   \n...                   ...        ...       ...        ...           ...   \n3969  ZONE A - Grand-NORD  -6.039694  7.428611   MARAHOUE  CENTRE NORTH   \n3970  ZONE A - Grand-NORD  -6.039694  7.428611   MARAHOUE  CENTRE NORTH   \n3971  ZONE A - Grand-NORD  -6.065450  7.444592   MARAHOUE  CENTRE NORTH   \n3972  ZONE A - Grand-NORD  -6.065450  7.444592   MARAHOUE  CENTRE NORTH   \n3973  ZONE A - Grand-NORD  -6.065450  7.444592   MARAHOUE  CENTRE NORTH   \n\n         CELL_ID   SITE_CODE  \n0     fbb2e75af3  0bb492ef17  \n1     1502501d78  0bb492ef17  \n2     0c2e182a0c  0bb492ef17  \n3     69bdfc69fd  8a1e6ce31f  \n4     7a1029d2ab  8a1e6ce31f  \n...          ...         ...  \n3969  1cfc2d7ab1  f91ed8d2e9  \n3970  3ae1708153  f91ed8d2e9  \n3971  cb71f8a29c  61bee9c70c  \n3972  d4a6a0b645  61bee9c70c  \n3973  f9f3e42589  61bee9c70c  \n\n[3974 rows x 12 columns]"
     },
     "execution_count": 47,
     "metadata": {},
     "output_type": "execute_result"
    }
   ],
   "source": [
    "#cells geo table\r\n",
    "cellgeo = pd.read_csv('cells_geo.csv', delimiter = r';', engine ='python')\r\n",
    "cellgeo = pd.DataFrame(cellgeo)\r\n",
    "cellgeo"
   ]
  },
  {
   "cell_type": "code",
   "execution_count": 48,
   "metadata": {},
   "outputs": [
    {
     "data": {
      "text/html": "<div>\n<style scoped>\n    .dataframe tbody tr th:only-of-type {\n        vertical-align: middle;\n    }\n\n    .dataframe tbody tr th {\n        vertical-align: top;\n    }\n\n    .dataframe thead th {\n        text-align: right;\n    }\n</style>\n<table border=\"1\" class=\"dataframe\">\n  <thead>\n    <tr style=\"text-align: right;\">\n      <th></th>\n      <th>PRODUTC</th>\n      <th>VALUE</th>\n      <th>DATETIME</th>\n      <th>CELL_ON_SITE</th>\n      <th>DW_A_NUMBER_INT</th>\n      <th>DW_B_NUMBER_INT</th>\n      <th>COUNTRY_A</th>\n      <th>COUNTRY_B</th>\n      <th>CELL_ID</th>\n      <th>SITE_ID</th>\n    </tr>\n  </thead>\n  <tbody>\n    <tr>\n      <th>0</th>\n      <td>Voice</td>\n      <td>0</td>\n      <td>2012-05-06 23:04:37.0</td>\n      <td>1</td>\n      <td>49fae048b547780</td>\n      <td>1a49f8b0ded9de6</td>\n      <td>19e2e</td>\n      <td>19e2e</td>\n      <td>/TJNe+Mmtu</td>\n      <td>/TJNe+Mmtu</td>\n    </tr>\n    <tr>\n      <th>1</th>\n      <td>sms</td>\n      <td>0</td>\n      <td>2012-05-06 23:05:25.0</td>\n      <td>0</td>\n      <td>7a54a6eaee19e65</td>\n      <td>93343ba6e41af95</td>\n      <td>19e2e</td>\n      <td>19e2e</td>\n      <td>/+cKZKIp41</td>\n      <td>/+cKZKIp41</td>\n    </tr>\n    <tr>\n      <th>2</th>\n      <td>sms</td>\n      <td>25</td>\n      <td>2012-05-06 23:05:41.0</td>\n      <td>0</td>\n      <td>6008887b0207d82</td>\n      <td>7aacc9709ce0a20</td>\n      <td>19e2e</td>\n      <td>19e2e</td>\n      <td>/u0FSD+ahi</td>\n      <td>/u0FSD+ahi</td>\n    </tr>\n    <tr>\n      <th>3</th>\n      <td>Voice</td>\n      <td>56</td>\n      <td>2012-05-06 23:05:42.0</td>\n      <td>1</td>\n      <td>7370032e20f4e96</td>\n      <td>6af4a60e74c91d3</td>\n      <td>19e2e</td>\n      <td>19e2e</td>\n      <td>+cNeJzsTp3</td>\n      <td>+cNeJzsTp3</td>\n    </tr>\n    <tr>\n      <th>4</th>\n      <td>Voice</td>\n      <td>14</td>\n      <td>2012-05-06 23:06:29.0</td>\n      <td>1</td>\n      <td>966ba4656e38e62</td>\n      <td>02aa736ee555d5c</td>\n      <td>19e2e</td>\n      <td>19e2e</td>\n      <td>051KhYDCpv</td>\n      <td>051KhYDCpv</td>\n    </tr>\n    <tr>\n      <th>...</th>\n      <td>...</td>\n      <td>...</td>\n      <td>...</td>\n      <td>...</td>\n      <td>...</td>\n      <td>...</td>\n      <td>...</td>\n      <td>...</td>\n      <td>...</td>\n      <td>...</td>\n    </tr>\n    <tr>\n      <th>4996</th>\n      <td>sms</td>\n      <td>100</td>\n      <td>2012-05-07 00:01:54.0</td>\n      <td>0</td>\n      <td>92e367d671f45c5</td>\n      <td>38811081cf82c90</td>\n      <td>19e2e</td>\n      <td>OTHER</td>\n      <td>0c2371d9bc</td>\n      <td>1e751d08a4</td>\n    </tr>\n    <tr>\n      <th>4997</th>\n      <td>Voice</td>\n      <td>1</td>\n      <td>2012-05-07 00:01:54.0</td>\n      <td>1</td>\n      <td>83b44b18238e602</td>\n      <td>6ec63d4aa5de5dd</td>\n      <td>19e2e</td>\n      <td>19e2e</td>\n      <td>5fb791cf56</td>\n      <td>65efe2bc62</td>\n    </tr>\n    <tr>\n      <th>4998</th>\n      <td>Voice</td>\n      <td>0</td>\n      <td>2012-05-07 00:01:54.0</td>\n      <td>1</td>\n      <td>49fae048b547780</td>\n      <td>1a49f8b0ded9de6</td>\n      <td>19e2e</td>\n      <td>19e2e</td>\n      <td>7773627c12</td>\n      <td>9ef9616350</td>\n    </tr>\n    <tr>\n      <th>4999</th>\n      <td>Voice</td>\n      <td>0</td>\n      <td>2012-05-07 00:01:54.0</td>\n      <td>0</td>\n      <td>a1613f1a992716a</td>\n      <td>bd663f07b6c8bcd</td>\n      <td>19e2e</td>\n      <td>19e2e</td>\n      <td>3f4af49d6c</td>\n      <td>969b8d0e39</td>\n    </tr>\n    <tr>\n      <th>5000</th>\n      <td>Voice</td>\n      <td>7</td>\n      <td>2012-05-07 00:01:54.0</td>\n      <td>2</td>\n      <td>1670a5f7c22f4ed</td>\n      <td>3600efd094f2225</td>\n      <td>19e2e</td>\n      <td>19e2e</td>\n      <td>6f4d9b77a5</td>\n      <td>ebfc58af70</td>\n    </tr>\n  </tbody>\n</table>\n<p>5001 rows × 10 columns</p>\n</div>",
      "text/plain": "     PRODUTC  VALUE               DATETIME CELL_ON_SITE  DW_A_NUMBER_INT  \\\n0      Voice      0  2012-05-06 23:04:37.0            1  49fae048b547780   \n1        sms      0  2012-05-06 23:05:25.0            0  7a54a6eaee19e65   \n2        sms     25  2012-05-06 23:05:41.0            0  6008887b0207d82   \n3      Voice     56  2012-05-06 23:05:42.0            1  7370032e20f4e96   \n4      Voice     14  2012-05-06 23:06:29.0            1  966ba4656e38e62   \n...      ...    ...                    ...          ...              ...   \n4996     sms    100  2012-05-07 00:01:54.0            0  92e367d671f45c5   \n4997   Voice      1  2012-05-07 00:01:54.0            1  83b44b18238e602   \n4998   Voice      0  2012-05-07 00:01:54.0            1  49fae048b547780   \n4999   Voice      0  2012-05-07 00:01:54.0            0  a1613f1a992716a   \n5000   Voice      7  2012-05-07 00:01:54.0            2  1670a5f7c22f4ed   \n\n      DW_B_NUMBER_INT COUNTRY_A COUNTRY_B     CELL_ID     SITE_ID  \n0     1a49f8b0ded9de6     19e2e     19e2e  /TJNe+Mmtu  /TJNe+Mmtu  \n1     93343ba6e41af95     19e2e     19e2e  /+cKZKIp41  /+cKZKIp41  \n2     7aacc9709ce0a20     19e2e     19e2e  /u0FSD+ahi  /u0FSD+ahi  \n3     6af4a60e74c91d3     19e2e     19e2e  +cNeJzsTp3  +cNeJzsTp3  \n4     02aa736ee555d5c     19e2e     19e2e  051KhYDCpv  051KhYDCpv  \n...               ...       ...       ...         ...         ...  \n4996  38811081cf82c90     19e2e     OTHER  0c2371d9bc  1e751d08a4  \n4997  6ec63d4aa5de5dd     19e2e     19e2e  5fb791cf56  65efe2bc62  \n4998  1a49f8b0ded9de6     19e2e     19e2e  7773627c12  9ef9616350  \n4999  bd663f07b6c8bcd     19e2e     19e2e  3f4af49d6c  969b8d0e39  \n5000  3600efd094f2225     19e2e     19e2e  6f4d9b77a5  ebfc58af70  \n\n[5001 rows x 10 columns]"
     },
     "execution_count": 48,
     "metadata": {},
     "output_type": "execute_result"
    }
   ],
   "source": [
    "Telcom1 = pd.read_csv('Telcom_dataset.csv')\r\n",
    "Telcom1 = pd.DataFrame(Telcom1)\r\n",
    "Telcom1"
   ]
  },
  {
   "cell_type": "code",
   "execution_count": 49,
   "metadata": {},
   "outputs": [
    {
     "data": {
      "text/html": "<div>\n<style scoped>\n    .dataframe tbody tr th:only-of-type {\n        vertical-align: middle;\n    }\n\n    .dataframe tbody tr th {\n        vertical-align: top;\n    }\n\n    .dataframe thead th {\n        text-align: right;\n    }\n</style>\n<table border=\"1\" class=\"dataframe\">\n  <thead>\n    <tr style=\"text-align: right;\">\n      <th></th>\n      <th>PRODUCT</th>\n      <th>VALUE</th>\n      <th>DATE_TIME</th>\n      <th>CELL_ON_SITE</th>\n      <th>DW_A_NUMBER</th>\n      <th>DW_B_NUMBER</th>\n      <th>COUNTRY_A</th>\n      <th>COUNTRY_B</th>\n      <th>CELL_ID</th>\n      <th>SITE_ID</th>\n    </tr>\n  </thead>\n  <tbody>\n    <tr>\n      <th>0</th>\n      <td>Voice</td>\n      <td>0</td>\n      <td>2012-05-06 23:04:37.0</td>\n      <td>1</td>\n      <td>49fae048b547780</td>\n      <td>1a49f8b0ded9de6</td>\n      <td>19e2e</td>\n      <td>19e2e</td>\n      <td>/TJNe+Mmtu</td>\n      <td>/TJNe+Mmtu</td>\n    </tr>\n    <tr>\n      <th>1</th>\n      <td>sms</td>\n      <td>0</td>\n      <td>2012-05-06 23:05:25.0</td>\n      <td>0</td>\n      <td>7a54a6eaee19e65</td>\n      <td>93343ba6e41af95</td>\n      <td>19e2e</td>\n      <td>19e2e</td>\n      <td>/+cKZKIp41</td>\n      <td>/+cKZKIp41</td>\n    </tr>\n    <tr>\n      <th>2</th>\n      <td>sms</td>\n      <td>25</td>\n      <td>2012-05-06 23:05:41.0</td>\n      <td>0</td>\n      <td>6008887b0207d82</td>\n      <td>7aacc9709ce0a20</td>\n      <td>19e2e</td>\n      <td>19e2e</td>\n      <td>/u0FSD+ahi</td>\n      <td>/u0FSD+ahi</td>\n    </tr>\n    <tr>\n      <th>3</th>\n      <td>Voice</td>\n      <td>56</td>\n      <td>2012-05-06 23:05:42.0</td>\n      <td>1</td>\n      <td>7370032e20f4e96</td>\n      <td>6af4a60e74c91d3</td>\n      <td>19e2e</td>\n      <td>19e2e</td>\n      <td>+cNeJzsTp3</td>\n      <td>+cNeJzsTp3</td>\n    </tr>\n    <tr>\n      <th>4</th>\n      <td>Voice</td>\n      <td>14</td>\n      <td>2012-05-06 23:06:29.0</td>\n      <td>1</td>\n      <td>966ba4656e38e62</td>\n      <td>02aa736ee555d5c</td>\n      <td>19e2e</td>\n      <td>19e2e</td>\n      <td>051KhYDCpv</td>\n      <td>051KhYDCpv</td>\n    </tr>\n    <tr>\n      <th>...</th>\n      <td>...</td>\n      <td>...</td>\n      <td>...</td>\n      <td>...</td>\n      <td>...</td>\n      <td>...</td>\n      <td>...</td>\n      <td>...</td>\n      <td>...</td>\n      <td>...</td>\n    </tr>\n    <tr>\n      <th>4996</th>\n      <td>sms</td>\n      <td>100</td>\n      <td>2012-05-07 00:01:54.0</td>\n      <td>0</td>\n      <td>92e367d671f45c5</td>\n      <td>38811081cf82c90</td>\n      <td>19e2e</td>\n      <td>OTHER</td>\n      <td>0c2371d9bc</td>\n      <td>1e751d08a4</td>\n    </tr>\n    <tr>\n      <th>4997</th>\n      <td>Voice</td>\n      <td>1</td>\n      <td>2012-05-07 00:01:54.0</td>\n      <td>1</td>\n      <td>83b44b18238e602</td>\n      <td>6ec63d4aa5de5dd</td>\n      <td>19e2e</td>\n      <td>19e2e</td>\n      <td>5fb791cf56</td>\n      <td>65efe2bc62</td>\n    </tr>\n    <tr>\n      <th>4998</th>\n      <td>Voice</td>\n      <td>0</td>\n      <td>2012-05-07 00:01:54.0</td>\n      <td>1</td>\n      <td>49fae048b547780</td>\n      <td>1a49f8b0ded9de6</td>\n      <td>19e2e</td>\n      <td>19e2e</td>\n      <td>7773627c12</td>\n      <td>9ef9616350</td>\n    </tr>\n    <tr>\n      <th>4999</th>\n      <td>Voice</td>\n      <td>0</td>\n      <td>2012-05-07 00:01:54.0</td>\n      <td>0</td>\n      <td>a1613f1a992716a</td>\n      <td>bd663f07b6c8bcd</td>\n      <td>19e2e</td>\n      <td>19e2e</td>\n      <td>3f4af49d6c</td>\n      <td>969b8d0e39</td>\n    </tr>\n    <tr>\n      <th>5000</th>\n      <td>Voice</td>\n      <td>7</td>\n      <td>2012-05-07 00:01:54.0</td>\n      <td>2</td>\n      <td>1670a5f7c22f4ed</td>\n      <td>3600efd094f2225</td>\n      <td>19e2e</td>\n      <td>19e2e</td>\n      <td>6f4d9b77a5</td>\n      <td>ebfc58af70</td>\n    </tr>\n  </tbody>\n</table>\n<p>5001 rows × 10 columns</p>\n</div>",
      "text/plain": "     PRODUCT  VALUE              DATE_TIME CELL_ON_SITE      DW_A_NUMBER  \\\n0      Voice      0  2012-05-06 23:04:37.0            1  49fae048b547780   \n1        sms      0  2012-05-06 23:05:25.0            0  7a54a6eaee19e65   \n2        sms     25  2012-05-06 23:05:41.0            0  6008887b0207d82   \n3      Voice     56  2012-05-06 23:05:42.0            1  7370032e20f4e96   \n4      Voice     14  2012-05-06 23:06:29.0            1  966ba4656e38e62   \n...      ...    ...                    ...          ...              ...   \n4996     sms    100  2012-05-07 00:01:54.0            0  92e367d671f45c5   \n4997   Voice      1  2012-05-07 00:01:54.0            1  83b44b18238e602   \n4998   Voice      0  2012-05-07 00:01:54.0            1  49fae048b547780   \n4999   Voice      0  2012-05-07 00:01:54.0            0  a1613f1a992716a   \n5000   Voice      7  2012-05-07 00:01:54.0            2  1670a5f7c22f4ed   \n\n          DW_B_NUMBER COUNTRY_A COUNTRY_B     CELL_ID     SITE_ID  \n0     1a49f8b0ded9de6     19e2e     19e2e  /TJNe+Mmtu  /TJNe+Mmtu  \n1     93343ba6e41af95     19e2e     19e2e  /+cKZKIp41  /+cKZKIp41  \n2     7aacc9709ce0a20     19e2e     19e2e  /u0FSD+ahi  /u0FSD+ahi  \n3     6af4a60e74c91d3     19e2e     19e2e  +cNeJzsTp3  +cNeJzsTp3  \n4     02aa736ee555d5c     19e2e     19e2e  051KhYDCpv  051KhYDCpv  \n...               ...       ...       ...         ...         ...  \n4996  38811081cf82c90     19e2e     OTHER  0c2371d9bc  1e751d08a4  \n4997  6ec63d4aa5de5dd     19e2e     19e2e  5fb791cf56  65efe2bc62  \n4998  1a49f8b0ded9de6     19e2e     19e2e  7773627c12  9ef9616350  \n4999  bd663f07b6c8bcd     19e2e     19e2e  3f4af49d6c  969b8d0e39  \n5000  3600efd094f2225     19e2e     19e2e  6f4d9b77a5  ebfc58af70  \n\n[5001 rows x 10 columns]"
     },
     "execution_count": 49,
     "metadata": {},
     "output_type": "execute_result"
    }
   ],
   "source": [
    "#Updating the column names to make the uniform aand correct tyoing errors\r\n",
    "Telcom1.columns =['PRODUCT','VALUE','DATE_TIME','CELL_ON_SITE','DW_A_NUMBER','DW_B_NUMBER','COUNTRY_A','COUNTRY_B','CELL_ID','SITE_ID']\r\n",
    "Telcom1"
   ]
  },
  {
   "cell_type": "code",
   "execution_count": 50,
   "metadata": {},
   "outputs": [
    {
     "data": {
      "text/html": "<div>\n<style scoped>\n    .dataframe tbody tr th:only-of-type {\n        vertical-align: middle;\n    }\n\n    .dataframe tbody tr th {\n        vertical-align: top;\n    }\n\n    .dataframe thead th {\n        text-align: right;\n    }\n</style>\n<table border=\"1\" class=\"dataframe\">\n  <thead>\n    <tr style=\"text-align: right;\">\n      <th></th>\n      <th>PRODUCT</th>\n      <th>VALUE</th>\n      <th>DATE_TIME</th>\n      <th>CELL_ON_SITE</th>\n      <th>DW_A_NUMBER</th>\n      <th>DW_B_NUMBER</th>\n      <th>COUNTRY_A</th>\n      <th>COUNTRY_B</th>\n      <th>CELL_ID</th>\n      <th>SITE_ID</th>\n    </tr>\n  </thead>\n  <tbody>\n    <tr>\n      <th>0</th>\n      <td>sms</td>\n      <td>0</td>\n      <td>2012-05-07 23:02:06.0</td>\n      <td>2</td>\n      <td>32255675c3b6fe3</td>\n      <td>1aa7ae01386e9fb</td>\n      <td>19e2e</td>\n      <td>19e2e</td>\n      <td>+854AcBQT2</td>\n      <td>+854AcBQT2</td>\n    </tr>\n    <tr>\n      <th>1</th>\n      <td>Voice</td>\n      <td>0</td>\n      <td>2012-05-07 23:03:44.0</td>\n      <td>1</td>\n      <td>ff16d6ac74c1c64</td>\n      <td>87d87309c15a8c9</td>\n      <td>19e2e</td>\n      <td>19e2e</td>\n      <td>+854AcBQT2</td>\n      <td>+854AcBQT2</td>\n    </tr>\n    <tr>\n      <th>2</th>\n      <td>sms</td>\n      <td>0</td>\n      <td>2012-05-07 23:04:06.0</td>\n      <td>0</td>\n      <td>98d9f2fb5ff624b</td>\n      <td>93343ba6e41af95</td>\n      <td>19e2e</td>\n      <td>19e2e</td>\n      <td>+laSrk7g6q</td>\n      <td>+laSrk7g6q</td>\n    </tr>\n    <tr>\n      <th>3</th>\n      <td>Voice</td>\n      <td>37</td>\n      <td>2012-05-07 23:04:48.0</td>\n      <td>1</td>\n      <td>3f9c8a33ec7be1f</td>\n      <td>7d05a38f89c49d8</td>\n      <td>19e2e</td>\n      <td>19e2e</td>\n      <td>/xvRrCVKoQ</td>\n      <td>/xvRrCVKoQ</td>\n    </tr>\n    <tr>\n      <th>4</th>\n      <td>sms</td>\n      <td>25</td>\n      <td>2012-05-07 23:04:58.0</td>\n      <td>1</td>\n      <td>7bcccc03adf3864</td>\n      <td>56a5d5430d2fa86</td>\n      <td>19e2e</td>\n      <td>19e2e</td>\n      <td>+bO+qkSonO</td>\n      <td>+bO+qkSonO</td>\n    </tr>\n    <tr>\n      <th>...</th>\n      <td>...</td>\n      <td>...</td>\n      <td>...</td>\n      <td>...</td>\n      <td>...</td>\n      <td>...</td>\n      <td>...</td>\n      <td>...</td>\n      <td>...</td>\n      <td>...</td>\n    </tr>\n    <tr>\n      <th>4996</th>\n      <td>sms</td>\n      <td>0</td>\n      <td>2012-05-08 00:01:53.0</td>\n      <td>8</td>\n      <td>22ffbbb8ac8cde1</td>\n      <td>8db839a0c08bd54</td>\n      <td>19e2e</td>\n      <td>19e2e</td>\n      <td>896459aace</td>\n      <td>b7d00e59e4</td>\n    </tr>\n    <tr>\n      <th>4997</th>\n      <td>sms</td>\n      <td>25</td>\n      <td>2012-05-08 00:01:53.0</td>\n      <td>0</td>\n      <td>bcf512a3542d42c</td>\n      <td>5a2848d6f983c31</td>\n      <td>19e2e</td>\n      <td>19e2e</td>\n      <td>7e90b35166</td>\n      <td>211015b14d</td>\n    </tr>\n    <tr>\n      <th>4998</th>\n      <td>sms</td>\n      <td>0</td>\n      <td>2012-05-08 00:01:53.0</td>\n      <td>0</td>\n      <td>05e3c3d41628a9f</td>\n      <td>7185a95077eae9e</td>\n      <td>19e2e</td>\n      <td>19e2e</td>\n      <td>fe70e431df</td>\n      <td>c7ea989264</td>\n    </tr>\n    <tr>\n      <th>4999</th>\n      <td>data</td>\n      <td>0</td>\n      <td>2012-05-08 00:01:53.0</td>\n      <td>_</td>\n      <td>86a4dbf018f6f24</td>\n      <td>5a4dc9e82deb309</td>\n      <td>19e2e</td>\n      <td>OTHER</td>\n      <td>ffa6759bb2</td>\n      <td>NaN</td>\n    </tr>\n    <tr>\n      <th>5000</th>\n      <td>Voice</td>\n      <td>0</td>\n      <td>2012-05-08 00:01:53.0</td>\n      <td>0</td>\n      <td>a03c9837c62a5b9</td>\n      <td>de590e98879fa37</td>\n      <td>19e2e</td>\n      <td>19e2e</td>\n      <td>8630058aca</td>\n      <td>b47a998a3e</td>\n    </tr>\n  </tbody>\n</table>\n<p>5001 rows × 10 columns</p>\n</div>",
      "text/plain": "     PRODUCT  VALUE              DATE_TIME CELL_ON_SITE      DW_A_NUMBER  \\\n0        sms      0  2012-05-07 23:02:06.0            2  32255675c3b6fe3   \n1      Voice      0  2012-05-07 23:03:44.0            1  ff16d6ac74c1c64   \n2        sms      0  2012-05-07 23:04:06.0            0  98d9f2fb5ff624b   \n3      Voice     37  2012-05-07 23:04:48.0            1  3f9c8a33ec7be1f   \n4        sms     25  2012-05-07 23:04:58.0            1  7bcccc03adf3864   \n...      ...    ...                    ...          ...              ...   \n4996     sms      0  2012-05-08 00:01:53.0            8  22ffbbb8ac8cde1   \n4997     sms     25  2012-05-08 00:01:53.0            0  bcf512a3542d42c   \n4998     sms      0  2012-05-08 00:01:53.0            0  05e3c3d41628a9f   \n4999    data      0  2012-05-08 00:01:53.0            _  86a4dbf018f6f24   \n5000   Voice      0  2012-05-08 00:01:53.0            0  a03c9837c62a5b9   \n\n          DW_B_NUMBER COUNTRY_A COUNTRY_B     CELL_ID     SITE_ID  \n0     1aa7ae01386e9fb     19e2e     19e2e  +854AcBQT2  +854AcBQT2  \n1     87d87309c15a8c9     19e2e     19e2e  +854AcBQT2  +854AcBQT2  \n2     93343ba6e41af95     19e2e     19e2e  +laSrk7g6q  +laSrk7g6q  \n3     7d05a38f89c49d8     19e2e     19e2e  /xvRrCVKoQ  /xvRrCVKoQ  \n4     56a5d5430d2fa86     19e2e     19e2e  +bO+qkSonO  +bO+qkSonO  \n...               ...       ...       ...         ...         ...  \n4996  8db839a0c08bd54     19e2e     19e2e  896459aace  b7d00e59e4  \n4997  5a2848d6f983c31     19e2e     19e2e  7e90b35166  211015b14d  \n4998  7185a95077eae9e     19e2e     19e2e  fe70e431df  c7ea989264  \n4999  5a4dc9e82deb309     19e2e     OTHER  ffa6759bb2         NaN  \n5000  de590e98879fa37     19e2e     19e2e  8630058aca  b47a998a3e  \n\n[5001 rows x 10 columns]"
     },
     "execution_count": 50,
     "metadata": {},
     "output_type": "execute_result"
    }
   ],
   "source": [
    "Telcom2 = pd.read_csv('Telcom_dataset2.csv')\r\n",
    "Telcom2 = pd.DataFrame(Telcom2)\r\n",
    "Telcom2"
   ]
  },
  {
   "cell_type": "code",
   "execution_count": 51,
   "metadata": {},
   "outputs": [
    {
     "data": {
      "text/html": "<div>\n<style scoped>\n    .dataframe tbody tr th:only-of-type {\n        vertical-align: middle;\n    }\n\n    .dataframe tbody tr th {\n        vertical-align: top;\n    }\n\n    .dataframe thead th {\n        text-align: right;\n    }\n</style>\n<table border=\"1\" class=\"dataframe\">\n  <thead>\n    <tr style=\"text-align: right;\">\n      <th></th>\n      <th>PRODUTC</th>\n      <th>VALUE</th>\n      <th>DATETIME</th>\n      <th>CELL_ON_SITE</th>\n      <th>DW_A_NUMBER_INT</th>\n      <th>DW_B_NUMBER_INT</th>\n      <th>COUNTRY_A</th>\n      <th>COUNTRY_B</th>\n      <th>CELL_ID</th>\n      <th>SITE_ID</th>\n    </tr>\n  </thead>\n  <tbody>\n    <tr>\n      <th>0</th>\n      <td>Voice</td>\n      <td>0</td>\n      <td>2012-05-06 23:04:37.0</td>\n      <td>1</td>\n      <td>49fae048b547780</td>\n      <td>1a49f8b0ded9de6</td>\n      <td>19e2e</td>\n      <td>19e2e</td>\n      <td>/TJNe+Mmtu</td>\n      <td>/TJNe+Mmtu</td>\n    </tr>\n    <tr>\n      <th>1</th>\n      <td>sms</td>\n      <td>0</td>\n      <td>2012-05-06 23:05:25.0</td>\n      <td>0</td>\n      <td>7a54a6eaee19e65</td>\n      <td>93343ba6e41af95</td>\n      <td>19e2e</td>\n      <td>19e2e</td>\n      <td>/+cKZKIp41</td>\n      <td>/+cKZKIp41</td>\n    </tr>\n    <tr>\n      <th>2</th>\n      <td>sms</td>\n      <td>25</td>\n      <td>2012-05-06 23:05:41.0</td>\n      <td>0</td>\n      <td>6008887b0207d82</td>\n      <td>7aacc9709ce0a20</td>\n      <td>19e2e</td>\n      <td>19e2e</td>\n      <td>/u0FSD+ahi</td>\n      <td>/u0FSD+ahi</td>\n    </tr>\n    <tr>\n      <th>3</th>\n      <td>Voice</td>\n      <td>56</td>\n      <td>2012-05-06 23:05:42.0</td>\n      <td>1</td>\n      <td>7370032e20f4e96</td>\n      <td>6af4a60e74c91d3</td>\n      <td>19e2e</td>\n      <td>19e2e</td>\n      <td>+cNeJzsTp3</td>\n      <td>+cNeJzsTp3</td>\n    </tr>\n    <tr>\n      <th>4</th>\n      <td>Voice</td>\n      <td>14</td>\n      <td>2012-05-06 23:06:29.0</td>\n      <td>1</td>\n      <td>966ba4656e38e62</td>\n      <td>02aa736ee555d5c</td>\n      <td>19e2e</td>\n      <td>19e2e</td>\n      <td>051KhYDCpv</td>\n      <td>051KhYDCpv</td>\n    </tr>\n    <tr>\n      <th>...</th>\n      <td>...</td>\n      <td>...</td>\n      <td>...</td>\n      <td>...</td>\n      <td>...</td>\n      <td>...</td>\n      <td>...</td>\n      <td>...</td>\n      <td>...</td>\n      <td>...</td>\n    </tr>\n    <tr>\n      <th>4996</th>\n      <td>sms</td>\n      <td>100</td>\n      <td>2012-05-07 00:01:54.0</td>\n      <td>0</td>\n      <td>92e367d671f45c5</td>\n      <td>38811081cf82c90</td>\n      <td>19e2e</td>\n      <td>OTHER</td>\n      <td>0c2371d9bc</td>\n      <td>1e751d08a4</td>\n    </tr>\n    <tr>\n      <th>4997</th>\n      <td>Voice</td>\n      <td>1</td>\n      <td>2012-05-07 00:01:54.0</td>\n      <td>1</td>\n      <td>83b44b18238e602</td>\n      <td>6ec63d4aa5de5dd</td>\n      <td>19e2e</td>\n      <td>19e2e</td>\n      <td>5fb791cf56</td>\n      <td>65efe2bc62</td>\n    </tr>\n    <tr>\n      <th>4998</th>\n      <td>Voice</td>\n      <td>0</td>\n      <td>2012-05-07 00:01:54.0</td>\n      <td>1</td>\n      <td>49fae048b547780</td>\n      <td>1a49f8b0ded9de6</td>\n      <td>19e2e</td>\n      <td>19e2e</td>\n      <td>7773627c12</td>\n      <td>9ef9616350</td>\n    </tr>\n    <tr>\n      <th>4999</th>\n      <td>Voice</td>\n      <td>0</td>\n      <td>2012-05-07 00:01:54.0</td>\n      <td>0</td>\n      <td>a1613f1a992716a</td>\n      <td>bd663f07b6c8bcd</td>\n      <td>19e2e</td>\n      <td>19e2e</td>\n      <td>3f4af49d6c</td>\n      <td>969b8d0e39</td>\n    </tr>\n    <tr>\n      <th>5000</th>\n      <td>Voice</td>\n      <td>7</td>\n      <td>2012-05-07 00:01:54.0</td>\n      <td>2</td>\n      <td>1670a5f7c22f4ed</td>\n      <td>3600efd094f2225</td>\n      <td>19e2e</td>\n      <td>19e2e</td>\n      <td>6f4d9b77a5</td>\n      <td>ebfc58af70</td>\n    </tr>\n  </tbody>\n</table>\n<p>5001 rows × 10 columns</p>\n</div>",
      "text/plain": "     PRODUTC  VALUE               DATETIME CELL_ON_SITE  DW_A_NUMBER_INT  \\\n0      Voice      0  2012-05-06 23:04:37.0            1  49fae048b547780   \n1        sms      0  2012-05-06 23:05:25.0            0  7a54a6eaee19e65   \n2        sms     25  2012-05-06 23:05:41.0            0  6008887b0207d82   \n3      Voice     56  2012-05-06 23:05:42.0            1  7370032e20f4e96   \n4      Voice     14  2012-05-06 23:06:29.0            1  966ba4656e38e62   \n...      ...    ...                    ...          ...              ...   \n4996     sms    100  2012-05-07 00:01:54.0            0  92e367d671f45c5   \n4997   Voice      1  2012-05-07 00:01:54.0            1  83b44b18238e602   \n4998   Voice      0  2012-05-07 00:01:54.0            1  49fae048b547780   \n4999   Voice      0  2012-05-07 00:01:54.0            0  a1613f1a992716a   \n5000   Voice      7  2012-05-07 00:01:54.0            2  1670a5f7c22f4ed   \n\n      DW_B_NUMBER_INT COUNTRY_A COUNTRY_B     CELL_ID     SITE_ID  \n0     1a49f8b0ded9de6     19e2e     19e2e  /TJNe+Mmtu  /TJNe+Mmtu  \n1     93343ba6e41af95     19e2e     19e2e  /+cKZKIp41  /+cKZKIp41  \n2     7aacc9709ce0a20     19e2e     19e2e  /u0FSD+ahi  /u0FSD+ahi  \n3     6af4a60e74c91d3     19e2e     19e2e  +cNeJzsTp3  +cNeJzsTp3  \n4     02aa736ee555d5c     19e2e     19e2e  051KhYDCpv  051KhYDCpv  \n...               ...       ...       ...         ...         ...  \n4996  38811081cf82c90     19e2e     OTHER  0c2371d9bc  1e751d08a4  \n4997  6ec63d4aa5de5dd     19e2e     19e2e  5fb791cf56  65efe2bc62  \n4998  1a49f8b0ded9de6     19e2e     19e2e  7773627c12  9ef9616350  \n4999  bd663f07b6c8bcd     19e2e     19e2e  3f4af49d6c  969b8d0e39  \n5000  3600efd094f2225     19e2e     19e2e  6f4d9b77a5  ebfc58af70  \n\n[5001 rows x 10 columns]"
     },
     "execution_count": 51,
     "metadata": {},
     "output_type": "execute_result"
    }
   ],
   "source": [
    "Telcom3 =  pd.read_csv('Telcom_dataset.csv')\r\n",
    "Telcom3 = pd.DataFrame(Telcom3)\r\n",
    "Telcom3"
   ]
  },
  {
   "cell_type": "code",
   "execution_count": 52,
   "metadata": {},
   "outputs": [
    {
     "data": {
      "text/html": "<div>\n<style scoped>\n    .dataframe tbody tr th:only-of-type {\n        vertical-align: middle;\n    }\n\n    .dataframe tbody tr th {\n        vertical-align: top;\n    }\n\n    .dataframe thead th {\n        text-align: right;\n    }\n</style>\n<table border=\"1\" class=\"dataframe\">\n  <thead>\n    <tr style=\"text-align: right;\">\n      <th></th>\n      <th>PRODUCT</th>\n      <th>VALUE</th>\n      <th>DATE_TIME</th>\n      <th>CELL_ON_SITE</th>\n      <th>DW_A_NUMBER</th>\n      <th>DW_B_NUMBER</th>\n      <th>COUNTRY_A</th>\n      <th>COUNTRY_B</th>\n      <th>CELL_ID</th>\n      <th>SITE_ID</th>\n    </tr>\n  </thead>\n  <tbody>\n    <tr>\n      <th>0</th>\n      <td>Voice</td>\n      <td>0</td>\n      <td>2012-05-06 23:04:37.0</td>\n      <td>1</td>\n      <td>49fae048b547780</td>\n      <td>1a49f8b0ded9de6</td>\n      <td>19e2e</td>\n      <td>19e2e</td>\n      <td>/TJNe+Mmtu</td>\n      <td>/TJNe+Mmtu</td>\n    </tr>\n    <tr>\n      <th>1</th>\n      <td>sms</td>\n      <td>0</td>\n      <td>2012-05-06 23:05:25.0</td>\n      <td>0</td>\n      <td>7a54a6eaee19e65</td>\n      <td>93343ba6e41af95</td>\n      <td>19e2e</td>\n      <td>19e2e</td>\n      <td>/+cKZKIp41</td>\n      <td>/+cKZKIp41</td>\n    </tr>\n    <tr>\n      <th>2</th>\n      <td>sms</td>\n      <td>25</td>\n      <td>2012-05-06 23:05:41.0</td>\n      <td>0</td>\n      <td>6008887b0207d82</td>\n      <td>7aacc9709ce0a20</td>\n      <td>19e2e</td>\n      <td>19e2e</td>\n      <td>/u0FSD+ahi</td>\n      <td>/u0FSD+ahi</td>\n    </tr>\n    <tr>\n      <th>3</th>\n      <td>Voice</td>\n      <td>56</td>\n      <td>2012-05-06 23:05:42.0</td>\n      <td>1</td>\n      <td>7370032e20f4e96</td>\n      <td>6af4a60e74c91d3</td>\n      <td>19e2e</td>\n      <td>19e2e</td>\n      <td>+cNeJzsTp3</td>\n      <td>+cNeJzsTp3</td>\n    </tr>\n    <tr>\n      <th>4</th>\n      <td>Voice</td>\n      <td>14</td>\n      <td>2012-05-06 23:06:29.0</td>\n      <td>1</td>\n      <td>966ba4656e38e62</td>\n      <td>02aa736ee555d5c</td>\n      <td>19e2e</td>\n      <td>19e2e</td>\n      <td>051KhYDCpv</td>\n      <td>051KhYDCpv</td>\n    </tr>\n    <tr>\n      <th>...</th>\n      <td>...</td>\n      <td>...</td>\n      <td>...</td>\n      <td>...</td>\n      <td>...</td>\n      <td>...</td>\n      <td>...</td>\n      <td>...</td>\n      <td>...</td>\n      <td>...</td>\n    </tr>\n    <tr>\n      <th>4996</th>\n      <td>sms</td>\n      <td>100</td>\n      <td>2012-05-07 00:01:54.0</td>\n      <td>0</td>\n      <td>92e367d671f45c5</td>\n      <td>38811081cf82c90</td>\n      <td>19e2e</td>\n      <td>OTHER</td>\n      <td>0c2371d9bc</td>\n      <td>1e751d08a4</td>\n    </tr>\n    <tr>\n      <th>4997</th>\n      <td>Voice</td>\n      <td>1</td>\n      <td>2012-05-07 00:01:54.0</td>\n      <td>1</td>\n      <td>83b44b18238e602</td>\n      <td>6ec63d4aa5de5dd</td>\n      <td>19e2e</td>\n      <td>19e2e</td>\n      <td>5fb791cf56</td>\n      <td>65efe2bc62</td>\n    </tr>\n    <tr>\n      <th>4998</th>\n      <td>Voice</td>\n      <td>0</td>\n      <td>2012-05-07 00:01:54.0</td>\n      <td>1</td>\n      <td>49fae048b547780</td>\n      <td>1a49f8b0ded9de6</td>\n      <td>19e2e</td>\n      <td>19e2e</td>\n      <td>7773627c12</td>\n      <td>9ef9616350</td>\n    </tr>\n    <tr>\n      <th>4999</th>\n      <td>Voice</td>\n      <td>0</td>\n      <td>2012-05-07 00:01:54.0</td>\n      <td>0</td>\n      <td>a1613f1a992716a</td>\n      <td>bd663f07b6c8bcd</td>\n      <td>19e2e</td>\n      <td>19e2e</td>\n      <td>3f4af49d6c</td>\n      <td>969b8d0e39</td>\n    </tr>\n    <tr>\n      <th>5000</th>\n      <td>Voice</td>\n      <td>7</td>\n      <td>2012-05-07 00:01:54.0</td>\n      <td>2</td>\n      <td>1670a5f7c22f4ed</td>\n      <td>3600efd094f2225</td>\n      <td>19e2e</td>\n      <td>19e2e</td>\n      <td>6f4d9b77a5</td>\n      <td>ebfc58af70</td>\n    </tr>\n  </tbody>\n</table>\n<p>5001 rows × 10 columns</p>\n</div>",
      "text/plain": "     PRODUCT  VALUE              DATE_TIME CELL_ON_SITE      DW_A_NUMBER  \\\n0      Voice      0  2012-05-06 23:04:37.0            1  49fae048b547780   \n1        sms      0  2012-05-06 23:05:25.0            0  7a54a6eaee19e65   \n2        sms     25  2012-05-06 23:05:41.0            0  6008887b0207d82   \n3      Voice     56  2012-05-06 23:05:42.0            1  7370032e20f4e96   \n4      Voice     14  2012-05-06 23:06:29.0            1  966ba4656e38e62   \n...      ...    ...                    ...          ...              ...   \n4996     sms    100  2012-05-07 00:01:54.0            0  92e367d671f45c5   \n4997   Voice      1  2012-05-07 00:01:54.0            1  83b44b18238e602   \n4998   Voice      0  2012-05-07 00:01:54.0            1  49fae048b547780   \n4999   Voice      0  2012-05-07 00:01:54.0            0  a1613f1a992716a   \n5000   Voice      7  2012-05-07 00:01:54.0            2  1670a5f7c22f4ed   \n\n          DW_B_NUMBER COUNTRY_A COUNTRY_B     CELL_ID     SITE_ID  \n0     1a49f8b0ded9de6     19e2e     19e2e  /TJNe+Mmtu  /TJNe+Mmtu  \n1     93343ba6e41af95     19e2e     19e2e  /+cKZKIp41  /+cKZKIp41  \n2     7aacc9709ce0a20     19e2e     19e2e  /u0FSD+ahi  /u0FSD+ahi  \n3     6af4a60e74c91d3     19e2e     19e2e  +cNeJzsTp3  +cNeJzsTp3  \n4     02aa736ee555d5c     19e2e     19e2e  051KhYDCpv  051KhYDCpv  \n...               ...       ...       ...         ...         ...  \n4996  38811081cf82c90     19e2e     OTHER  0c2371d9bc  1e751d08a4  \n4997  6ec63d4aa5de5dd     19e2e     19e2e  5fb791cf56  65efe2bc62  \n4998  1a49f8b0ded9de6     19e2e     19e2e  7773627c12  9ef9616350  \n4999  bd663f07b6c8bcd     19e2e     19e2e  3f4af49d6c  969b8d0e39  \n5000  3600efd094f2225     19e2e     19e2e  6f4d9b77a5  ebfc58af70  \n\n[5001 rows x 10 columns]"
     },
     "execution_count": 52,
     "metadata": {},
     "output_type": "execute_result"
    }
   ],
   "source": [
    "#Updating the column names to make the uniform aand correct tyoing errors\r\n",
    "Telcom3.columns =['PRODUCT','VALUE','DATE_TIME','CELL_ON_SITE','DW_A_NUMBER','DW_B_NUMBER','COUNTRY_A','COUNTRY_B','CELL_ID','SITE_ID']\r\n",
    "Telcom3"
   ]
  },
  {
   "cell_type": "markdown",
   "metadata": {},
   "source": [
    "Concatinating the 3 telcom datast tables as the have the same information"
   ]
  },
  {
   "cell_type": "code",
   "execution_count": 53,
   "metadata": {},
   "outputs": [
    {
     "data": {
      "text/html": "<div>\n<style scoped>\n    .dataframe tbody tr th:only-of-type {\n        vertical-align: middle;\n    }\n\n    .dataframe tbody tr th {\n        vertical-align: top;\n    }\n\n    .dataframe thead th {\n        text-align: right;\n    }\n</style>\n<table border=\"1\" class=\"dataframe\">\n  <thead>\n    <tr style=\"text-align: right;\">\n      <th></th>\n      <th>PRODUCT</th>\n      <th>VALUE</th>\n      <th>DATE_TIME</th>\n      <th>CELL_ON_SITE</th>\n      <th>DW_A_NUMBER</th>\n      <th>DW_B_NUMBER</th>\n      <th>COUNTRY_A</th>\n      <th>COUNTRY_B</th>\n      <th>CELL_ID</th>\n      <th>SITE_ID</th>\n    </tr>\n  </thead>\n  <tbody>\n    <tr>\n      <th>0</th>\n      <td>Voice</td>\n      <td>0</td>\n      <td>2012-05-06 23:04:37.0</td>\n      <td>1</td>\n      <td>49fae048b547780</td>\n      <td>1a49f8b0ded9de6</td>\n      <td>19e2e</td>\n      <td>19e2e</td>\n      <td>/TJNe+Mmtu</td>\n      <td>/TJNe+Mmtu</td>\n    </tr>\n    <tr>\n      <th>1</th>\n      <td>sms</td>\n      <td>0</td>\n      <td>2012-05-06 23:05:25.0</td>\n      <td>0</td>\n      <td>7a54a6eaee19e65</td>\n      <td>93343ba6e41af95</td>\n      <td>19e2e</td>\n      <td>19e2e</td>\n      <td>/+cKZKIp41</td>\n      <td>/+cKZKIp41</td>\n    </tr>\n    <tr>\n      <th>2</th>\n      <td>sms</td>\n      <td>25</td>\n      <td>2012-05-06 23:05:41.0</td>\n      <td>0</td>\n      <td>6008887b0207d82</td>\n      <td>7aacc9709ce0a20</td>\n      <td>19e2e</td>\n      <td>19e2e</td>\n      <td>/u0FSD+ahi</td>\n      <td>/u0FSD+ahi</td>\n    </tr>\n    <tr>\n      <th>3</th>\n      <td>Voice</td>\n      <td>56</td>\n      <td>2012-05-06 23:05:42.0</td>\n      <td>1</td>\n      <td>7370032e20f4e96</td>\n      <td>6af4a60e74c91d3</td>\n      <td>19e2e</td>\n      <td>19e2e</td>\n      <td>+cNeJzsTp3</td>\n      <td>+cNeJzsTp3</td>\n    </tr>\n    <tr>\n      <th>4</th>\n      <td>Voice</td>\n      <td>14</td>\n      <td>2012-05-06 23:06:29.0</td>\n      <td>1</td>\n      <td>966ba4656e38e62</td>\n      <td>02aa736ee555d5c</td>\n      <td>19e2e</td>\n      <td>19e2e</td>\n      <td>051KhYDCpv</td>\n      <td>051KhYDCpv</td>\n    </tr>\n    <tr>\n      <th>...</th>\n      <td>...</td>\n      <td>...</td>\n      <td>...</td>\n      <td>...</td>\n      <td>...</td>\n      <td>...</td>\n      <td>...</td>\n      <td>...</td>\n      <td>...</td>\n      <td>...</td>\n    </tr>\n    <tr>\n      <th>4996</th>\n      <td>sms</td>\n      <td>0</td>\n      <td>2012-05-08 00:01:53.0</td>\n      <td>8</td>\n      <td>22ffbbb8ac8cde1</td>\n      <td>8db839a0c08bd54</td>\n      <td>19e2e</td>\n      <td>19e2e</td>\n      <td>896459aace</td>\n      <td>b7d00e59e4</td>\n    </tr>\n    <tr>\n      <th>4997</th>\n      <td>sms</td>\n      <td>25</td>\n      <td>2012-05-08 00:01:53.0</td>\n      <td>0</td>\n      <td>bcf512a3542d42c</td>\n      <td>5a2848d6f983c31</td>\n      <td>19e2e</td>\n      <td>19e2e</td>\n      <td>7e90b35166</td>\n      <td>211015b14d</td>\n    </tr>\n    <tr>\n      <th>4998</th>\n      <td>sms</td>\n      <td>0</td>\n      <td>2012-05-08 00:01:53.0</td>\n      <td>0</td>\n      <td>05e3c3d41628a9f</td>\n      <td>7185a95077eae9e</td>\n      <td>19e2e</td>\n      <td>19e2e</td>\n      <td>fe70e431df</td>\n      <td>c7ea989264</td>\n    </tr>\n    <tr>\n      <th>4999</th>\n      <td>data</td>\n      <td>0</td>\n      <td>2012-05-08 00:01:53.0</td>\n      <td>_</td>\n      <td>86a4dbf018f6f24</td>\n      <td>5a4dc9e82deb309</td>\n      <td>19e2e</td>\n      <td>OTHER</td>\n      <td>ffa6759bb2</td>\n      <td>NaN</td>\n    </tr>\n    <tr>\n      <th>5000</th>\n      <td>Voice</td>\n      <td>0</td>\n      <td>2012-05-08 00:01:53.0</td>\n      <td>0</td>\n      <td>a03c9837c62a5b9</td>\n      <td>de590e98879fa37</td>\n      <td>19e2e</td>\n      <td>19e2e</td>\n      <td>8630058aca</td>\n      <td>b47a998a3e</td>\n    </tr>\n  </tbody>\n</table>\n<p>10002 rows × 10 columns</p>\n</div>",
      "text/plain": "     PRODUCT  VALUE              DATE_TIME CELL_ON_SITE      DW_A_NUMBER  \\\n0      Voice      0  2012-05-06 23:04:37.0            1  49fae048b547780   \n1        sms      0  2012-05-06 23:05:25.0            0  7a54a6eaee19e65   \n2        sms     25  2012-05-06 23:05:41.0            0  6008887b0207d82   \n3      Voice     56  2012-05-06 23:05:42.0            1  7370032e20f4e96   \n4      Voice     14  2012-05-06 23:06:29.0            1  966ba4656e38e62   \n...      ...    ...                    ...          ...              ...   \n4996     sms      0  2012-05-08 00:01:53.0            8  22ffbbb8ac8cde1   \n4997     sms     25  2012-05-08 00:01:53.0            0  bcf512a3542d42c   \n4998     sms      0  2012-05-08 00:01:53.0            0  05e3c3d41628a9f   \n4999    data      0  2012-05-08 00:01:53.0            _  86a4dbf018f6f24   \n5000   Voice      0  2012-05-08 00:01:53.0            0  a03c9837c62a5b9   \n\n          DW_B_NUMBER COUNTRY_A COUNTRY_B     CELL_ID     SITE_ID  \n0     1a49f8b0ded9de6     19e2e     19e2e  /TJNe+Mmtu  /TJNe+Mmtu  \n1     93343ba6e41af95     19e2e     19e2e  /+cKZKIp41  /+cKZKIp41  \n2     7aacc9709ce0a20     19e2e     19e2e  /u0FSD+ahi  /u0FSD+ahi  \n3     6af4a60e74c91d3     19e2e     19e2e  +cNeJzsTp3  +cNeJzsTp3  \n4     02aa736ee555d5c     19e2e     19e2e  051KhYDCpv  051KhYDCpv  \n...               ...       ...       ...         ...         ...  \n4996  8db839a0c08bd54     19e2e     19e2e  896459aace  b7d00e59e4  \n4997  5a2848d6f983c31     19e2e     19e2e  7e90b35166  211015b14d  \n4998  7185a95077eae9e     19e2e     19e2e  fe70e431df  c7ea989264  \n4999  5a4dc9e82deb309     19e2e     OTHER  ffa6759bb2         NaN  \n5000  de590e98879fa37     19e2e     19e2e  8630058aca  b47a998a3e  \n\n[10002 rows x 10 columns]"
     },
     "execution_count": 53,
     "metadata": {},
     "output_type": "execute_result"
    }
   ],
   "source": [
    "new = pd.concat([Telcom1, Telcom2])\r\n",
    "new"
   ]
  },
  {
   "cell_type": "code",
   "execution_count": 54,
   "metadata": {},
   "outputs": [
    {
     "data": {
      "text/html": "<div>\n<style scoped>\n    .dataframe tbody tr th:only-of-type {\n        vertical-align: middle;\n    }\n\n    .dataframe tbody tr th {\n        vertical-align: top;\n    }\n\n    .dataframe thead th {\n        text-align: right;\n    }\n</style>\n<table border=\"1\" class=\"dataframe\">\n  <thead>\n    <tr style=\"text-align: right;\">\n      <th></th>\n      <th>PRODUCT</th>\n      <th>VALUE</th>\n      <th>DATE_TIME</th>\n      <th>CELL_ON_SITE</th>\n      <th>DW_A_NUMBER</th>\n      <th>DW_B_NUMBER</th>\n      <th>COUNTRY_A</th>\n      <th>COUNTRY_B</th>\n      <th>CELL_ID</th>\n      <th>SITE_ID</th>\n    </tr>\n  </thead>\n  <tbody>\n    <tr>\n      <th>0</th>\n      <td>Voice</td>\n      <td>0</td>\n      <td>2012-05-06 23:04:37.0</td>\n      <td>1</td>\n      <td>49fae048b547780</td>\n      <td>1a49f8b0ded9de6</td>\n      <td>19e2e</td>\n      <td>19e2e</td>\n      <td>/TJNe+Mmtu</td>\n      <td>/TJNe+Mmtu</td>\n    </tr>\n    <tr>\n      <th>1</th>\n      <td>sms</td>\n      <td>0</td>\n      <td>2012-05-06 23:05:25.0</td>\n      <td>0</td>\n      <td>7a54a6eaee19e65</td>\n      <td>93343ba6e41af95</td>\n      <td>19e2e</td>\n      <td>19e2e</td>\n      <td>/+cKZKIp41</td>\n      <td>/+cKZKIp41</td>\n    </tr>\n    <tr>\n      <th>2</th>\n      <td>sms</td>\n      <td>25</td>\n      <td>2012-05-06 23:05:41.0</td>\n      <td>0</td>\n      <td>6008887b0207d82</td>\n      <td>7aacc9709ce0a20</td>\n      <td>19e2e</td>\n      <td>19e2e</td>\n      <td>/u0FSD+ahi</td>\n      <td>/u0FSD+ahi</td>\n    </tr>\n    <tr>\n      <th>3</th>\n      <td>Voice</td>\n      <td>56</td>\n      <td>2012-05-06 23:05:42.0</td>\n      <td>1</td>\n      <td>7370032e20f4e96</td>\n      <td>6af4a60e74c91d3</td>\n      <td>19e2e</td>\n      <td>19e2e</td>\n      <td>+cNeJzsTp3</td>\n      <td>+cNeJzsTp3</td>\n    </tr>\n    <tr>\n      <th>4</th>\n      <td>Voice</td>\n      <td>14</td>\n      <td>2012-05-06 23:06:29.0</td>\n      <td>1</td>\n      <td>966ba4656e38e62</td>\n      <td>02aa736ee555d5c</td>\n      <td>19e2e</td>\n      <td>19e2e</td>\n      <td>051KhYDCpv</td>\n      <td>051KhYDCpv</td>\n    </tr>\n    <tr>\n      <th>...</th>\n      <td>...</td>\n      <td>...</td>\n      <td>...</td>\n      <td>...</td>\n      <td>...</td>\n      <td>...</td>\n      <td>...</td>\n      <td>...</td>\n      <td>...</td>\n      <td>...</td>\n    </tr>\n    <tr>\n      <th>4996</th>\n      <td>sms</td>\n      <td>100</td>\n      <td>2012-05-07 00:01:54.0</td>\n      <td>0</td>\n      <td>92e367d671f45c5</td>\n      <td>38811081cf82c90</td>\n      <td>19e2e</td>\n      <td>OTHER</td>\n      <td>0c2371d9bc</td>\n      <td>1e751d08a4</td>\n    </tr>\n    <tr>\n      <th>4997</th>\n      <td>Voice</td>\n      <td>1</td>\n      <td>2012-05-07 00:01:54.0</td>\n      <td>1</td>\n      <td>83b44b18238e602</td>\n      <td>6ec63d4aa5de5dd</td>\n      <td>19e2e</td>\n      <td>19e2e</td>\n      <td>5fb791cf56</td>\n      <td>65efe2bc62</td>\n    </tr>\n    <tr>\n      <th>4998</th>\n      <td>Voice</td>\n      <td>0</td>\n      <td>2012-05-07 00:01:54.0</td>\n      <td>1</td>\n      <td>49fae048b547780</td>\n      <td>1a49f8b0ded9de6</td>\n      <td>19e2e</td>\n      <td>19e2e</td>\n      <td>7773627c12</td>\n      <td>9ef9616350</td>\n    </tr>\n    <tr>\n      <th>4999</th>\n      <td>Voice</td>\n      <td>0</td>\n      <td>2012-05-07 00:01:54.0</td>\n      <td>0</td>\n      <td>a1613f1a992716a</td>\n      <td>bd663f07b6c8bcd</td>\n      <td>19e2e</td>\n      <td>19e2e</td>\n      <td>3f4af49d6c</td>\n      <td>969b8d0e39</td>\n    </tr>\n    <tr>\n      <th>5000</th>\n      <td>Voice</td>\n      <td>7</td>\n      <td>2012-05-07 00:01:54.0</td>\n      <td>2</td>\n      <td>1670a5f7c22f4ed</td>\n      <td>3600efd094f2225</td>\n      <td>19e2e</td>\n      <td>19e2e</td>\n      <td>6f4d9b77a5</td>\n      <td>ebfc58af70</td>\n    </tr>\n  </tbody>\n</table>\n<p>15003 rows × 10 columns</p>\n</div>",
      "text/plain": "     PRODUCT  VALUE              DATE_TIME CELL_ON_SITE      DW_A_NUMBER  \\\n0      Voice      0  2012-05-06 23:04:37.0            1  49fae048b547780   \n1        sms      0  2012-05-06 23:05:25.0            0  7a54a6eaee19e65   \n2        sms     25  2012-05-06 23:05:41.0            0  6008887b0207d82   \n3      Voice     56  2012-05-06 23:05:42.0            1  7370032e20f4e96   \n4      Voice     14  2012-05-06 23:06:29.0            1  966ba4656e38e62   \n...      ...    ...                    ...          ...              ...   \n4996     sms    100  2012-05-07 00:01:54.0            0  92e367d671f45c5   \n4997   Voice      1  2012-05-07 00:01:54.0            1  83b44b18238e602   \n4998   Voice      0  2012-05-07 00:01:54.0            1  49fae048b547780   \n4999   Voice      0  2012-05-07 00:01:54.0            0  a1613f1a992716a   \n5000   Voice      7  2012-05-07 00:01:54.0            2  1670a5f7c22f4ed   \n\n          DW_B_NUMBER COUNTRY_A COUNTRY_B     CELL_ID     SITE_ID  \n0     1a49f8b0ded9de6     19e2e     19e2e  /TJNe+Mmtu  /TJNe+Mmtu  \n1     93343ba6e41af95     19e2e     19e2e  /+cKZKIp41  /+cKZKIp41  \n2     7aacc9709ce0a20     19e2e     19e2e  /u0FSD+ahi  /u0FSD+ahi  \n3     6af4a60e74c91d3     19e2e     19e2e  +cNeJzsTp3  +cNeJzsTp3  \n4     02aa736ee555d5c     19e2e     19e2e  051KhYDCpv  051KhYDCpv  \n...               ...       ...       ...         ...         ...  \n4996  38811081cf82c90     19e2e     OTHER  0c2371d9bc  1e751d08a4  \n4997  6ec63d4aa5de5dd     19e2e     19e2e  5fb791cf56  65efe2bc62  \n4998  1a49f8b0ded9de6     19e2e     19e2e  7773627c12  9ef9616350  \n4999  bd663f07b6c8bcd     19e2e     19e2e  3f4af49d6c  969b8d0e39  \n5000  3600efd094f2225     19e2e     19e2e  6f4d9b77a5  ebfc58af70  \n\n[15003 rows x 10 columns]"
     },
     "execution_count": 54,
     "metadata": {},
     "output_type": "execute_result"
    }
   ],
   "source": [
    "dftel = pd.concat([new, Telcom3])\r\n",
    "dftel"
   ]
  },
  {
   "cell_type": "markdown",
   "metadata": {},
   "source": [
    "DATA UNDERSTANDING"
   ]
  },
  {
   "cell_type": "code",
   "execution_count": 55,
   "metadata": {},
   "outputs": [
    {
     "name": "stdout",
     "output_type": "stream",
     "text": [
      "<class 'pandas.core.frame.DataFrame'>\n",
      "RangeIndex: 3974 entries, 0 to 3973\n",
      "Data columns (total 12 columns):\n",
      " #   Column        Non-Null Count  Dtype  \n",
      "---  ------        --------------  -----  \n",
      " 0   Unnamed: 0    3974 non-null   int64  \n",
      " 1   VILLES        3974 non-null   object \n",
      " 2   STATUS        3907 non-null   object \n",
      " 3   LOCALISATION  3974 non-null   object \n",
      " 4   DECOUPZONE    3974 non-null   object \n",
      " 5   ZONENAME      3968 non-null   object \n",
      " 6   LONGITUDE     3974 non-null   float64\n",
      " 7   LATITUDE      3974 non-null   float64\n",
      " 8   REGION        3974 non-null   object \n",
      " 9   AREA          3951 non-null   object \n",
      " 10  CELL_ID       3974 non-null   object \n",
      " 11  SITE_CODE     3974 non-null   object \n",
      "dtypes: float64(2), int64(1), object(9)\n",
      "memory usage: 372.7+ KB\n"
     ]
    }
   ],
   "source": [
    "#information on the cell geographics table\r\n",
    "cellgeo.info()"
   ]
  },
  {
   "cell_type": "markdown",
   "metadata": {},
   "source": [
    "the table above has 3,974 rows in 12 columns.\r\n",
    "Status column has 67 missing entries\r\n",
    "zone name has 6 missing value\r\n",
    "area column has 23 missing entries\r\n"
   ]
  },
  {
   "cell_type": "code",
   "execution_count": 56,
   "metadata": {},
   "outputs": [
    {
     "name": "stdout",
     "output_type": "stream",
     "text": [
      "<class 'pandas.core.frame.DataFrame'>\n",
      "Int64Index: 15003 entries, 0 to 5000\n",
      "Data columns (total 10 columns):\n",
      " #   Column        Non-Null Count  Dtype \n",
      "---  ------        --------------  ----- \n",
      " 0   PRODUCT       15003 non-null  object\n",
      " 1   VALUE         15003 non-null  int64 \n",
      " 2   DATE_TIME     15003 non-null  object\n",
      " 3   CELL_ON_SITE  15003 non-null  object\n",
      " 4   DW_A_NUMBER   15003 non-null  object\n",
      " 5   DW_B_NUMBER   15003 non-null  object\n",
      " 6   COUNTRY_A     15003 non-null  object\n",
      " 7   COUNTRY_B     15003 non-null  object\n",
      " 8   CELL_ID       15003 non-null  object\n",
      " 9   SITE_ID       12895 non-null  object\n",
      "dtypes: int64(1), object(9)\n",
      "memory usage: 1.3+ MB\n"
     ]
    }
   ],
   "source": [
    "#Information on the telcom datasets\r\n",
    "dftel.info()"
   ]
  },
  {
   "cell_type": "markdown",
   "metadata": {},
   "source": [
    "the telcom dataset has 15,003 rows and 9 columns\r\n",
    "the site_id column has 2,108 missing vavues\r\n"
   ]
  },
  {
   "cell_type": "code",
   "execution_count": 57,
   "metadata": {},
   "outputs": [],
   "source": [
    "#drop non required colomns\r\n",
    "dftel = dftel.drop(columns=['CELL_ON_SITE'])\r\n",
    "dftel = dftel.drop(columns=['COUNTRY_A'])\r\n",
    "dftel = dftel.drop(columns=['COUNTRY_B'])\r\n",
    "cellgeo = cellgeo.drop(columns = ['Unnamed: 0'])"
   ]
  },
  {
   "cell_type": "markdown",
   "metadata": {},
   "source": [
    "DATA CLEANING"
   ]
  },
  {
   "cell_type": "markdown",
   "metadata": {},
   "source": [
    "dropping entriels with null values"
   ]
  },
  {
   "cell_type": "code",
   "execution_count": 58,
   "metadata": {},
   "outputs": [],
   "source": [
    "dftel.dropna(inplace = True)"
   ]
  },
  {
   "cell_type": "code",
   "execution_count": 59,
   "metadata": {},
   "outputs": [],
   "source": [
    "cellgeo.dropna(inplace = True)\r\n"
   ]
  },
  {
   "cell_type": "code",
   "execution_count": 60,
   "metadata": {},
   "outputs": [
    {
     "data": {
      "text/html": "<div>\n<style scoped>\n    .dataframe tbody tr th:only-of-type {\n        vertical-align: middle;\n    }\n\n    .dataframe tbody tr th {\n        vertical-align: top;\n    }\n\n    .dataframe thead th {\n        text-align: right;\n    }\n</style>\n<table border=\"1\" class=\"dataframe\">\n  <thead>\n    <tr style=\"text-align: right;\">\n      <th></th>\n      <th>PRODUCT</th>\n      <th>VALUE</th>\n      <th>DATE_TIME</th>\n      <th>DW_A_NUMBER</th>\n      <th>DW_B_NUMBER</th>\n      <th>CELL_ID</th>\n      <th>SITE_ID</th>\n    </tr>\n  </thead>\n  <tbody>\n    <tr>\n      <th>0</th>\n      <td>Voice</td>\n      <td>0</td>\n      <td>2012-05-06 23:04:37</td>\n      <td>49fae048b547780</td>\n      <td>1a49f8b0ded9de6</td>\n      <td>/TJNe+Mmtu</td>\n      <td>/TJNe+Mmtu</td>\n    </tr>\n    <tr>\n      <th>1</th>\n      <td>sms</td>\n      <td>0</td>\n      <td>2012-05-06 23:05:25</td>\n      <td>7a54a6eaee19e65</td>\n      <td>93343ba6e41af95</td>\n      <td>/+cKZKIp41</td>\n      <td>/+cKZKIp41</td>\n    </tr>\n    <tr>\n      <th>2</th>\n      <td>sms</td>\n      <td>25</td>\n      <td>2012-05-06 23:05:41</td>\n      <td>6008887b0207d82</td>\n      <td>7aacc9709ce0a20</td>\n      <td>/u0FSD+ahi</td>\n      <td>/u0FSD+ahi</td>\n    </tr>\n    <tr>\n      <th>3</th>\n      <td>Voice</td>\n      <td>56</td>\n      <td>2012-05-06 23:05:42</td>\n      <td>7370032e20f4e96</td>\n      <td>6af4a60e74c91d3</td>\n      <td>+cNeJzsTp3</td>\n      <td>+cNeJzsTp3</td>\n    </tr>\n    <tr>\n      <th>4</th>\n      <td>Voice</td>\n      <td>14</td>\n      <td>2012-05-06 23:06:29</td>\n      <td>966ba4656e38e62</td>\n      <td>02aa736ee555d5c</td>\n      <td>051KhYDCpv</td>\n      <td>051KhYDCpv</td>\n    </tr>\n  </tbody>\n</table>\n</div>",
      "text/plain": "  PRODUCT  VALUE           DATE_TIME      DW_A_NUMBER      DW_B_NUMBER  \\\n0   Voice      0 2012-05-06 23:04:37  49fae048b547780  1a49f8b0ded9de6   \n1     sms      0 2012-05-06 23:05:25  7a54a6eaee19e65  93343ba6e41af95   \n2     sms     25 2012-05-06 23:05:41  6008887b0207d82  7aacc9709ce0a20   \n3   Voice     56 2012-05-06 23:05:42  7370032e20f4e96  6af4a60e74c91d3   \n4   Voice     14 2012-05-06 23:06:29  966ba4656e38e62  02aa736ee555d5c   \n\n      CELL_ID     SITE_ID  \n0  /TJNe+Mmtu  /TJNe+Mmtu  \n1  /+cKZKIp41  /+cKZKIp41  \n2  /u0FSD+ahi  /u0FSD+ahi  \n3  +cNeJzsTp3  +cNeJzsTp3  \n4  051KhYDCpv  051KhYDCpv  "
     },
     "execution_count": 60,
     "metadata": {},
     "output_type": "execute_result"
    }
   ],
   "source": [
    "#set the date/time format to ensure all date/time entries are in the right format\r\n",
    "dftel['DATE_TIME'] = pd.to_datetime(dftel['DATE_TIME'])\r\n",
    "dftel.head(5)\r\n"
   ]
  },
  {
   "cell_type": "code",
   "execution_count": 61,
   "metadata": {},
   "outputs": [
    {
     "name": "stdout",
     "output_type": "stream",
     "text": [
      "23      False\n",
      "24      False\n",
      "25      False\n",
      "26      False\n",
      "27      False\n",
      "        ...  \n",
      "3969    False\n",
      "3970    False\n",
      "3971    False\n",
      "3972    False\n",
      "3973    False\n",
      "Length: 3880, dtype: bool\n"
     ]
    }
   ],
   "source": [
    "#check for duplicates\r\n",
    "print(cellgeo.duplicated())"
   ]
  },
  {
   "cell_type": "code",
   "execution_count": 62,
   "metadata": {},
   "outputs": [
    {
     "data": {
      "text/plain": "0       False\n1       False\n2       False\n3       False\n4       False\n        ...  \n4996     True\n4997     True\n4998     True\n4999     True\n5000     True\nLength: 12895, dtype: bool"
     },
     "execution_count": 62,
     "metadata": {},
     "output_type": "execute_result"
    }
   ],
   "source": [
    "#Check for duplicates\r\n",
    "dftel.duplicated()"
   ]
  },
  {
   "cell_type": "markdown",
   "metadata": {},
   "source": [
    "DATA ANALYSIS"
   ]
  },
  {
   "cell_type": "markdown",
   "metadata": {},
   "source": [
    "Grouping"
   ]
  },
  {
   "cell_type": "code",
   "execution_count": 63,
   "metadata": {},
   "outputs": [
    {
     "data": {
      "text/html": "<div>\n<style scoped>\n    .dataframe tbody tr th:only-of-type {\n        vertical-align: middle;\n    }\n\n    .dataframe tbody tr th {\n        vertical-align: top;\n    }\n\n    .dataframe thead th {\n        text-align: right;\n    }\n</style>\n<table border=\"1\" class=\"dataframe\">\n  <thead>\n    <tr style=\"text-align: right;\">\n      <th></th>\n      <th>STATUS</th>\n      <th>LOCALISATION</th>\n      <th>DECOUPZONE</th>\n      <th>ZONENAME</th>\n      <th>LONGITUDE</th>\n      <th>LATITUDE</th>\n      <th>REGION</th>\n      <th>AREA</th>\n      <th>CELL_ID</th>\n      <th>SITE_CODE</th>\n    </tr>\n    <tr>\n      <th>VILLES</th>\n      <th></th>\n      <th></th>\n      <th></th>\n      <th></th>\n      <th></th>\n      <th></th>\n      <th></th>\n      <th></th>\n      <th></th>\n      <th></th>\n    </tr>\n  </thead>\n  <tbody>\n    <tr>\n      <th>ABENGOUROU</th>\n      <td>In Service</td>\n      <td>INTERIEUR</td>\n      <td>Grand-EST</td>\n      <td>ZONE C - Grand-EST</td>\n      <td>-3.514833</td>\n      <td>6.722333</td>\n      <td>MOYEN COMOE</td>\n      <td>EAST</td>\n      <td>8cdfc1bc65</td>\n      <td>6e87d6cb59</td>\n    </tr>\n    <tr>\n      <th>ABOBO</th>\n      <td>In Service</td>\n      <td>ABIDJAN</td>\n      <td>Abidjan_NORD</td>\n      <td>ZONE E - Abidjan_NORD</td>\n      <td>-4.014139</td>\n      <td>5.433500</td>\n      <td>LAGUNE</td>\n      <td>ABIDJAN NORTH</td>\n      <td>f740406877</td>\n      <td>0f34c36ac5</td>\n    </tr>\n    <tr>\n      <th>ABOISSO</th>\n      <td>In Service</td>\n      <td>INTERIEUR</td>\n      <td>Grand-EST</td>\n      <td>ZONE C - Grand-EST</td>\n      <td>-0.000000</td>\n      <td>0.000000</td>\n      <td>SUD COMOE</td>\n      <td>ABIDJAN SOUTH</td>\n      <td>b4d8c16d9e</td>\n      <td>38c5c1de07</td>\n    </tr>\n    <tr>\n      <th>ABOISSO COMOE</th>\n      <td>In Service</td>\n      <td>INTERIEUR</td>\n      <td>Grand-EST</td>\n      <td>ZONE C - Grand-EST</td>\n      <td>-3.396861</td>\n      <td>5.734500</td>\n      <td>LAGUNE</td>\n      <td>ABIDJAN NORTH</td>\n      <td>ff4372eafb</td>\n      <td>640427c4c9</td>\n    </tr>\n    <tr>\n      <th>ABONGOUA</th>\n      <td>In Service</td>\n      <td>INTERIEUR</td>\n      <td>Grand-EST</td>\n      <td>ZONE C - Grand-EST</td>\n      <td>-3.548722</td>\n      <td>6.247083</td>\n      <td>MOYEN COMOE</td>\n      <td>EAST</td>\n      <td>d1a1270467</td>\n      <td>a8d8462dda</td>\n    </tr>\n    <tr>\n      <th>...</th>\n      <td>...</td>\n      <td>...</td>\n      <td>...</td>\n      <td>...</td>\n      <td>...</td>\n      <td>...</td>\n      <td>...</td>\n      <td>...</td>\n      <td>...</td>\n      <td>...</td>\n    </tr>\n    <tr>\n      <th>ZATTA</th>\n      <td>In Service</td>\n      <td>INTERIEUR</td>\n      <td>Grand-NORD</td>\n      <td>ZONE B - Grand-NORD</td>\n      <td>-5.415614</td>\n      <td>6.905422</td>\n      <td>LACS</td>\n      <td>CENTRE NORTH</td>\n      <td>1d41c565fc</td>\n      <td>c644d1ce4c</td>\n    </tr>\n    <tr>\n      <th>ZIKISSO</th>\n      <td>In Service</td>\n      <td>INTERIEUR</td>\n      <td>Grand-SUD</td>\n      <td>ZONE B - Grand-SUD</td>\n      <td>-5.698833</td>\n      <td>6.057278</td>\n      <td>SUD BANDAMA</td>\n      <td>SOUTH WEST</td>\n      <td>733df73327</td>\n      <td>211015b14d</td>\n    </tr>\n    <tr>\n      <th>ZON-HOUNIEN</th>\n      <td>In Service</td>\n      <td>INTERIEUR</td>\n      <td>Grand-OUEST</td>\n      <td>ZONE D - Grand-OUEST</td>\n      <td>-8.205167</td>\n      <td>6.920500</td>\n      <td>18 MONTAGNES</td>\n      <td>NORTH WEST</td>\n      <td>a3e5534191</td>\n      <td>32b8357a82</td>\n    </tr>\n    <tr>\n      <th>ZOUKOUGBEU</th>\n      <td>In Service</td>\n      <td>INTERIEUR</td>\n      <td>Grand-OUEST</td>\n      <td>ZONE D - Grand-OUEST</td>\n      <td>-6.865694</td>\n      <td>6.761306</td>\n      <td>HAUT SASSANDRA</td>\n      <td>NORTH WEST</td>\n      <td>317ba2e3e8</td>\n      <td>443ac3fc19</td>\n    </tr>\n    <tr>\n      <th>ZUENOULA</th>\n      <td>In Service</td>\n      <td>INTERIEUR</td>\n      <td>Grand-NORD</td>\n      <td>ZONE A - Grand-NORD</td>\n      <td>-6.138956</td>\n      <td>7.617553</td>\n      <td>MARAHOUE</td>\n      <td>CENTRE NORTH</td>\n      <td>8cde542067</td>\n      <td>43adae9a57</td>\n    </tr>\n  </tbody>\n</table>\n<p>501 rows × 10 columns</p>\n</div>",
      "text/plain": "                   STATUS LOCALISATION    DECOUPZONE               ZONENAME  \\\nVILLES                                                                        \nABENGOUROU     In Service    INTERIEUR     Grand-EST     ZONE C - Grand-EST   \nABOBO          In Service      ABIDJAN  Abidjan_NORD  ZONE E - Abidjan_NORD   \nABOISSO        In Service    INTERIEUR     Grand-EST     ZONE C - Grand-EST   \nABOISSO COMOE  In Service    INTERIEUR     Grand-EST     ZONE C - Grand-EST   \nABONGOUA       In Service    INTERIEUR     Grand-EST     ZONE C - Grand-EST   \n...                   ...          ...           ...                    ...   \nZATTA          In Service    INTERIEUR    Grand-NORD    ZONE B - Grand-NORD   \nZIKISSO        In Service    INTERIEUR     Grand-SUD     ZONE B - Grand-SUD   \nZON-HOUNIEN    In Service    INTERIEUR   Grand-OUEST   ZONE D - Grand-OUEST   \nZOUKOUGBEU     In Service    INTERIEUR   Grand-OUEST   ZONE D - Grand-OUEST   \nZUENOULA       In Service    INTERIEUR    Grand-NORD    ZONE A - Grand-NORD   \n\n               LONGITUDE  LATITUDE          REGION           AREA     CELL_ID  \\\nVILLES                                                                          \nABENGOUROU     -3.514833  6.722333     MOYEN COMOE           EAST  8cdfc1bc65   \nABOBO          -4.014139  5.433500          LAGUNE  ABIDJAN NORTH  f740406877   \nABOISSO        -0.000000  0.000000       SUD COMOE  ABIDJAN SOUTH  b4d8c16d9e   \nABOISSO COMOE  -3.396861  5.734500          LAGUNE  ABIDJAN NORTH  ff4372eafb   \nABONGOUA       -3.548722  6.247083     MOYEN COMOE           EAST  d1a1270467   \n...                  ...       ...             ...            ...         ...   \nZATTA          -5.415614  6.905422            LACS   CENTRE NORTH  1d41c565fc   \nZIKISSO        -5.698833  6.057278     SUD BANDAMA     SOUTH WEST  733df73327   \nZON-HOUNIEN    -8.205167  6.920500    18 MONTAGNES     NORTH WEST  a3e5534191   \nZOUKOUGBEU     -6.865694  6.761306  HAUT SASSANDRA     NORTH WEST  317ba2e3e8   \nZUENOULA       -6.138956  7.617553        MARAHOUE   CENTRE NORTH  8cde542067   \n\n                SITE_CODE  \nVILLES                     \nABENGOUROU     6e87d6cb59  \nABOBO          0f34c36ac5  \nABOISSO        38c5c1de07  \nABOISSO COMOE  640427c4c9  \nABONGOUA       a8d8462dda  \n...                   ...  \nZATTA          c644d1ce4c  \nZIKISSO        211015b14d  \nZON-HOUNIEN    32b8357a82  \nZOUKOUGBEU     443ac3fc19  \nZUENOULA       43adae9a57  \n\n[501 rows x 10 columns]"
     },
     "execution_count": 63,
     "metadata": {},
     "output_type": "execute_result"
    }
   ],
   "source": [
    "#Groupint the cell geography table by city\r\n",
    "villes = cellgeo.groupby('VILLES')\r\n",
    "villes.first()"
   ]
  },
  {
   "cell_type": "code",
   "execution_count": 64,
   "metadata": {},
   "outputs": [],
   "source": [
    "#use count() function to determine the number of cell activities recorded per city\r\n",
    "villescount = villes.count()"
   ]
  },
  {
   "cell_type": "code",
   "execution_count": 65,
   "metadata": {},
   "outputs": [
    {
     "data": {
      "text/html": "<div>\n<style scoped>\n    .dataframe tbody tr th:only-of-type {\n        vertical-align: middle;\n    }\n\n    .dataframe tbody tr th {\n        vertical-align: top;\n    }\n\n    .dataframe thead th {\n        text-align: right;\n    }\n</style>\n<table border=\"1\" class=\"dataframe\">\n  <thead>\n    <tr style=\"text-align: right;\">\n      <th></th>\n      <th>STATUS</th>\n      <th>LOCALISATION</th>\n      <th>DECOUPZONE</th>\n      <th>ZONENAME</th>\n      <th>LONGITUDE</th>\n      <th>LATITUDE</th>\n      <th>REGION</th>\n      <th>AREA</th>\n      <th>CELL_ID</th>\n      <th>SITE_CODE</th>\n    </tr>\n    <tr>\n      <th>VILLES</th>\n      <th></th>\n      <th></th>\n      <th></th>\n      <th></th>\n      <th></th>\n      <th></th>\n      <th></th>\n      <th></th>\n      <th></th>\n      <th></th>\n    </tr>\n  </thead>\n  <tbody>\n    <tr>\n      <th>COCODY</th>\n      <td>354</td>\n      <td>354</td>\n      <td>354</td>\n      <td>354</td>\n      <td>354</td>\n      <td>354</td>\n      <td>354</td>\n      <td>354</td>\n      <td>354</td>\n      <td>354</td>\n    </tr>\n    <tr>\n      <th>YOPOUGON</th>\n      <td>289</td>\n      <td>289</td>\n      <td>289</td>\n      <td>289</td>\n      <td>289</td>\n      <td>289</td>\n      <td>289</td>\n      <td>289</td>\n      <td>289</td>\n      <td>289</td>\n    </tr>\n    <tr>\n      <th>ABOBO</th>\n      <td>244</td>\n      <td>244</td>\n      <td>244</td>\n      <td>244</td>\n      <td>244</td>\n      <td>244</td>\n      <td>244</td>\n      <td>244</td>\n      <td>244</td>\n      <td>244</td>\n    </tr>\n    <tr>\n      <th>MARCORY</th>\n      <td>141</td>\n      <td>141</td>\n      <td>141</td>\n      <td>141</td>\n      <td>141</td>\n      <td>141</td>\n      <td>141</td>\n      <td>141</td>\n      <td>141</td>\n      <td>141</td>\n    </tr>\n    <tr>\n      <th>TREICHVILLE</th>\n      <td>132</td>\n      <td>132</td>\n      <td>132</td>\n      <td>132</td>\n      <td>132</td>\n      <td>132</td>\n      <td>132</td>\n      <td>132</td>\n      <td>132</td>\n      <td>132</td>\n    </tr>\n    <tr>\n      <th>YAMOUSSOUKRO</th>\n      <td>104</td>\n      <td>104</td>\n      <td>104</td>\n      <td>104</td>\n      <td>104</td>\n      <td>104</td>\n      <td>104</td>\n      <td>104</td>\n      <td>104</td>\n      <td>104</td>\n    </tr>\n    <tr>\n      <th>ADJAME</th>\n      <td>104</td>\n      <td>104</td>\n      <td>104</td>\n      <td>104</td>\n      <td>104</td>\n      <td>104</td>\n      <td>104</td>\n      <td>104</td>\n      <td>104</td>\n      <td>104</td>\n    </tr>\n    <tr>\n      <th>PLATEAU</th>\n      <td>100</td>\n      <td>100</td>\n      <td>100</td>\n      <td>100</td>\n      <td>100</td>\n      <td>100</td>\n      <td>100</td>\n      <td>100</td>\n      <td>100</td>\n      <td>100</td>\n    </tr>\n    <tr>\n      <th>KOUMASSI</th>\n      <td>91</td>\n      <td>91</td>\n      <td>91</td>\n      <td>91</td>\n      <td>91</td>\n      <td>91</td>\n      <td>91</td>\n      <td>91</td>\n      <td>91</td>\n      <td>91</td>\n    </tr>\n    <tr>\n      <th>BOUAKE</th>\n      <td>65</td>\n      <td>65</td>\n      <td>65</td>\n      <td>65</td>\n      <td>65</td>\n      <td>65</td>\n      <td>65</td>\n      <td>65</td>\n      <td>65</td>\n      <td>65</td>\n    </tr>\n  </tbody>\n</table>\n</div>",
      "text/plain": "              STATUS  LOCALISATION  DECOUPZONE  ZONENAME  LONGITUDE  LATITUDE  \\\nVILLES                                                                          \nCOCODY           354           354         354       354        354       354   \nYOPOUGON         289           289         289       289        289       289   \nABOBO            244           244         244       244        244       244   \nMARCORY          141           141         141       141        141       141   \nTREICHVILLE      132           132         132       132        132       132   \nYAMOUSSOUKRO     104           104         104       104        104       104   \nADJAME           104           104         104       104        104       104   \nPLATEAU          100           100         100       100        100       100   \nKOUMASSI          91            91          91        91         91        91   \nBOUAKE            65            65          65        65         65        65   \n\n              REGION  AREA  CELL_ID  SITE_CODE  \nVILLES                                          \nCOCODY           354   354      354        354  \nYOPOUGON         289   289      289        289  \nABOBO            244   244      244        244  \nMARCORY          141   141      141        141  \nTREICHVILLE      132   132      132        132  \nYAMOUSSOUKRO     104   104      104        104  \nADJAME           104   104      104        104  \nPLATEAU          100   100      100        100  \nKOUMASSI          91    91       91         91  \nBOUAKE            65    65       65         65  "
     },
     "execution_count": 65,
     "metadata": {},
     "output_type": "execute_result"
    }
   ],
   "source": [
    "# sort the grouping count in descending to see cities that had the most cell ussage in the 3 days.\r\n",
    "dv = villescount.sort_values('CELL_ID', ascending = False)\r\n",
    "#use head() to get the top 10 cities\r\n",
    "dv.head(10)"
   ]
  },
  {
   "cell_type": "code",
   "execution_count": 66,
   "metadata": {},
   "outputs": [
    {
     "data": {
      "text/html": "<div>\n<style scoped>\n    .dataframe tbody tr th:only-of-type {\n        vertical-align: middle;\n    }\n\n    .dataframe tbody tr th {\n        vertical-align: top;\n    }\n\n    .dataframe thead th {\n        text-align: right;\n    }\n</style>\n<table border=\"1\" class=\"dataframe\">\n  <thead>\n    <tr style=\"text-align: right;\">\n      <th></th>\n      <th>STATUS</th>\n      <th>LOCALISATION</th>\n      <th>DECOUPZONE</th>\n      <th>ZONENAME</th>\n      <th>LONGITUDE</th>\n      <th>LATITUDE</th>\n      <th>REGION</th>\n      <th>AREA</th>\n      <th>CELL_ID</th>\n      <th>SITE_CODE</th>\n    </tr>\n  </thead>\n  <tbody>\n    <tr>\n      <th>count</th>\n      <td>501.000000</td>\n      <td>501.000000</td>\n      <td>501.000000</td>\n      <td>501.000000</td>\n      <td>501.000000</td>\n      <td>501.000000</td>\n      <td>501.000000</td>\n      <td>501.000000</td>\n      <td>501.000000</td>\n      <td>501.000000</td>\n    </tr>\n    <tr>\n      <th>mean</th>\n      <td>7.744511</td>\n      <td>7.744511</td>\n      <td>7.744511</td>\n      <td>7.744511</td>\n      <td>7.744511</td>\n      <td>7.744511</td>\n      <td>7.744511</td>\n      <td>7.744511</td>\n      <td>7.744511</td>\n      <td>7.744511</td>\n    </tr>\n    <tr>\n      <th>std</th>\n      <td>26.510047</td>\n      <td>26.510047</td>\n      <td>26.510047</td>\n      <td>26.510047</td>\n      <td>26.510047</td>\n      <td>26.510047</td>\n      <td>26.510047</td>\n      <td>26.510047</td>\n      <td>26.510047</td>\n      <td>26.510047</td>\n    </tr>\n    <tr>\n      <th>min</th>\n      <td>1.000000</td>\n      <td>1.000000</td>\n      <td>1.000000</td>\n      <td>1.000000</td>\n      <td>1.000000</td>\n      <td>1.000000</td>\n      <td>1.000000</td>\n      <td>1.000000</td>\n      <td>1.000000</td>\n      <td>1.000000</td>\n    </tr>\n    <tr>\n      <th>25%</th>\n      <td>3.000000</td>\n      <td>3.000000</td>\n      <td>3.000000</td>\n      <td>3.000000</td>\n      <td>3.000000</td>\n      <td>3.000000</td>\n      <td>3.000000</td>\n      <td>3.000000</td>\n      <td>3.000000</td>\n      <td>3.000000</td>\n    </tr>\n    <tr>\n      <th>50%</th>\n      <td>3.000000</td>\n      <td>3.000000</td>\n      <td>3.000000</td>\n      <td>3.000000</td>\n      <td>3.000000</td>\n      <td>3.000000</td>\n      <td>3.000000</td>\n      <td>3.000000</td>\n      <td>3.000000</td>\n      <td>3.000000</td>\n    </tr>\n    <tr>\n      <th>75%</th>\n      <td>3.000000</td>\n      <td>3.000000</td>\n      <td>3.000000</td>\n      <td>3.000000</td>\n      <td>3.000000</td>\n      <td>3.000000</td>\n      <td>3.000000</td>\n      <td>3.000000</td>\n      <td>3.000000</td>\n      <td>3.000000</td>\n    </tr>\n    <tr>\n      <th>max</th>\n      <td>354.000000</td>\n      <td>354.000000</td>\n      <td>354.000000</td>\n      <td>354.000000</td>\n      <td>354.000000</td>\n      <td>354.000000</td>\n      <td>354.000000</td>\n      <td>354.000000</td>\n      <td>354.000000</td>\n      <td>354.000000</td>\n    </tr>\n  </tbody>\n</table>\n</div>",
      "text/plain": "           STATUS  LOCALISATION  DECOUPZONE    ZONENAME   LONGITUDE  \\\ncount  501.000000    501.000000  501.000000  501.000000  501.000000   \nmean     7.744511      7.744511    7.744511    7.744511    7.744511   \nstd     26.510047     26.510047   26.510047   26.510047   26.510047   \nmin      1.000000      1.000000    1.000000    1.000000    1.000000   \n25%      3.000000      3.000000    3.000000    3.000000    3.000000   \n50%      3.000000      3.000000    3.000000    3.000000    3.000000   \n75%      3.000000      3.000000    3.000000    3.000000    3.000000   \nmax    354.000000    354.000000  354.000000  354.000000  354.000000   \n\n         LATITUDE      REGION        AREA     CELL_ID   SITE_CODE  \ncount  501.000000  501.000000  501.000000  501.000000  501.000000  \nmean     7.744511    7.744511    7.744511    7.744511    7.744511  \nstd     26.510047   26.510047   26.510047   26.510047   26.510047  \nmin      1.000000    1.000000    1.000000    1.000000    1.000000  \n25%      3.000000    3.000000    3.000000    3.000000    3.000000  \n50%      3.000000    3.000000    3.000000    3.000000    3.000000  \n75%      3.000000    3.000000    3.000000    3.000000    3.000000  \nmax    354.000000  354.000000  354.000000  354.000000  354.000000  "
     },
     "execution_count": 66,
     "metadata": {},
     "output_type": "execute_result"
    }
   ],
   "source": [
    "# describing the group count to see the statistics of all data collected in the three days.\r\n",
    "dv.describe()\r\n"
   ]
  },
  {
   "cell_type": "code",
   "execution_count": 67,
   "metadata": {},
   "outputs": [
    {
     "data": {
      "text/html": "<div>\n<style scoped>\n    .dataframe tbody tr th:only-of-type {\n        vertical-align: middle;\n    }\n\n    .dataframe tbody tr th {\n        vertical-align: top;\n    }\n\n    .dataframe thead th {\n        text-align: right;\n    }\n</style>\n<table border=\"1\" class=\"dataframe\">\n  <thead>\n    <tr style=\"text-align: right;\">\n      <th></th>\n      <th>STATUS</th>\n      <th>LOCALISATION</th>\n      <th>DECOUPZONE</th>\n      <th>ZONENAME</th>\n      <th>LONGITUDE</th>\n      <th>LATITUDE</th>\n      <th>REGION</th>\n      <th>AREA</th>\n      <th>CELL_ID</th>\n      <th>SITE_CODE</th>\n    </tr>\n    <tr>\n      <th>VILLES</th>\n      <th></th>\n      <th></th>\n      <th></th>\n      <th></th>\n      <th></th>\n      <th></th>\n      <th></th>\n      <th></th>\n      <th></th>\n      <th></th>\n    </tr>\n  </thead>\n  <tbody>\n    <tr>\n      <th>KOTOULA</th>\n      <td>2</td>\n      <td>2</td>\n      <td>2</td>\n      <td>2</td>\n      <td>2</td>\n      <td>2</td>\n      <td>2</td>\n      <td>2</td>\n      <td>2</td>\n      <td>2</td>\n    </tr>\n    <tr>\n      <th>KRIKOREA</th>\n      <td>2</td>\n      <td>2</td>\n      <td>2</td>\n      <td>2</td>\n      <td>2</td>\n      <td>2</td>\n      <td>2</td>\n      <td>2</td>\n      <td>2</td>\n      <td>2</td>\n    </tr>\n    <tr>\n      <th>MEMNI</th>\n      <td>2</td>\n      <td>2</td>\n      <td>2</td>\n      <td>2</td>\n      <td>2</td>\n      <td>2</td>\n      <td>2</td>\n      <td>2</td>\n      <td>2</td>\n      <td>2</td>\n    </tr>\n    <tr>\n      <th>OUANGOLO</th>\n      <td>1</td>\n      <td>1</td>\n      <td>1</td>\n      <td>1</td>\n      <td>1</td>\n      <td>1</td>\n      <td>1</td>\n      <td>1</td>\n      <td>1</td>\n      <td>1</td>\n    </tr>\n    <tr>\n      <th>DANANON</th>\n      <td>1</td>\n      <td>1</td>\n      <td>1</td>\n      <td>1</td>\n      <td>1</td>\n      <td>1</td>\n      <td>1</td>\n      <td>1</td>\n      <td>1</td>\n      <td>1</td>\n    </tr>\n  </tbody>\n</table>\n</div>",
      "text/plain": "          STATUS  LOCALISATION  DECOUPZONE  ZONENAME  LONGITUDE  LATITUDE  \\\nVILLES                                                                      \nKOTOULA        2             2           2         2          2         2   \nKRIKOREA       2             2           2         2          2         2   \nMEMNI          2             2           2         2          2         2   \nOUANGOLO       1             1           1         1          1         1   \nDANANON        1             1           1         1          1         1   \n\n          REGION  AREA  CELL_ID  SITE_CODE  \nVILLES                                      \nKOTOULA        2     2        2          2  \nKRIKOREA       2     2        2          2  \nMEMNI          2     2        2          2  \nOUANGOLO       1     1        1          1  \nDANANON        1     1        1          1  "
     },
     "execution_count": 67,
     "metadata": {},
     "output_type": "execute_result"
    }
   ],
   "source": [
    "#use tail() to filter the cities that recorded the least number of cell phone activity.\r\n",
    "dv.tail(5)"
   ]
  },
  {
   "cell_type": "code",
   "execution_count": 68,
   "metadata": {},
   "outputs": [
    {
     "data": {
      "text/html": "<div>\n<style scoped>\n    .dataframe tbody tr th:only-of-type {\n        vertical-align: middle;\n    }\n\n    .dataframe tbody tr th {\n        vertical-align: top;\n    }\n\n    .dataframe thead th {\n        text-align: right;\n    }\n</style>\n<table border=\"1\" class=\"dataframe\">\n  <thead>\n    <tr style=\"text-align: right;\">\n      <th></th>\n      <th>VALUE</th>\n      <th>DATE_TIME</th>\n      <th>DW_A_NUMBER</th>\n      <th>DW_B_NUMBER</th>\n      <th>CELL_ID</th>\n      <th>SITE_ID</th>\n    </tr>\n    <tr>\n      <th>PRODUCT</th>\n      <th></th>\n      <th></th>\n      <th></th>\n      <th></th>\n      <th></th>\n      <th></th>\n    </tr>\n  </thead>\n  <tbody>\n    <tr>\n      <th>Voice</th>\n      <td>0</td>\n      <td>2012-05-06 23:04:37</td>\n      <td>49fae048b547780</td>\n      <td>1a49f8b0ded9de6</td>\n      <td>/TJNe+Mmtu</td>\n      <td>/TJNe+Mmtu</td>\n    </tr>\n    <tr>\n      <th>data</th>\n      <td>0</td>\n      <td>2012-05-06 23:07:26</td>\n      <td>f71825ca6e623f9</td>\n      <td>5a4dc9e82deb309</td>\n      <td>/lrUXVGVcN</td>\n      <td>/lrUXVGVcN</td>\n    </tr>\n    <tr>\n      <th>sms</th>\n      <td>0</td>\n      <td>2012-05-06 23:05:25</td>\n      <td>7a54a6eaee19e65</td>\n      <td>93343ba6e41af95</td>\n      <td>/+cKZKIp41</td>\n      <td>/+cKZKIp41</td>\n    </tr>\n  </tbody>\n</table>\n</div>",
      "text/plain": "         VALUE           DATE_TIME      DW_A_NUMBER      DW_B_NUMBER  \\\nPRODUCT                                                                \nVoice        0 2012-05-06 23:04:37  49fae048b547780  1a49f8b0ded9de6   \ndata         0 2012-05-06 23:07:26  f71825ca6e623f9  5a4dc9e82deb309   \nsms          0 2012-05-06 23:05:25  7a54a6eaee19e65  93343ba6e41af95   \n\n            CELL_ID     SITE_ID  \nPRODUCT                          \nVoice    /TJNe+Mmtu  /TJNe+Mmtu  \ndata     /lrUXVGVcN  /lrUXVGVcN  \nsms      /+cKZKIp41  /+cKZKIp41  "
     },
     "execution_count": 68,
     "metadata": {},
     "output_type": "execute_result"
    }
   ],
   "source": [
    "#group the telcom data by products to see the most used product between voice,sms and data\r\n",
    "tel = dftel.groupby('PRODUCT')\r\n",
    "tel.first()"
   ]
  },
  {
   "cell_type": "code",
   "execution_count": 69,
   "metadata": {},
   "outputs": [
    {
     "data": {
      "text/html": "<div>\n<style scoped>\n    .dataframe tbody tr th:only-of-type {\n        vertical-align: middle;\n    }\n\n    .dataframe tbody tr th {\n        vertical-align: top;\n    }\n\n    .dataframe thead th {\n        text-align: right;\n    }\n</style>\n<table border=\"1\" class=\"dataframe\">\n  <thead>\n    <tr style=\"text-align: right;\">\n      <th></th>\n      <th>VALUE</th>\n      <th>DATE_TIME</th>\n      <th>DW_A_NUMBER</th>\n      <th>DW_B_NUMBER</th>\n      <th>CELL_ID</th>\n      <th>SITE_ID</th>\n    </tr>\n    <tr>\n      <th>PRODUCT</th>\n      <th></th>\n      <th></th>\n      <th></th>\n      <th></th>\n      <th></th>\n      <th></th>\n    </tr>\n  </thead>\n  <tbody>\n    <tr>\n      <th>Voice</th>\n      <td>6342</td>\n      <td>6342</td>\n      <td>6342</td>\n      <td>6342</td>\n      <td>6342</td>\n      <td>6342</td>\n    </tr>\n    <tr>\n      <th>data</th>\n      <td>274</td>\n      <td>274</td>\n      <td>274</td>\n      <td>274</td>\n      <td>274</td>\n      <td>274</td>\n    </tr>\n    <tr>\n      <th>sms</th>\n      <td>6279</td>\n      <td>6279</td>\n      <td>6279</td>\n      <td>6279</td>\n      <td>6279</td>\n      <td>6279</td>\n    </tr>\n  </tbody>\n</table>\n</div>",
      "text/plain": "         VALUE  DATE_TIME  DW_A_NUMBER  DW_B_NUMBER  CELL_ID  SITE_ID\nPRODUCT                                                              \nVoice     6342       6342         6342         6342     6342     6342\ndata       274        274          274          274      274      274\nsms       6279       6279         6279         6279     6279     6279"
     },
     "execution_count": 69,
     "metadata": {},
     "output_type": "execute_result"
    }
   ],
   "source": [
    "#use count() to see the number of times each product was usedin the three days\r\n",
    "telcount = tel.count()\r\n",
    "telcount"
   ]
  },
  {
   "cell_type": "code",
   "execution_count": 70,
   "metadata": {},
   "outputs": [
    {
     "name": "stdout",
     "output_type": "stream",
     "text": [
      "          VALUE\n",
      "PRODUCT        \n",
      "Voice    321224\n",
      "data       1999\n",
      "sms       39659\n"
     ]
    }
   ],
   "source": [
    "#obtaining the total bill value from each product offered by MTN\r\n",
    "tel2 = dftel.groupby('PRODUCT').sum('VALUE')\r\n",
    "print(tel2)"
   ]
  },
  {
   "cell_type": "code",
   "execution_count": 71,
   "metadata": {},
   "outputs": [
    {
     "data": {
      "text/html": "<div>\n<style scoped>\n    .dataframe tbody tr th:only-of-type {\n        vertical-align: middle;\n    }\n\n    .dataframe tbody tr th {\n        vertical-align: top;\n    }\n\n    .dataframe thead th {\n        text-align: right;\n    }\n</style>\n<table border=\"1\" class=\"dataframe\">\n  <thead>\n    <tr style=\"text-align: right;\">\n      <th></th>\n      <th>VILLES</th>\n      <th>STATUS</th>\n      <th>DECOUPZONE</th>\n      <th>ZONENAME</th>\n      <th>LONGITUDE</th>\n      <th>LATITUDE</th>\n      <th>REGION</th>\n      <th>AREA</th>\n      <th>CELL_ID</th>\n      <th>SITE_CODE</th>\n    </tr>\n    <tr>\n      <th>LOCALISATION</th>\n      <th></th>\n      <th></th>\n      <th></th>\n      <th></th>\n      <th></th>\n      <th></th>\n      <th></th>\n      <th></th>\n      <th></th>\n      <th></th>\n    </tr>\n  </thead>\n  <tbody>\n    <tr>\n      <th>ABIDJAN</th>\n      <td>1619</td>\n      <td>1619</td>\n      <td>1619</td>\n      <td>1619</td>\n      <td>1619</td>\n      <td>1619</td>\n      <td>1619</td>\n      <td>1619</td>\n      <td>1619</td>\n      <td>1619</td>\n    </tr>\n    <tr>\n      <th>INTERIEUR</th>\n      <td>2261</td>\n      <td>2261</td>\n      <td>2261</td>\n      <td>2261</td>\n      <td>2261</td>\n      <td>2261</td>\n      <td>2261</td>\n      <td>2261</td>\n      <td>2261</td>\n      <td>2261</td>\n    </tr>\n  </tbody>\n</table>\n</div>",
      "text/plain": "              VILLES  STATUS  DECOUPZONE  ZONENAME  LONGITUDE  LATITUDE  \\\nLOCALISATION                                                              \nABIDJAN         1619    1619        1619      1619       1619      1619   \nINTERIEUR       2261    2261        2261      2261       2261      2261   \n\n              REGION  AREA  CELL_ID  SITE_CODE  \nLOCALISATION                                    \nABIDJAN         1619  1619     1619       1619  \nINTERIEUR       2261  2261     2261       2261  "
     },
     "execution_count": 71,
     "metadata": {},
     "output_type": "execute_result"
    }
   ],
   "source": [
    "#grouping by those in ABIDJAN and those that are not in Abidjan\r\n",
    "local = cellgeo.groupby('LOCALISATION')\r\n",
    "local.count()"
   ]
  },
  {
   "cell_type": "code",
   "execution_count": 72,
   "metadata": {},
   "outputs": [],
   "source": [
    "#grouping by siteid\r\n",
    "site = dftel.groupby('SITE_ID')"
   ]
  },
  {
   "cell_type": "code",
   "execution_count": 73,
   "metadata": {},
   "outputs": [
    {
     "data": {
      "text/html": "<div>\n<style scoped>\n    .dataframe tbody tr th:only-of-type {\n        vertical-align: middle;\n    }\n\n    .dataframe tbody tr th {\n        vertical-align: top;\n    }\n\n    .dataframe thead th {\n        text-align: right;\n    }\n</style>\n<table border=\"1\" class=\"dataframe\">\n  <thead>\n    <tr style=\"text-align: right;\">\n      <th></th>\n      <th>PRODUCT</th>\n      <th>VALUE</th>\n      <th>DATE_TIME</th>\n      <th>DW_A_NUMBER</th>\n      <th>DW_B_NUMBER</th>\n      <th>CELL_ID</th>\n    </tr>\n    <tr>\n      <th>SITE_ID</th>\n      <th></th>\n      <th></th>\n      <th></th>\n      <th></th>\n      <th></th>\n      <th></th>\n    </tr>\n  </thead>\n  <tbody>\n    <tr>\n      <th>b47a998a3e</th>\n      <td>136</td>\n      <td>136</td>\n      <td>136</td>\n      <td>136</td>\n      <td>136</td>\n      <td>136</td>\n    </tr>\n    <tr>\n      <th>a7bd4c027b</th>\n      <td>85</td>\n      <td>85</td>\n      <td>85</td>\n      <td>85</td>\n      <td>85</td>\n      <td>85</td>\n    </tr>\n    <tr>\n      <th>7f76d66503</th>\n      <td>82</td>\n      <td>82</td>\n      <td>82</td>\n      <td>82</td>\n      <td>82</td>\n      <td>82</td>\n    </tr>\n    <tr>\n      <th>928a59b635</th>\n      <td>79</td>\n      <td>79</td>\n      <td>79</td>\n      <td>79</td>\n      <td>79</td>\n      <td>79</td>\n    </tr>\n    <tr>\n      <th>5c565fbfb1</th>\n      <td>76</td>\n      <td>76</td>\n      <td>76</td>\n      <td>76</td>\n      <td>76</td>\n      <td>76</td>\n    </tr>\n    <tr>\n      <th>...</th>\n      <td>...</td>\n      <td>...</td>\n      <td>...</td>\n      <td>...</td>\n      <td>...</td>\n      <td>...</td>\n    </tr>\n    <tr>\n      <th>cf2d02ac98</th>\n      <td>1</td>\n      <td>1</td>\n      <td>1</td>\n      <td>1</td>\n      <td>1</td>\n      <td>1</td>\n    </tr>\n    <tr>\n      <th>86a16450ae</th>\n      <td>1</td>\n      <td>1</td>\n      <td>1</td>\n      <td>1</td>\n      <td>1</td>\n      <td>1</td>\n    </tr>\n    <tr>\n      <th>d1251e1704</th>\n      <td>1</td>\n      <td>1</td>\n      <td>1</td>\n      <td>1</td>\n      <td>1</td>\n      <td>1</td>\n    </tr>\n    <tr>\n      <th>5083443d36</th>\n      <td>1</td>\n      <td>1</td>\n      <td>1</td>\n      <td>1</td>\n      <td>1</td>\n      <td>1</td>\n    </tr>\n    <tr>\n      <th>J2VnMbxAE+</th>\n      <td>1</td>\n      <td>1</td>\n      <td>1</td>\n      <td>1</td>\n      <td>1</td>\n      <td>1</td>\n    </tr>\n  </tbody>\n</table>\n<p>1281 rows × 6 columns</p>\n</div>",
      "text/plain": "            PRODUCT  VALUE  DATE_TIME  DW_A_NUMBER  DW_B_NUMBER  CELL_ID\nSITE_ID                                                                 \nb47a998a3e      136    136        136          136          136      136\na7bd4c027b       85     85         85           85           85       85\n7f76d66503       82     82         82           82           82       82\n928a59b635       79     79         79           79           79       79\n5c565fbfb1       76     76         76           76           76       76\n...             ...    ...        ...          ...          ...      ...\ncf2d02ac98        1      1          1            1            1        1\n86a16450ae        1      1          1            1            1        1\nd1251e1704        1      1          1            1            1        1\n5083443d36        1      1          1            1            1        1\nJ2VnMbxAE+        1      1          1            1            1        1\n\n[1281 rows x 6 columns]"
     },
     "execution_count": 73,
     "metadata": {},
     "output_type": "execute_result"
    }
   ],
   "source": [
    "#use count() to see how many times each site id was used in the three days.\r\n",
    "# ordered in descending order\r\n",
    "sitecount = site.count()\r\n",
    "siteid = sitecount.sort_values('VALUE',ascending = False)\r\n",
    "siteid"
   ]
  },
  {
   "cell_type": "code",
   "execution_count": 74,
   "metadata": {},
   "outputs": [
    {
     "data": {
      "text/html": "<div>\n<style scoped>\n    .dataframe tbody tr th:only-of-type {\n        vertical-align: middle;\n    }\n\n    .dataframe tbody tr th {\n        vertical-align: top;\n    }\n\n    .dataframe thead th {\n        text-align: right;\n    }\n</style>\n<table border=\"1\" class=\"dataframe\">\n  <thead>\n    <tr style=\"text-align: right;\">\n      <th></th>\n      <th>PRODUCT</th>\n      <th>VALUE</th>\n      <th>DATE_TIME</th>\n      <th>DW_A_NUMBER</th>\n      <th>DW_B_NUMBER</th>\n      <th>CELL_ID</th>\n    </tr>\n    <tr>\n      <th>SITE_ID</th>\n      <th></th>\n      <th></th>\n      <th></th>\n      <th></th>\n      <th></th>\n      <th></th>\n    </tr>\n  </thead>\n  <tbody>\n    <tr>\n      <th>b47a998a3e</th>\n      <td>136</td>\n      <td>136</td>\n      <td>136</td>\n      <td>136</td>\n      <td>136</td>\n      <td>136</td>\n    </tr>\n    <tr>\n      <th>a7bd4c027b</th>\n      <td>85</td>\n      <td>85</td>\n      <td>85</td>\n      <td>85</td>\n      <td>85</td>\n      <td>85</td>\n    </tr>\n    <tr>\n      <th>7f76d66503</th>\n      <td>82</td>\n      <td>82</td>\n      <td>82</td>\n      <td>82</td>\n      <td>82</td>\n      <td>82</td>\n    </tr>\n    <tr>\n      <th>928a59b635</th>\n      <td>79</td>\n      <td>79</td>\n      <td>79</td>\n      <td>79</td>\n      <td>79</td>\n      <td>79</td>\n    </tr>\n    <tr>\n      <th>5c565fbfb1</th>\n      <td>76</td>\n      <td>76</td>\n      <td>76</td>\n      <td>76</td>\n      <td>76</td>\n      <td>76</td>\n    </tr>\n    <tr>\n      <th>91e86be9a6</th>\n      <td>71</td>\n      <td>71</td>\n      <td>71</td>\n      <td>71</td>\n      <td>71</td>\n      <td>71</td>\n    </tr>\n    <tr>\n      <th>c07a544c63</th>\n      <td>69</td>\n      <td>69</td>\n      <td>69</td>\n      <td>69</td>\n      <td>69</td>\n      <td>69</td>\n    </tr>\n    <tr>\n      <th>47657c9634</th>\n      <td>69</td>\n      <td>69</td>\n      <td>69</td>\n      <td>69</td>\n      <td>69</td>\n      <td>69</td>\n    </tr>\n    <tr>\n      <th>bc58a52936</th>\n      <td>66</td>\n      <td>66</td>\n      <td>66</td>\n      <td>66</td>\n      <td>66</td>\n      <td>66</td>\n    </tr>\n    <tr>\n      <th>ebfc58af70</th>\n      <td>62</td>\n      <td>62</td>\n      <td>62</td>\n      <td>62</td>\n      <td>62</td>\n      <td>62</td>\n    </tr>\n    <tr>\n      <th>d06f40f9d5</th>\n      <td>61</td>\n      <td>61</td>\n      <td>61</td>\n      <td>61</td>\n      <td>61</td>\n      <td>61</td>\n    </tr>\n    <tr>\n      <th>d1809b909f</th>\n      <td>61</td>\n      <td>61</td>\n      <td>61</td>\n      <td>61</td>\n      <td>61</td>\n      <td>61</td>\n    </tr>\n    <tr>\n      <th>dac8dcaeb9</th>\n      <td>60</td>\n      <td>60</td>\n      <td>60</td>\n      <td>60</td>\n      <td>60</td>\n      <td>60</td>\n    </tr>\n    <tr>\n      <th>487765ff90</th>\n      <td>59</td>\n      <td>59</td>\n      <td>59</td>\n      <td>59</td>\n      <td>59</td>\n      <td>59</td>\n    </tr>\n    <tr>\n      <th>8fd6f8d1c5</th>\n      <td>59</td>\n      <td>59</td>\n      <td>59</td>\n      <td>59</td>\n      <td>59</td>\n      <td>59</td>\n    </tr>\n    <tr>\n      <th>d96dcd5475</th>\n      <td>59</td>\n      <td>59</td>\n      <td>59</td>\n      <td>59</td>\n      <td>59</td>\n      <td>59</td>\n    </tr>\n    <tr>\n      <th>585a3bc66c</th>\n      <td>57</td>\n      <td>57</td>\n      <td>57</td>\n      <td>57</td>\n      <td>57</td>\n      <td>57</td>\n    </tr>\n    <tr>\n      <th>9bb4b27356</th>\n      <td>54</td>\n      <td>54</td>\n      <td>54</td>\n      <td>54</td>\n      <td>54</td>\n      <td>54</td>\n    </tr>\n    <tr>\n      <th>c1ccd3443b</th>\n      <td>52</td>\n      <td>52</td>\n      <td>52</td>\n      <td>52</td>\n      <td>52</td>\n      <td>52</td>\n    </tr>\n    <tr>\n      <th>0f34c36ac5</th>\n      <td>51</td>\n      <td>51</td>\n      <td>51</td>\n      <td>51</td>\n      <td>51</td>\n      <td>51</td>\n    </tr>\n  </tbody>\n</table>\n</div>",
      "text/plain": "            PRODUCT  VALUE  DATE_TIME  DW_A_NUMBER  DW_B_NUMBER  CELL_ID\nSITE_ID                                                                 \nb47a998a3e      136    136        136          136          136      136\na7bd4c027b       85     85         85           85           85       85\n7f76d66503       82     82         82           82           82       82\n928a59b635       79     79         79           79           79       79\n5c565fbfb1       76     76         76           76           76       76\n91e86be9a6       71     71         71           71           71       71\nc07a544c63       69     69         69           69           69       69\n47657c9634       69     69         69           69           69       69\nbc58a52936       66     66         66           66           66       66\nebfc58af70       62     62         62           62           62       62\nd06f40f9d5       61     61         61           61           61       61\nd1809b909f       61     61         61           61           61       61\ndac8dcaeb9       60     60         60           60           60       60\n487765ff90       59     59         59           59           59       59\n8fd6f8d1c5       59     59         59           59           59       59\nd96dcd5475       59     59         59           59           59       59\n585a3bc66c       57     57         57           57           57       57\n9bb4b27356       54     54         54           54           54       54\nc1ccd3443b       52     52         52           52           52       52\n0f34c36ac5       51     51         51           51           51       51"
     },
     "execution_count": 74,
     "metadata": {},
     "output_type": "execute_result"
    }
   ],
   "source": [
    "#the top 10 most used sites in th three days\r\n",
    "siteid.head(20)"
   ]
  },
  {
   "cell_type": "code",
   "execution_count": 75,
   "metadata": {},
   "outputs": [
    {
     "data": {
      "text/plain": "PRODUCT        12895\nVALUE          12895\nDATE_TIME      12895\nDW_A_NUMBER    12895\nDW_B_NUMBER    12895\nCELL_ID        12895\ndtype: int64"
     },
     "execution_count": 75,
     "metadata": {},
     "output_type": "execute_result"
    }
   ],
   "source": [
    "siteid.sum()"
   ]
  },
  {
   "cell_type": "code",
   "execution_count": 76,
   "metadata": {},
   "outputs": [
    {
     "data": {
      "text/html": "<div>\n<style scoped>\n    .dataframe tbody tr th:only-of-type {\n        vertical-align: middle;\n    }\n\n    .dataframe tbody tr th {\n        vertical-align: top;\n    }\n\n    .dataframe thead th {\n        text-align: right;\n    }\n</style>\n<table border=\"1\" class=\"dataframe\">\n  <thead>\n    <tr style=\"text-align: right;\">\n      <th></th>\n      <th>PRODUCT</th>\n      <th>VALUE</th>\n      <th>DATE_TIME</th>\n      <th>DW_A_NUMBER</th>\n      <th>DW_B_NUMBER</th>\n      <th>CELL_ID</th>\n    </tr>\n    <tr>\n      <th>SITE_ID</th>\n      <th></th>\n      <th></th>\n      <th></th>\n      <th></th>\n      <th></th>\n      <th></th>\n    </tr>\n  </thead>\n  <tbody>\n    <tr>\n      <th>c1d42f5f3f</th>\n      <td>1</td>\n      <td>1</td>\n      <td>1</td>\n      <td>1</td>\n      <td>1</td>\n      <td>1</td>\n    </tr>\n    <tr>\n      <th>c58809bff2</th>\n      <td>1</td>\n      <td>1</td>\n      <td>1</td>\n      <td>1</td>\n      <td>1</td>\n      <td>1</td>\n    </tr>\n    <tr>\n      <th>ce1d1c2d2e</th>\n      <td>1</td>\n      <td>1</td>\n      <td>1</td>\n      <td>1</td>\n      <td>1</td>\n      <td>1</td>\n    </tr>\n    <tr>\n      <th>6e9d0c4534</th>\n      <td>1</td>\n      <td>1</td>\n      <td>1</td>\n      <td>1</td>\n      <td>1</td>\n      <td>1</td>\n    </tr>\n    <tr>\n      <th>12f8d90487</th>\n      <td>1</td>\n      <td>1</td>\n      <td>1</td>\n      <td>1</td>\n      <td>1</td>\n      <td>1</td>\n    </tr>\n    <tr>\n      <th>cf2d02ac98</th>\n      <td>1</td>\n      <td>1</td>\n      <td>1</td>\n      <td>1</td>\n      <td>1</td>\n      <td>1</td>\n    </tr>\n    <tr>\n      <th>86a16450ae</th>\n      <td>1</td>\n      <td>1</td>\n      <td>1</td>\n      <td>1</td>\n      <td>1</td>\n      <td>1</td>\n    </tr>\n    <tr>\n      <th>d1251e1704</th>\n      <td>1</td>\n      <td>1</td>\n      <td>1</td>\n      <td>1</td>\n      <td>1</td>\n      <td>1</td>\n    </tr>\n    <tr>\n      <th>5083443d36</th>\n      <td>1</td>\n      <td>1</td>\n      <td>1</td>\n      <td>1</td>\n      <td>1</td>\n      <td>1</td>\n    </tr>\n    <tr>\n      <th>J2VnMbxAE+</th>\n      <td>1</td>\n      <td>1</td>\n      <td>1</td>\n      <td>1</td>\n      <td>1</td>\n      <td>1</td>\n    </tr>\n  </tbody>\n</table>\n</div>",
      "text/plain": "            PRODUCT  VALUE  DATE_TIME  DW_A_NUMBER  DW_B_NUMBER  CELL_ID\nSITE_ID                                                                 \nc1d42f5f3f        1      1          1            1            1        1\nc58809bff2        1      1          1            1            1        1\nce1d1c2d2e        1      1          1            1            1        1\n6e9d0c4534        1      1          1            1            1        1\n12f8d90487        1      1          1            1            1        1\ncf2d02ac98        1      1          1            1            1        1\n86a16450ae        1      1          1            1            1        1\nd1251e1704        1      1          1            1            1        1\n5083443d36        1      1          1            1            1        1\nJ2VnMbxAE+        1      1          1            1            1        1"
     },
     "execution_count": 76,
     "metadata": {},
     "output_type": "execute_result"
    }
   ],
   "source": [
    "#the 10 least used sites in the three days\r\n",
    "siteid.tail(10)"
   ]
  },
  {
   "cell_type": "code",
   "execution_count": 77,
   "metadata": {},
   "outputs": [
    {
     "data": {
      "text/html": "<div>\n<style scoped>\n    .dataframe tbody tr th:only-of-type {\n        vertical-align: middle;\n    }\n\n    .dataframe tbody tr th {\n        vertical-align: top;\n    }\n\n    .dataframe thead th {\n        text-align: right;\n    }\n</style>\n<table border=\"1\" class=\"dataframe\">\n  <thead>\n    <tr style=\"text-align: right;\">\n      <th></th>\n      <th>PRODUCT</th>\n      <th>VALUE</th>\n      <th>DW_A_NUMBER</th>\n      <th>DW_B_NUMBER</th>\n      <th>CELL_ID</th>\n      <th>SITE_ID</th>\n    </tr>\n    <tr>\n      <th>DATE_TIME</th>\n      <th></th>\n      <th></th>\n      <th></th>\n      <th></th>\n      <th></th>\n      <th></th>\n    </tr>\n  </thead>\n  <tbody>\n    <tr>\n      <th>2012-05-06 23:04:37</th>\n      <td>2</td>\n      <td>2</td>\n      <td>2</td>\n      <td>2</td>\n      <td>2</td>\n      <td>2</td>\n    </tr>\n    <tr>\n      <th>2012-05-06 23:05:25</th>\n      <td>2</td>\n      <td>2</td>\n      <td>2</td>\n      <td>2</td>\n      <td>2</td>\n      <td>2</td>\n    </tr>\n    <tr>\n      <th>2012-05-06 23:05:41</th>\n      <td>2</td>\n      <td>2</td>\n      <td>2</td>\n      <td>2</td>\n      <td>2</td>\n      <td>2</td>\n    </tr>\n    <tr>\n      <th>2012-05-06 23:05:42</th>\n      <td>2</td>\n      <td>2</td>\n      <td>2</td>\n      <td>2</td>\n      <td>2</td>\n      <td>2</td>\n    </tr>\n    <tr>\n      <th>2012-05-06 23:06:29</th>\n      <td>2</td>\n      <td>2</td>\n      <td>2</td>\n      <td>2</td>\n      <td>2</td>\n      <td>2</td>\n    </tr>\n    <tr>\n      <th>...</th>\n      <td>...</td>\n      <td>...</td>\n      <td>...</td>\n      <td>...</td>\n      <td>...</td>\n      <td>...</td>\n    </tr>\n    <tr>\n      <th>2012-05-08 00:01:49</th>\n      <td>42</td>\n      <td>42</td>\n      <td>42</td>\n      <td>42</td>\n      <td>42</td>\n      <td>42</td>\n    </tr>\n    <tr>\n      <th>2012-05-08 00:01:50</th>\n      <td>39</td>\n      <td>39</td>\n      <td>39</td>\n      <td>39</td>\n      <td>39</td>\n      <td>39</td>\n    </tr>\n    <tr>\n      <th>2012-05-08 00:01:51</th>\n      <td>37</td>\n      <td>37</td>\n      <td>37</td>\n      <td>37</td>\n      <td>37</td>\n      <td>37</td>\n    </tr>\n    <tr>\n      <th>2012-05-08 00:01:52</th>\n      <td>36</td>\n      <td>36</td>\n      <td>36</td>\n      <td>36</td>\n      <td>36</td>\n      <td>36</td>\n    </tr>\n    <tr>\n      <th>2012-05-08 00:01:53</th>\n      <td>36</td>\n      <td>36</td>\n      <td>36</td>\n      <td>36</td>\n      <td>36</td>\n      <td>36</td>\n    </tr>\n  </tbody>\n</table>\n<p>1496 rows × 6 columns</p>\n</div>",
      "text/plain": "                     PRODUCT  VALUE  DW_A_NUMBER  DW_B_NUMBER  CELL_ID  \\\nDATE_TIME                                                                \n2012-05-06 23:04:37        2      2            2            2        2   \n2012-05-06 23:05:25        2      2            2            2        2   \n2012-05-06 23:05:41        2      2            2            2        2   \n2012-05-06 23:05:42        2      2            2            2        2   \n2012-05-06 23:06:29        2      2            2            2        2   \n...                      ...    ...          ...          ...      ...   \n2012-05-08 00:01:49       42     42           42           42       42   \n2012-05-08 00:01:50       39     39           39           39       39   \n2012-05-08 00:01:51       37     37           37           37       37   \n2012-05-08 00:01:52       36     36           36           36       36   \n2012-05-08 00:01:53       36     36           36           36       36   \n\n                     SITE_ID  \nDATE_TIME                     \n2012-05-06 23:04:37        2  \n2012-05-06 23:05:25        2  \n2012-05-06 23:05:41        2  \n2012-05-06 23:05:42        2  \n2012-05-06 23:06:29        2  \n...                      ...  \n2012-05-08 00:01:49       42  \n2012-05-08 00:01:50       39  \n2012-05-08 00:01:51       37  \n2012-05-08 00:01:52       36  \n2012-05-08 00:01:53       36  \n\n[1496 rows x 6 columns]"
     },
     "execution_count": 77,
     "metadata": {},
     "output_type": "execute_result"
    }
   ],
   "source": [
    "#grouping by time\r\n",
    "time = dftel.groupby('DATE_TIME')\r\n",
    "time2 =time.count()\r\n",
    "time2"
   ]
  },
  {
   "cell_type": "code",
   "execution_count": 78,
   "metadata": {},
   "outputs": [
    {
     "data": {
      "text/html": "<div>\n<style scoped>\n    .dataframe tbody tr th:only-of-type {\n        vertical-align: middle;\n    }\n\n    .dataframe tbody tr th {\n        vertical-align: top;\n    }\n\n    .dataframe thead th {\n        text-align: right;\n    }\n</style>\n<table border=\"1\" class=\"dataframe\">\n  <thead>\n    <tr style=\"text-align: right;\">\n      <th></th>\n      <th>PRODUCT</th>\n      <th>VALUE</th>\n      <th>DW_A_NUMBER</th>\n      <th>DW_B_NUMBER</th>\n      <th>CELL_ID</th>\n      <th>SITE_ID</th>\n    </tr>\n    <tr>\n      <th>DATE_TIME</th>\n      <th></th>\n      <th></th>\n      <th></th>\n      <th></th>\n      <th></th>\n      <th></th>\n    </tr>\n  </thead>\n  <tbody>\n    <tr>\n      <th>2012-05-07 00:00:05</th>\n      <td>92</td>\n      <td>92</td>\n      <td>92</td>\n      <td>92</td>\n      <td>92</td>\n      <td>92</td>\n    </tr>\n    <tr>\n      <th>2012-05-07 00:01:41</th>\n      <td>92</td>\n      <td>92</td>\n      <td>92</td>\n      <td>92</td>\n      <td>92</td>\n      <td>92</td>\n    </tr>\n    <tr>\n      <th>2012-05-07 00:00:06</th>\n      <td>88</td>\n      <td>88</td>\n      <td>88</td>\n      <td>88</td>\n      <td>88</td>\n      <td>88</td>\n    </tr>\n    <tr>\n      <th>2012-05-07 00:01:32</th>\n      <td>88</td>\n      <td>88</td>\n      <td>88</td>\n      <td>88</td>\n      <td>88</td>\n      <td>88</td>\n    </tr>\n    <tr>\n      <th>2012-05-07 00:00:20</th>\n      <td>84</td>\n      <td>84</td>\n      <td>84</td>\n      <td>84</td>\n      <td>84</td>\n      <td>84</td>\n    </tr>\n    <tr>\n      <th>...</th>\n      <td>...</td>\n      <td>...</td>\n      <td>...</td>\n      <td>...</td>\n      <td>...</td>\n      <td>...</td>\n    </tr>\n    <tr>\n      <th>2012-05-08 00:00:40</th>\n      <td>28</td>\n      <td>28</td>\n      <td>28</td>\n      <td>28</td>\n      <td>28</td>\n      <td>28</td>\n    </tr>\n    <tr>\n      <th>2012-05-08 00:01:06</th>\n      <td>28</td>\n      <td>28</td>\n      <td>28</td>\n      <td>28</td>\n      <td>28</td>\n      <td>28</td>\n    </tr>\n    <tr>\n      <th>2012-05-08 00:01:21</th>\n      <td>28</td>\n      <td>28</td>\n      <td>28</td>\n      <td>28</td>\n      <td>28</td>\n      <td>28</td>\n    </tr>\n    <tr>\n      <th>2012-05-08 00:00:20</th>\n      <td>27</td>\n      <td>27</td>\n      <td>27</td>\n      <td>27</td>\n      <td>27</td>\n      <td>27</td>\n    </tr>\n    <tr>\n      <th>2012-05-08 00:00:38</th>\n      <td>27</td>\n      <td>27</td>\n      <td>27</td>\n      <td>27</td>\n      <td>27</td>\n      <td>27</td>\n    </tr>\n  </tbody>\n</table>\n<p>200 rows × 6 columns</p>\n</div>",
      "text/plain": "                     PRODUCT  VALUE  DW_A_NUMBER  DW_B_NUMBER  CELL_ID  \\\nDATE_TIME                                                                \n2012-05-07 00:00:05       92     92           92           92       92   \n2012-05-07 00:01:41       92     92           92           92       92   \n2012-05-07 00:00:06       88     88           88           88       88   \n2012-05-07 00:01:32       88     88           88           88       88   \n2012-05-07 00:00:20       84     84           84           84       84   \n...                      ...    ...          ...          ...      ...   \n2012-05-08 00:00:40       28     28           28           28       28   \n2012-05-08 00:01:06       28     28           28           28       28   \n2012-05-08 00:01:21       28     28           28           28       28   \n2012-05-08 00:00:20       27     27           27           27       27   \n2012-05-08 00:00:38       27     27           27           27       27   \n\n                     SITE_ID  \nDATE_TIME                     \n2012-05-07 00:00:05       92  \n2012-05-07 00:01:41       92  \n2012-05-07 00:00:06       88  \n2012-05-07 00:01:32       88  \n2012-05-07 00:00:20       84  \n...                      ...  \n2012-05-08 00:00:40       28  \n2012-05-08 00:01:06       28  \n2012-05-08 00:01:21       28  \n2012-05-08 00:00:20       27  \n2012-05-08 00:00:38       27  \n\n[200 rows x 6 columns]"
     },
     "execution_count": 78,
     "metadata": {},
     "output_type": "execute_result"
    }
   ],
   "source": [
    "#preview of the top 200 time frames\r\n",
    "timesort = time2.sort_values('PRODUCT',ascending = False)\r\n",
    "timesort.head(200)"
   ]
  },
  {
   "cell_type": "code",
   "execution_count": 79,
   "metadata": {},
   "outputs": [],
   "source": [
    "#grouping by date\r\n",
    "Date =dftel.resample('D', on = 'DATE_TIME')\r\n"
   ]
  },
  {
   "cell_type": "code",
   "execution_count": 80,
   "metadata": {},
   "outputs": [
    {
     "data": {
      "text/html": "<div>\n<style scoped>\n    .dataframe tbody tr th:only-of-type {\n        vertical-align: middle;\n    }\n\n    .dataframe tbody tr th {\n        vertical-align: top;\n    }\n\n    .dataframe thead th {\n        text-align: right;\n    }\n</style>\n<table border=\"1\" class=\"dataframe\">\n  <thead>\n    <tr style=\"text-align: right;\">\n      <th></th>\n      <th>PRODUCT</th>\n      <th>VALUE</th>\n      <th>DATE_TIME</th>\n      <th>DW_A_NUMBER</th>\n      <th>DW_B_NUMBER</th>\n      <th>CELL_ID</th>\n      <th>SITE_ID</th>\n    </tr>\n    <tr>\n      <th>DATE_TIME</th>\n      <th></th>\n      <th></th>\n      <th></th>\n      <th></th>\n      <th></th>\n      <th></th>\n      <th></th>\n    </tr>\n  </thead>\n  <tbody>\n    <tr>\n      <th>2012-05-06</th>\n      <td>1324</td>\n      <td>1324</td>\n      <td>1324</td>\n      <td>1324</td>\n      <td>1324</td>\n      <td>1324</td>\n      <td>1324</td>\n    </tr>\n    <tr>\n      <th>2012-05-07</th>\n      <td>8012</td>\n      <td>8012</td>\n      <td>8012</td>\n      <td>8012</td>\n      <td>8012</td>\n      <td>8012</td>\n      <td>8012</td>\n    </tr>\n    <tr>\n      <th>2012-05-08</th>\n      <td>3559</td>\n      <td>3559</td>\n      <td>3559</td>\n      <td>3559</td>\n      <td>3559</td>\n      <td>3559</td>\n      <td>3559</td>\n    </tr>\n  </tbody>\n</table>\n</div>",
      "text/plain": "            PRODUCT  VALUE  DATE_TIME  DW_A_NUMBER  DW_B_NUMBER  CELL_ID  \\\nDATE_TIME                                                                  \n2012-05-06     1324   1324       1324         1324         1324     1324   \n2012-05-07     8012   8012       8012         8012         8012     8012   \n2012-05-08     3559   3559       3559         3559         3559     3559   \n\n            SITE_ID  \nDATE_TIME            \n2012-05-06     1324  \n2012-05-07     8012  \n2012-05-08     3559  "
     },
     "execution_count": 80,
     "metadata": {},
     "output_type": "execute_result"
    }
   ],
   "source": [
    "Datecount = Date.count()\r\n",
    "Datecount"
   ]
  },
  {
   "cell_type": "code",
   "execution_count": 81,
   "metadata": {},
   "outputs": [],
   "source": [
    "#grouping by time per hour\r\n",
    "hour =dftel.resample('H', on = 'DATE_TIME')"
   ]
  },
  {
   "cell_type": "code",
   "execution_count": 82,
   "metadata": {},
   "outputs": [
    {
     "data": {
      "text/html": "<div>\n<style scoped>\n    .dataframe tbody tr th:only-of-type {\n        vertical-align: middle;\n    }\n\n    .dataframe tbody tr th {\n        vertical-align: top;\n    }\n\n    .dataframe thead th {\n        text-align: right;\n    }\n</style>\n<table border=\"1\" class=\"dataframe\">\n  <thead>\n    <tr style=\"text-align: right;\">\n      <th></th>\n      <th>PRODUCT</th>\n      <th>VALUE</th>\n      <th>DATE_TIME</th>\n      <th>DW_A_NUMBER</th>\n      <th>DW_B_NUMBER</th>\n      <th>CELL_ID</th>\n      <th>SITE_ID</th>\n    </tr>\n    <tr>\n      <th>DATE_TIME</th>\n      <th></th>\n      <th></th>\n      <th></th>\n      <th></th>\n      <th></th>\n      <th></th>\n      <th></th>\n    </tr>\n  </thead>\n  <tbody>\n    <tr>\n      <th>2012-05-06 23:00:00</th>\n      <td>1324</td>\n      <td>1324</td>\n      <td>1324</td>\n      <td>1324</td>\n      <td>1324</td>\n      <td>1324</td>\n      <td>1324</td>\n    </tr>\n    <tr>\n      <th>2012-05-07 00:00:00</th>\n      <td>7246</td>\n      <td>7246</td>\n      <td>7246</td>\n      <td>7246</td>\n      <td>7246</td>\n      <td>7246</td>\n      <td>7246</td>\n    </tr>\n    <tr>\n      <th>2012-05-07 01:00:00</th>\n      <td>0</td>\n      <td>0</td>\n      <td>0</td>\n      <td>0</td>\n      <td>0</td>\n      <td>0</td>\n      <td>0</td>\n    </tr>\n    <tr>\n      <th>2012-05-07 02:00:00</th>\n      <td>0</td>\n      <td>0</td>\n      <td>0</td>\n      <td>0</td>\n      <td>0</td>\n      <td>0</td>\n      <td>0</td>\n    </tr>\n    <tr>\n      <th>2012-05-07 03:00:00</th>\n      <td>0</td>\n      <td>0</td>\n      <td>0</td>\n      <td>0</td>\n      <td>0</td>\n      <td>0</td>\n      <td>0</td>\n    </tr>\n    <tr>\n      <th>2012-05-07 04:00:00</th>\n      <td>0</td>\n      <td>0</td>\n      <td>0</td>\n      <td>0</td>\n      <td>0</td>\n      <td>0</td>\n      <td>0</td>\n    </tr>\n    <tr>\n      <th>2012-05-07 05:00:00</th>\n      <td>0</td>\n      <td>0</td>\n      <td>0</td>\n      <td>0</td>\n      <td>0</td>\n      <td>0</td>\n      <td>0</td>\n    </tr>\n    <tr>\n      <th>2012-05-07 06:00:00</th>\n      <td>0</td>\n      <td>0</td>\n      <td>0</td>\n      <td>0</td>\n      <td>0</td>\n      <td>0</td>\n      <td>0</td>\n    </tr>\n    <tr>\n      <th>2012-05-07 07:00:00</th>\n      <td>0</td>\n      <td>0</td>\n      <td>0</td>\n      <td>0</td>\n      <td>0</td>\n      <td>0</td>\n      <td>0</td>\n    </tr>\n    <tr>\n      <th>2012-05-07 08:00:00</th>\n      <td>0</td>\n      <td>0</td>\n      <td>0</td>\n      <td>0</td>\n      <td>0</td>\n      <td>0</td>\n      <td>0</td>\n    </tr>\n    <tr>\n      <th>2012-05-07 09:00:00</th>\n      <td>0</td>\n      <td>0</td>\n      <td>0</td>\n      <td>0</td>\n      <td>0</td>\n      <td>0</td>\n      <td>0</td>\n    </tr>\n    <tr>\n      <th>2012-05-07 10:00:00</th>\n      <td>0</td>\n      <td>0</td>\n      <td>0</td>\n      <td>0</td>\n      <td>0</td>\n      <td>0</td>\n      <td>0</td>\n    </tr>\n    <tr>\n      <th>2012-05-07 11:00:00</th>\n      <td>0</td>\n      <td>0</td>\n      <td>0</td>\n      <td>0</td>\n      <td>0</td>\n      <td>0</td>\n      <td>0</td>\n    </tr>\n    <tr>\n      <th>2012-05-07 12:00:00</th>\n      <td>0</td>\n      <td>0</td>\n      <td>0</td>\n      <td>0</td>\n      <td>0</td>\n      <td>0</td>\n      <td>0</td>\n    </tr>\n    <tr>\n      <th>2012-05-07 13:00:00</th>\n      <td>0</td>\n      <td>0</td>\n      <td>0</td>\n      <td>0</td>\n      <td>0</td>\n      <td>0</td>\n      <td>0</td>\n    </tr>\n    <tr>\n      <th>2012-05-07 14:00:00</th>\n      <td>0</td>\n      <td>0</td>\n      <td>0</td>\n      <td>0</td>\n      <td>0</td>\n      <td>0</td>\n      <td>0</td>\n    </tr>\n    <tr>\n      <th>2012-05-07 15:00:00</th>\n      <td>0</td>\n      <td>0</td>\n      <td>0</td>\n      <td>0</td>\n      <td>0</td>\n      <td>0</td>\n      <td>0</td>\n    </tr>\n    <tr>\n      <th>2012-05-07 16:00:00</th>\n      <td>0</td>\n      <td>0</td>\n      <td>0</td>\n      <td>0</td>\n      <td>0</td>\n      <td>0</td>\n      <td>0</td>\n    </tr>\n    <tr>\n      <th>2012-05-07 17:00:00</th>\n      <td>0</td>\n      <td>0</td>\n      <td>0</td>\n      <td>0</td>\n      <td>0</td>\n      <td>0</td>\n      <td>0</td>\n    </tr>\n    <tr>\n      <th>2012-05-07 18:00:00</th>\n      <td>0</td>\n      <td>0</td>\n      <td>0</td>\n      <td>0</td>\n      <td>0</td>\n      <td>0</td>\n      <td>0</td>\n    </tr>\n    <tr>\n      <th>2012-05-07 19:00:00</th>\n      <td>0</td>\n      <td>0</td>\n      <td>0</td>\n      <td>0</td>\n      <td>0</td>\n      <td>0</td>\n      <td>0</td>\n    </tr>\n    <tr>\n      <th>2012-05-07 20:00:00</th>\n      <td>0</td>\n      <td>0</td>\n      <td>0</td>\n      <td>0</td>\n      <td>0</td>\n      <td>0</td>\n      <td>0</td>\n    </tr>\n    <tr>\n      <th>2012-05-07 21:00:00</th>\n      <td>0</td>\n      <td>0</td>\n      <td>0</td>\n      <td>0</td>\n      <td>0</td>\n      <td>0</td>\n      <td>0</td>\n    </tr>\n    <tr>\n      <th>2012-05-07 22:00:00</th>\n      <td>0</td>\n      <td>0</td>\n      <td>0</td>\n      <td>0</td>\n      <td>0</td>\n      <td>0</td>\n      <td>0</td>\n    </tr>\n    <tr>\n      <th>2012-05-07 23:00:00</th>\n      <td>766</td>\n      <td>766</td>\n      <td>766</td>\n      <td>766</td>\n      <td>766</td>\n      <td>766</td>\n      <td>766</td>\n    </tr>\n    <tr>\n      <th>2012-05-08 00:00:00</th>\n      <td>3559</td>\n      <td>3559</td>\n      <td>3559</td>\n      <td>3559</td>\n      <td>3559</td>\n      <td>3559</td>\n      <td>3559</td>\n    </tr>\n  </tbody>\n</table>\n</div>",
      "text/plain": "                     PRODUCT  VALUE  DATE_TIME  DW_A_NUMBER  DW_B_NUMBER  \\\nDATE_TIME                                                                  \n2012-05-06 23:00:00     1324   1324       1324         1324         1324   \n2012-05-07 00:00:00     7246   7246       7246         7246         7246   \n2012-05-07 01:00:00        0      0          0            0            0   \n2012-05-07 02:00:00        0      0          0            0            0   \n2012-05-07 03:00:00        0      0          0            0            0   \n2012-05-07 04:00:00        0      0          0            0            0   \n2012-05-07 05:00:00        0      0          0            0            0   \n2012-05-07 06:00:00        0      0          0            0            0   \n2012-05-07 07:00:00        0      0          0            0            0   \n2012-05-07 08:00:00        0      0          0            0            0   \n2012-05-07 09:00:00        0      0          0            0            0   \n2012-05-07 10:00:00        0      0          0            0            0   \n2012-05-07 11:00:00        0      0          0            0            0   \n2012-05-07 12:00:00        0      0          0            0            0   \n2012-05-07 13:00:00        0      0          0            0            0   \n2012-05-07 14:00:00        0      0          0            0            0   \n2012-05-07 15:00:00        0      0          0            0            0   \n2012-05-07 16:00:00        0      0          0            0            0   \n2012-05-07 17:00:00        0      0          0            0            0   \n2012-05-07 18:00:00        0      0          0            0            0   \n2012-05-07 19:00:00        0      0          0            0            0   \n2012-05-07 20:00:00        0      0          0            0            0   \n2012-05-07 21:00:00        0      0          0            0            0   \n2012-05-07 22:00:00        0      0          0            0            0   \n2012-05-07 23:00:00      766    766        766          766          766   \n2012-05-08 00:00:00     3559   3559       3559         3559         3559   \n\n                     CELL_ID  SITE_ID  \nDATE_TIME                              \n2012-05-06 23:00:00     1324     1324  \n2012-05-07 00:00:00     7246     7246  \n2012-05-07 01:00:00        0        0  \n2012-05-07 02:00:00        0        0  \n2012-05-07 03:00:00        0        0  \n2012-05-07 04:00:00        0        0  \n2012-05-07 05:00:00        0        0  \n2012-05-07 06:00:00        0        0  \n2012-05-07 07:00:00        0        0  \n2012-05-07 08:00:00        0        0  \n2012-05-07 09:00:00        0        0  \n2012-05-07 10:00:00        0        0  \n2012-05-07 11:00:00        0        0  \n2012-05-07 12:00:00        0        0  \n2012-05-07 13:00:00        0        0  \n2012-05-07 14:00:00        0        0  \n2012-05-07 15:00:00        0        0  \n2012-05-07 16:00:00        0        0  \n2012-05-07 17:00:00        0        0  \n2012-05-07 18:00:00        0        0  \n2012-05-07 19:00:00        0        0  \n2012-05-07 20:00:00        0        0  \n2012-05-07 21:00:00        0        0  \n2012-05-07 22:00:00        0        0  \n2012-05-07 23:00:00      766      766  \n2012-05-08 00:00:00     3559     3559  "
     },
     "execution_count": 82,
     "metadata": {},
     "output_type": "execute_result"
    }
   ],
   "source": [
    "#Number of entries recorded per hour\r\n",
    "hourcount = hour.count()\r\n",
    "hourcount"
   ]
  },
  {
   "cell_type": "markdown",
   "metadata": {},
   "source": [
    "EVALUATION"
   ]
  },
  {
   "cell_type": "markdown",
   "metadata": {},
   "source": [
    "This analysis yeilded the following information that should be considered in the infrastructure upgrading strategy.\r\n",
    "1. The most popular product used in the 3 days was voice followed by sms and then data.\r\n",
    "   The total value(from billing information) gotten from each product was:\r\n",
    "        Voice - 321,224\r\n",
    "        sms - 39,659\r\n",
    "        data - 1,999 \r\n",
    "2. In terms of localisation about 41.72% of the data recorded was from Abidjan and the Interior recorded \r\n",
    "   about 58.27% of the data.\r\n",
    "3. All the data was recorded within 3 days.\r\n",
    "4. Of the 3days the 7th of May recorded the most entries which were 8,012 followed by 8th of May with 3,559\r\n",
    "   and 6th May with 1,999\r\n",
    "5. Most of the data recorded was between the hours of 2300HRS and midnight."
   ]
  }
 ],
 "metadata": {
  "kernelspec": {
   "display_name": "Python 3.9.4 64-bit",
   "name": "python394jvsc74a57bd0e4612d8a413507cc118964429914cb829595271ab1f82b1ddaa9b4cef101f2b4"
  },
  "language_info": {
   "name": "python",
   "version": ""
  },
  "metadata": {
   "interpreter": {
    "hash": "e4612d8a413507cc118964429914cb829595271ab1f82b1ddaa9b4cef101f2b4"
   }
  },
  "orig_nbformat": 2
 },
 "nbformat": 4,
 "nbformat_minor": 2
}